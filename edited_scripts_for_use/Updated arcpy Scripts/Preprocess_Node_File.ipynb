{
 "cells": [
  {
   "cell_type": "code",
   "execution_count": 1,
   "metadata": {},
   "outputs": [],
   "source": [
    "file = r'C:\\Users\\ywx12\\Desktop\\PhD\\RA\\ProtectedLand\\ProtConn_CALC\\data\\REGION_PA\\STATES_1\\testPA.gdb\\PA_230km_AK_July2021'"
   ]
  },
  {
   "cell_type": "code",
   "execution_count": 10,
   "metadata": {},
   "outputs": [],
   "source": [
    "outpath = r'C:\\Users\\ywx12\\Desktop\\PhD\\RA\\ProtectedLand\\ProtConn_CALC\\data\\REGION_PA\\STATES_1'\n",
    "outfile_attr = 'AK_samp.csv'\n",
    "file_final = r'C:\\Users\\ywx12\\Desktop\\PhD\\RA\\ProtectedLand\\ProtConn_CALC\\data\\REGION_PA\\STATES_1\\AK_samp.shp'"
   ]
  },
  {
   "cell_type": "code",
   "execution_count": 3,
   "metadata": {},
   "outputs": [],
   "source": [
    "import arcpy"
   ]
  },
  {
   "cell_type": "code",
   "execution_count": 4,
   "metadata": {},
   "outputs": [
    {
     "name": "stdout",
     "output_type": "stream",
     "text": [
      "Field nodeID computed\n",
      "Final layer copied\n"
     ]
    }
   ],
   "source": [
    "# Process: Add Field nodeID\n",
    "arcpy.AddField_management(file, \"nodeID\", \"LONG\", \"\", \"\", \"\", \"\", \"NULLABLE\", \"NON_REQUIRED\", \"\")\n",
    "\n",
    "# Process: Calculate Field\n",
    "arcpy.CalculateField_management(file, \"nodeID\", \"!OBJECTID!\", \"PYTHON\", \"\")\n",
    "print(\"Field nodeID computed\")\n",
    "\n",
    "# Process: Copy Features (2)\n",
    "arcpy.CopyFeatures_management(file, file_final, \"\", \"0\", \"0\", \"0\")\n",
    "print(\"Final layer copied\")"
   ]
  },
  {
   "cell_type": "code",
   "execution_count": 11,
   "metadata": {},
   "outputs": [
    {
     "name": "stdout",
     "output_type": "stream",
     "text": [
      "Attribute Table exported in .txt\n"
     ]
    }
   ],
   "source": [
    "# Table to table (txt) with field mapping (in alternative to copy rows)\n",
    "# arcpy.TableToTable_conversion(in_rows=wdpa_flat_1km_final, out_path=outpath, out_name=outfile_attr,field_mapping='OBJECTID \"nodeID\" true true false 4 Long 0 0 ,First,#,Z:/globes/USERS/GIACOMO/protconn/data/ProtConn_jun2020.gdb/wdpa_flat_1km_final,nodeID,-1,-1;ISO3final \"ISO3final\" true true false 50 Text 0 0 ,First,#,Z:/globes/USERS/GIACOMO/protconn/data/ProtConn_jun2020.gdb/wdpa_flat_1km_final,ISO3final,-1,-1;AREA_GEO \"AREA_GEO\" true true false 8 Double 0 0 ,First,#,Z:/globes/USERS/GIACOMO/protconn/data/ProtConn_jun2020.gdb/wdpa_flat_1km_final,AREA_GEO,-1,-1;ORIG_FID \"ORIG_FID\" true true false 4 Long 0 0 ,First,#,Z:/globes/USERS/GIACOMO/protconn/data/ProtConn_jun2020.gdb/wdpa_flat_1km_final,ORIG_FID,-1,-1;Shape_Leng \"Shape_Leng\" false true true 8 Double 0 0 ,First,#,Z:/globes/USERS/GIACOMO/protconn/data/ProtConn_jun2020.gdb/wdpa_flat_1km_final,Shape_Length,-1,-1;Shape_Area \"Shape_Area\" false true true 8 Double 0 0 ,First,#,Z:/globes/USERS/GIACOMO/protconn/data/ProtConn_jun2020.gdb/wdpa_flat_1km_final,Shape_Area,-1,-1')\n",
    "arcpy.TableToTable_conversion(in_rows=file_final, out_path=outpath, out_name=outfile_attr)\n",
    "print(\"Attribute Table exported in .csv\")"
   ]
  },
  {
   "cell_type": "code",
   "execution_count": 12,
   "metadata": {},
   "outputs": [],
   "source": [
    "tab_file = r'C:\\Users\\ywx12\\Desktop\\PhD\\RA\\ProtectedLand\\ProtConn_CALC\\data\\REGION_PA\\STATES_1\\neartab.gdb\\Near_tab_PA_230km_AK_July2021'"
   ]
  },
  {
   "cell_type": "code",
   "execution_count": 13,
   "metadata": {},
   "outputs": [
    {
     "data": {
      "text/html": [
       "<h2>Output</h2>C:\\Users\\ywx12\\Desktop\\PhD\\RA\\ProtectedLand\\ProtConn_CALC\\data\\REGION_PA\\STATES_1\\AK_samp_neartab.csv<h2>Messages</h2>Start Time: Saturday, August 21, 2021 4:15:14 PM<br/>Succeeded at Saturday, August 21, 2021 4:15:14 PM (Elapsed Time: 0.13 seconds)<br/><style>.rendered_html td, .rendered_html th {text-align: left;}.rendered_html tbody {border: 1px solid black;}</style>"
      ],
      "text/plain": [
       "<Result 'C:\\\\Users\\\\ywx12\\\\Desktop\\\\PhD\\\\RA\\\\ProtectedLand\\\\ProtConn_CALC\\\\data\\\\REGION_PA\\\\STATES_1\\\\AK_samp_neartab.csv'>"
      ]
     },
     "execution_count": 13,
     "metadata": {},
     "output_type": "execute_result"
    }
   ],
   "source": [
    "arcpy.TableToTable_conversion(in_rows=tab_file, out_path=outpath, out_name='AK_samp_neartab.csv')"
   ]
  }
 ],
 "metadata": {
  "kernelspec": {
   "display_name": "ArcGISPro",
   "language": "Python",
   "name": "python3"
  },
  "language_info": {
   "file_extension": ".py",
   "name": "python",
   "version": "3"
  }
 },
 "nbformat": 4,
 "nbformat_minor": 2
}
