{
 "cells": [
  {
   "cell_type": "code",
   "execution_count": 1,
   "metadata": {},
   "outputs": [],
   "source": [
    "import arcpy\n",
    "import os\n",
    "from datetime import datetime"
   ]
  },
  {
   "cell_type": "code",
   "execution_count": 3,
   "metadata": {},
   "outputs": [],
   "source": [
    "# input geodatabase of the feature classes\n",
    "fc_gdb = r'C:\\Users\\ywx12\\Desktop\\PhD\\RA\\ProtectedLand\\ProtConn_CALC\\data\\REGION_PA\\STATES_1\\Region_PA_States.gdb'\n",
    "\n",
    "# output geodatabase of the near table results\n",
    "out_folder = r'C:\\Users\\ywx12\\Desktop\\PhD\\RA\\ProtectedLand\\ProtConn_CALC\\data\\REGION_PA\\STATES_1'\n",
    "outgdb = 'neartab.gdb'\n",
    "\n",
    "# create the output geodatabase if not exists\n",
    "if not arcpy.Exists(os.path.join(out_folder, outgdb)):\n",
    "    arcpy.CreateFileGDB_management(out_folder, outgdb)"
   ]
  },
  {
   "cell_type": "code",
   "execution_count": 4,
   "metadata": {},
   "outputs": [],
   "source": [
    "arcpy.env.workspace = fc_gdb\n",
    "name_fc = arcpy.ListFeatureClasses()"
   ]
  },
  {
   "cell_type": "code",
   "execution_count": null,
   "metadata": {},
   "outputs": [],
   "source": [
    "for n in name_fc:\n",
    "    try:\n",
    "        time0 = time.time()\n",
    "        prefix_name = n\n",
    "        path_fc = os.path.join(fc_gdb, n)\n",
    "        outfile = os.path.join(out_folder, outgdb, 'Near_tab_' + prefix_name)\n",
    "        arcpy.GenerateNearTable_analysis(path_fc, path_fc, \n",
    "                                     outfile,\n",
    "                                     \"230 Kilometers\",\n",
    "                                     \"NO_LOCATION\",\n",
    "                                     \"NO_ANGLE\",\n",
    "                                     \"ALL\",\n",
    "                                     \"\",\n",
    "                                     \"GEODESIC\")\n",
    "        time1 = time.time()\n",
    "        totaltime = (time1-time0)/60\n",
    "        print(n + ' done, time lapsed: ' +  \"{:.2f}\".format(totaltime))\n",
    "    except Exception as e:\n",
    "        print(e)"
   ]
  }
 ],
 "metadata": {
  "kernelspec": {
   "display_name": "ArcGISPro",
   "language": "Python",
   "name": "python3"
  },
  "language_info": {
   "file_extension": ".py",
   "name": "python",
   "version": "3"
  }
 },
 "nbformat": 4,
 "nbformat_minor": 2
}
