{
 "cells": [
  {
   "cell_type": "markdown",
   "metadata": {},
   "source": [
    "- Get relevant PA (select GAP status code for PADUS)\n",
    "- Simplify and repair geometry"
   ]
  },
  {
   "cell_type": "code",
   "execution_count": 1,
   "metadata": {},
   "outputs": [],
   "source": [
    "import sys\n",
    "import arcpy\n",
    "from arcpy import env\n",
    "import os\n",
    "import os.path\n",
    "import arcpy.cartography as CA"
   ]
  },
  {
   "cell_type": "code",
   "execution_count": 2,
   "metadata": {},
   "outputs": [],
   "source": [
    "log = open(r\"C:\\Users\\ywx12\\Desktop\\PhD\\RA\\ProtectedLand\\ProtConn_CALC\\data\\logs\\a1_country.log\", \"a\")\n",
    "sys.stdout = log\n",
    "\n",
    "from datetime import datetime\n",
    "firststarttime=datetime.now()\n",
    "\n",
    "print(\" \")\n",
    "print(\"PROCEDURE STARTED at \", datetime.now().strftime('%Y-%m-%d %H:%M:%S'))\n",
    "print('-------------------------------------------------------')\n",
    "\n",
    "# Set environment variables\n",
    "arcpy.env.overwriteOutput = True"
   ]
  },
  {
   "cell_type": "code",
   "execution_count": 3,
   "metadata": {},
   "outputs": [],
   "source": [
    "# Local variables:\n",
    "# Input layers\n",
    "PA_input = r'C:\\Users\\ywx12\\Desktop\\PhD\\RA\\ProtectedLand\\ProtConn_CALC\\data\\PA\\PAD_US2_1.gdb\\PADUS2_1Combined_Fee_Designation_Easement'"
   ]
  },
  {
   "cell_type": "code",
   "execution_count": 5,
   "metadata": {},
   "outputs": [],
   "source": [
    "# Output Geodatabase\n",
    "outgdb_name=\"ProtConn_July2021_1.gdb\"\n",
    "outgdb_fullpath = r\"C:\\Users\\ywx12\\Desktop\\PhD\\RA\\ProtectedLand\\ProtConn_CALC\\data\\ProtConn_July2021_1.gdb\"\n",
    "#Out_path\n",
    "outpath=r\"C:\\Users\\ywx12\\Desktop\\PhD\\RA\\ProtectedLand\\ProtConn_CALC\\data\""
   ]
  },
  {
   "cell_type": "code",
   "execution_count": 6,
   "metadata": {},
   "outputs": [],
   "source": [
    "# Output layers\n",
    "PA_relevant = outgdb_fullpath+\"/PA_relevant_0727\"\n",
    "PA_relevant_outshp = 'PA_relevant_0727.shp'"
   ]
  },
  {
   "cell_type": "code",
   "execution_count": 6,
   "metadata": {},
   "outputs": [
    {
     "name": "stdout",
     "output_type": "stream",
     "text": [
      "ProtConn_Jun2021.gdb  already exists.\n"
     ]
    }
   ],
   "source": [
    "# Process: Create GDB\n",
    "if arcpy.Exists(outgdb_fullpath):\n",
    "    print(outgdb_name, \" already exists.\")\n",
    "else:\n",
    "    arcpy.CreateFileGDB_management(outpath, outgdb_name)\n",
    "    print(outgdb_name, \" created\")"
   ]
  },
  {
   "cell_type": "code",
   "execution_count": 7,
   "metadata": {},
   "outputs": [
    {
     "data": {
      "text/html": [
       "<h2>Output</h2>C:\\Users\\ywx12\\Desktop\\PhD\\RA\\ProtectedLand\\ProtConn_CALC\\data\\ProtConn_July2021_1.gdb\\PA_relevant<h2>Messages</h2>Start Time: Tuesday, July 27, 2021 4:00:12 PM<br/>Succeeded at Tuesday, July 27, 2021 4:00:22 PM (Elapsed Time: 10.71 seconds)<br/><style>.rendered_html td, .rendered_html th {text-align: left;}.rendered_html tbody {border: 1px solid black;}</style>"
      ],
      "text/plain": [
       "<Result 'C:\\\\Users\\\\ywx12\\\\Desktop\\\\PhD\\\\RA\\\\ProtectedLand\\\\ProtConn_CALC\\\\data\\\\ProtConn_July2021_1.gdb\\\\PA_relevant'>"
      ]
     },
     "execution_count": 7,
     "metadata": {},
     "output_type": "execute_result"
    }
   ],
   "source": [
    "# Process: Select relevant polygons\n",
    "arcpy.Select_analysis(PA_input, PA_relevant, \"GAP_Sts = '1' OR GAP_Sts = '2' \")"
   ]
  },
  {
   "cell_type": "code",
   "execution_count": 8,
   "metadata": {},
   "outputs": [
    {
     "name": "stdout",
     "output_type": "stream",
     "text": [
      "Features exported to shapefile\n"
     ]
    }
   ],
   "source": [
    "arcpy.FeatureClassToFeatureClass_conversion(in_features=PA_relevant, out_path=outpath, out_name=PA_relevant_outshp, config_keyword=\"\")\n",
    "print(\"Features exported to shapefile\")"
   ]
  },
  {
   "cell_type": "code",
   "execution_count": 9,
   "metadata": {},
   "outputs": [
    {
     "name": "stdout",
     "output_type": "stream",
     "text": [
      "Geometries repaired\n"
     ]
    }
   ],
   "source": [
    "# Process: Repair Geometry\n",
    "arcpy.RepairGeometry_management(PA_relevant, \"DELETE_NULL\")\n",
    "# print(\"Geometries repaired\")"
   ]
  },
  {
   "cell_type": "code",
   "execution_count": 10,
   "metadata": {},
   "outputs": [
    {
     "data": {
      "text/html": [
       "<h2>Output</h2><table><tr><th>id</th><th>value</th></tr><tr><td>0</td><td>C:\\Users\\ywx12\\Desktop\\PhD\\RA\\ProtectedLand\\ProtConn_CALC\\data\\PA_relevant_simp.shp</td></tr><tr><td>1</td><td>C:\\Users\\ywx12\\Desktop\\PhD\\RA\\ProtectedLand\\ProtConn_CALC\\data\\PA_relevant_simp_Pnt.shp</td></tr></table><h2>Messages</h2>Start Time: Tuesday, July 27, 2021 4:14:55 PM<br/>Input vertex count:     27064676<br/>Output vertex count:     2827471<br/>Output/Input ratio:  10.400000 %<br/>Pass count:                   10<br/>Succeeded at Tuesday, July 27, 2021 7:03:51 PM (Elapsed Time: 2 hours 48 minutes 54 seconds)<br/><style>.rendered_html td, .rendered_html th {text-align: left;}.rendered_html tbody {border: 1px solid black;}</style>"
      ],
      "text/plain": [
       "<Result 'C:\\\\Users\\\\ywx12\\\\Desktop\\\\PhD\\\\RA\\\\ProtectedLand\\\\ProtConn_CALC\\\\data\\\\PA_relevant_simp.shp'>"
      ]
     },
     "execution_count": 10,
     "metadata": {},
     "output_type": "execute_result"
    }
   ],
   "source": [
    "# Process: Simplify Polygon\n",
    "CA.SimplifyPolygon(os.path.join(outpath, PA_relevant_outshp + '.shp'), os.path.join(outpath, PA_relevant_outshp + '_simp.shp'), \"POINT_REMOVE\", 100, \n",
    "                   \"#\", \"#\", \"KEEP_COLLAPSED_POINTS\")"
   ]
  },
  {
   "cell_type": "code",
   "execution_count": null,
   "metadata": {},
   "outputs": [],
   "source": [
    "print('-------------------------------------------------------')\n",
    "endtime=datetime.now()\n",
    "totaltime= endtime-firststarttime\n",
    "print(' ')\n",
    "print('PROCEDURE COMPLETED. Elapsed time: ', totaltime)\n",
    "# print('Now execute in docker the script \"/globes/USERS/GIACOMO/protconn/scripts/gis_proc/exec_simplify_wdpa_all_relevant.sh\" ')\n",
    "# switch to QGIS or ArcGIS to simplify geometry; a tolerance of 100m\n",
    "# I am using ArcGIS, it has the same default simplify algorithm as in QGIS\n",
    "print(' ')\n",
    "\n",
    "log.close()\n",
    "sys.exit()"
   ]
  }
 ],
 "metadata": {
  "kernelspec": {
   "display_name": "ArcGISPro",
   "language": "Python",
   "name": "python3"
  },
  "language_info": {
   "file_extension": ".py",
   "name": "python",
   "version": "3"
  }
 },
 "nbformat": 4,
 "nbformat_minor": 2
}
