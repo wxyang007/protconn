{
 "cells": [
  {
   "cell_type": "code",
   "execution_count": null,
   "id": "aca41304",
   "metadata": {},
   "outputs": [],
   "source": [
    "import arcpy\n",
    "import os\n",
    "from datetime import datetime\n",
    "\n",
    "# input geodatabase of the feature classes\n",
    "fc_gdb = r'C:\\Users\\ywx12\\Desktop\\PhD\\RA\\ProtectedLand\\ProtConn_CALC\\data\\REGION_PA\\STATES_1\\Region_PA_States.gdb'\n",
    "\n",
    "# output geodatabase of the near table results\n",
    "out_folder = r'C:\\Users\\ywx12\\Desktop\\PhD\\RA\\ProtectedLand\\ProtConn_CALC\\data\\REGION_PA\\STATES_1'\n",
    "outgdb = 'neartab.gdb'\n",
    "\n",
    "# create the output geodatabase if not exists\n",
    "if not arcpy.Exists(os.path.join(out_folder, outgdb)):\n",
    "    arcpy.CreateFileGDB_management(out_folder, outgdb)\n",
    "    \n",
    "arcpy.env.workspace = fc_gdb\n",
    "name_fc = arcpy.ListFeatureClasses()\n",
    "\n",
    "\n",
    "for n in name_fc:\n",
    "    try:\n",
    "        time0 = time.time()\n",
    "        prefix_name = n\n",
    "        path_fc = os.path.join(fc_gdb, n)\n",
    "        outfile = os.path.join(out_folder, outgdb, 'Near_tab_' + prefix_name)\n",
    "        if arcpy.Exists(outfile) == False:\n",
    "            arcpy.GenerateNearTable_analysis(path_fc, path_fc, \n",
    "                                         outfile,\n",
    "                                         \"230 Kilometers\",\n",
    "                                         \"NO_LOCATION\",\n",
    "                                         \"NO_ANGLE\",\n",
    "                                         \"ALL\",\n",
    "                                         \"\",\n",
    "                                         \"GEODESIC\")\n",
    "            time1 = time.time()\n",
    "            totaltime = (time1-time0)/60\n",
    "            print(n + ' done, time lapsed: ' +  \"{:.2f}\".format(totaltime))\n",
    "        else:\n",
    "            pass\n",
    "    except Exception as e:\n",
    "        print(e)"
   ]
  }
 ],
 "metadata": {
  "kernelspec": {
   "display_name": "Python 3",
   "language": "python",
   "name": "python3"
  },
  "language_info": {
   "codemirror_mode": {
    "name": "ipython",
    "version": 3
   },
   "file_extension": ".py",
   "mimetype": "text/x-python",
   "name": "python",
   "nbconvert_exporter": "python",
   "pygments_lexer": "ipython3",
   "version": "3.8.8"
  }
 },
 "nbformat": 4,
 "nbformat_minor": 5
}
