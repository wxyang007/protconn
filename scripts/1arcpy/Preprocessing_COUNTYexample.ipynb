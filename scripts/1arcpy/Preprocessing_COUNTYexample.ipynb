{
 "cells": [
  {
   "cell_type": "markdown",
   "metadata": {},
   "source": [
    "# Step 1: merge PAs of mexico, canada, and the us\n",
    "No need to be run except for setting the environment and importing packages"
   ]
  },
  {
   "cell_type": "code",
   "execution_count": 22,
   "metadata": {},
   "outputs": [],
   "source": [
    "import sys\n",
    "import arcpy\n",
    "from arcpy import env\n",
    "import os\n",
    "import os.path\n",
    "import arcpy.cartography as CA"
   ]
  },
  {
   "cell_type": "code",
   "execution_count": 23,
   "metadata": {},
   "outputs": [
    {
     "name": "stdout",
     "output_type": "stream",
     "text": [
      " \n",
      "PROCEDURE STARTED at  2022-05-25 22:29:01\n",
      "-------------------------------------------------------\n"
     ]
    }
   ],
   "source": [
    "from datetime import datetime\n",
    "firststarttime=datetime.now()\n",
    "\n",
    "print(\" \")\n",
    "print(\"PROCEDURE STARTED at \", datetime.now().strftime('%Y-%m-%d %H:%M:%S'))\n",
    "print('-------------------------------------------------------')\n",
    "\n",
    "# Set environment variables\n",
    "arcpy.env.overwriteOutput = True\n",
    "sr = arcpy.SpatialReference('North America Albers Equal Area Conic')"
   ]
  },
  {
   "cell_type": "code",
   "execution_count": 24,
   "metadata": {},
   "outputs": [],
   "source": [
    "# Input Geodatabase\n",
    "ingdb_name=\"ProtConn_July2021.gdb\"\n",
    "ingdb_fullpath = r\"C:\\Users\\wyang80\\Desktop\\ProtConn\\data\\ProtConn_July2021.gdb\"\n",
    "# Output Geodatabase\n",
    "outgdb_name=\"ProtConn_COUNTIES_May2022.gdb\"\n",
    "outgdb_fullpath = r\"C:\\Users\\wyang80\\Desktop\\ProtConn\\data\\ProtConn_COUNTIES_May2022.gdb\"\n",
    "#Out_path\n",
    "outpath=r\"C:\\Users\\wyang80\\Desktop\\ProtConn\\data\""
   ]
  },
  {
   "cell_type": "code",
   "execution_count": 4,
   "metadata": {},
   "outputs": [],
   "source": [
    "# PA_mexcan = r'C:\\Users\\ywx12\\Desktop\\PhD\\RA\\ProtectedLand\\ProtConn_CALC\\data\\PA\\WDPA_May2021_Public\\WDPA_May2021_Public.gdb\\wdpa_mexcan_preprocessed'\n",
    "# PA_us = r'C:\\Users\\ywx12\\Desktop\\PhD\\RA\\ProtectedLand\\ProtConn_CALC\\data\\PA_relevant_simp_0623.shp'"
   ]
  },
  {
   "cell_type": "code",
   "execution_count": 5,
   "metadata": {},
   "outputs": [],
   "source": [
    "# PA_all = outgdb_fullpath + '/PA_mexcan_us'"
   ]
  },
  {
   "cell_type": "code",
   "execution_count": 6,
   "metadata": {},
   "outputs": [],
   "source": [
    "# Process: Merge\n",
    "# arcpy.Merge_management([PA_mexcan,PA_us], PA_all)"
   ]
  },
  {
   "cell_type": "markdown",
   "metadata": {},
   "source": [
    "# Step 2: read in and preprocess PA file\n",
    "no need to do anything here"
   ]
  },
  {
   "cell_type": "code",
   "execution_count": 7,
   "metadata": {},
   "outputs": [],
   "source": [
    "# Local variables:\n",
    "# Input layers\n",
    "# PA_input = r'C:\\Users\\ywx12\\Desktop\\PhD\\RA\\ProtectedLand\\ProtConn_CALC\\data\\PA\\PAD_US2_1.gdb\\PADUS2_1Combined_Fee_Designation_Easement'\n",
    "# PA_input = PA_all"
   ]
  },
  {
   "cell_type": "code",
   "execution_count": 8,
   "metadata": {},
   "outputs": [],
   "source": [
    "# PA_input_proj = r'C:\\Users\\ywx12\\Desktop\\PhD\\RA\\ProtectedLand\\ProtConn_CALC\\data\\PA_mexcan_us_proj.shp'"
   ]
  },
  {
   "cell_type": "code",
   "execution_count": 9,
   "metadata": {},
   "outputs": [],
   "source": [
    "# Process: Project PA to sr\n",
    "# arcpy.management.Project(PA_input, PA_input_proj, sr)# Process: Project region layer to sr"
   ]
  },
  {
   "cell_type": "code",
   "execution_count": 10,
   "metadata": {
    "scrolled": true
   },
   "outputs": [],
   "source": [
    "# Process: Repair geometry of PA\n",
    "# arcpy.RepairGeometry_management(PA_input_proj, \"DELETE_NULL\")"
   ]
  },
  {
   "cell_type": "code",
   "execution_count": 11,
   "metadata": {},
   "outputs": [],
   "source": [
    "# # Process: add attribute ifPA == 1\n",
    "# arcpy.management.AddField(PA_input_proj, 'ifPA', 'TEXT')"
   ]
  },
  {
   "cell_type": "code",
   "execution_count": 12,
   "metadata": {},
   "outputs": [],
   "source": [
    "# cur = arcpy.UpdateCursor(PA_input_proj)\n",
    "# for row in cur:\n",
    "#     row.setValue('ifPA', 1)\n",
    "#     cur.updateRow(row)"
   ]
  },
  {
   "cell_type": "markdown",
   "metadata": {},
   "source": [
    "# Step 3: preprocess region file and land file\n",
    "Read in the region file and customize how you would process it.\n",
    "Here, I need to do the following:\n",
    "1) Reproject\n",
    "\n",
    "2) Buffer\n",
    "\n",
    "3) Merge the buffer with the original file"
   ]
  },
  {
   "cell_type": "code",
   "execution_count": 25,
   "metadata": {},
   "outputs": [],
   "source": [
    "region_gdb = r'C:\\Users\\wyang80\\Desktop\\ProtConn\\data\\Counties\\tl_2020_us_county'"
   ]
  },
  {
   "cell_type": "code",
   "execution_count": 26,
   "metadata": {},
   "outputs": [],
   "source": [
    "# # Input layers\n",
    "# region_layer = r'C:\\Users\\ywx12\\Desktop\\PhD\\RA\\ProtectedLand\\ProtConn_CALC\\data\\REGION\\Counties\\tl_2020_us_county'\n",
    "regionname = 'COUNTIES'\n",
    "# regionname = 'STATE'\n",
    "\n",
    "region_layer = region_gdb + '/tl_2020_us_county.shp'\n",
    "region_layer_proj = region_gdb + '/tl_2020_us_county_proj.shp'\n",
    "region_buffer = region_gdb + '/tl_2020_us_county_230km.shp'\n",
    "region_final = region_gdb + '/tl_2020_us_county_230km_all.shp'\n",
    "# region_layer_proj_ds = region_gdb + '/tl_2020_us_county2state_proj.shp'\n",
    "# region_buffer = region_gdb + '/tl_2020_us_county_230km.shp'\n",
    "# region_final = region_gdb + '/tl_2020_us_county2state_230km_all.shp'\n",
    "\n",
    "\n",
    "# land_layer = r'C:\\Users\\ywx12\\Desktop\\PhD\\RA\\ProtectedLand\\ProtConn_CALC\\data\\LAND\\gadm_us_mex_can\\gadm_us_mex_can_0.shp'\n",
    "# land_layer_proj = r'C:\\Users\\ywx12\\Desktop\\PhD\\RA\\ProtectedLand\\ProtConn_CALC\\data\\LAND\\gadm_us_mex_can\\gadm_us_mex_can_0_proj.shp'\n",
    "# land_layer_simp = r'C:\\Users\\ywx12\\Desktop\\PhD\\RA\\ProtectedLand\\ProtConn_CALC\\data\\LAND\\gadm_us_mex_can\\gadm_us_mex_can_0_proj_simp.shp'"
   ]
  },
  {
   "cell_type": "code",
   "execution_count": 15,
   "metadata": {},
   "outputs": [],
   "source": [
    "# # Process: Project region layer to sr\n",
    "# arcpy.management.Project(region_layer, region_layer_proj, sr)"
   ]
  },
  {
   "cell_type": "code",
   "execution_count": 16,
   "metadata": {},
   "outputs": [],
   "source": [
    "# # Process: Dissolve by STATEFP\n",
    "# arcpy.Dissolve_management(region_layer_proj, region_layer_proj_ds, [\"STATEFP\"])"
   ]
  },
  {
   "cell_type": "code",
   "execution_count": 17,
   "metadata": {},
   "outputs": [],
   "source": [
    "# # Process: Buffer region layer\n",
    "# arcpy.Buffer_analysis(region_layer_proj, region_buffer, \"230 Kilometers\",\"OUTSIDE_ONLY\",\"ROUND\",\"ALL\")"
   ]
  },
  {
   "cell_type": "code",
   "execution_count": 18,
   "metadata": {},
   "outputs": [],
   "source": [
    "# # Process: Merge\n",
    "# arcpy.Merge_management([region_layer_proj, region_buffer],region_final)"
   ]
  },
  {
   "cell_type": "code",
   "execution_count": 19,
   "metadata": {},
   "outputs": [],
   "source": [
    "# # Process: Project land layer to sr\n",
    "# arcpy.management.Project(land_layer, land_layer_proj, sr)"
   ]
  },
  {
   "cell_type": "code",
   "execution_count": 20,
   "metadata": {},
   "outputs": [],
   "source": [
    "# # Process: Repair geometry of region file\n",
    "# arcpy.RepairGeometry_management(region_final, \"DELETE_NULL\")"
   ]
  },
  {
   "cell_type": "code",
   "execution_count": 21,
   "metadata": {},
   "outputs": [],
   "source": [
    "# # Process: Repair geometry of land file\n",
    "# arcpy.RepairGeometry_management(land_layer_proj, \"DELETE_NULL\")"
   ]
  },
  {
   "cell_type": "code",
   "execution_count": 22,
   "metadata": {},
   "outputs": [],
   "source": [
    "# # Process: Simplify land file\n",
    "# CA.SimplifyPolygon(land_layer_proj, land_layer_simp, \"POINT_REMOVE\", 100)"
   ]
  },
  {
   "cell_type": "markdown",
   "metadata": {},
   "source": [
    "# Step 4: merge with land layer and set areas of land layer to 0 (the step for boundary correction)\n",
    "\n",
    "No need to run."
   ]
  },
  {
   "cell_type": "code",
   "execution_count": 23,
   "metadata": {},
   "outputs": [],
   "source": [
    "# # merge land file with PAs\n",
    "# land_file = land_layer_simp\n",
    "# PA_file = PA_input_proj\n",
    "PA_land = ingdb_fullpath + '/PA_mexcanus_land_0713'"
   ]
  },
  {
   "cell_type": "code",
   "execution_count": 24,
   "metadata": {},
   "outputs": [],
   "source": [
    "# arcpy.management.AddField(land_layer_simp, 'ifPA', 'TEXT')"
   ]
  },
  {
   "cell_type": "code",
   "execution_count": 25,
   "metadata": {},
   "outputs": [],
   "source": [
    "# cur = arcpy.UpdateCursor(land_layer_simp)\n",
    "# for row in cur:\n",
    "#     row.setValue('ifPA', 0)\n",
    "#     cur.updateRow(row)"
   ]
  },
  {
   "cell_type": "code",
   "execution_count": 26,
   "metadata": {},
   "outputs": [],
   "source": [
    "# # Process: Merge\n",
    "# arcpy.Merge_management([land_file, PA_file], PA_land)"
   ]
  },
  {
   "cell_type": "code",
   "execution_count": 27,
   "metadata": {},
   "outputs": [],
   "source": [
    "# # Process: Repair geometry of PA and land\n",
    "# arcpy.RepairGeometry_management(PA_land, \"DELETE_NULL\")"
   ]
  },
  {
   "cell_type": "markdown",
   "metadata": {},
   "source": [
    "# Step 5: intersect merged PA with region file\n",
    "\n",
    "You need the region file and the merged PA land file to start with.\n",
    "\n",
    "You do not need to change the script much."
   ]
  },
  {
   "cell_type": "code",
   "execution_count": 28,
   "metadata": {},
   "outputs": [],
   "source": [
    "# Region file:\n",
    "\n",
    "# PA_land: PA_mexcanus_land_0713"
   ]
  },
  {
   "cell_type": "code",
   "execution_count": 27,
   "metadata": {},
   "outputs": [],
   "source": [
    "# Intermediate layers\n",
    "PA_region = outgdb_fullpath + '\\PA_mexcanus_' + regionname + '_2205'\n",
    "\n",
    "# added on June 7th 2021\n",
    "# this file is used to generate PA areas with overlay\n",
    "# PA_region_non_dissolved = outgdb_fullpath + '\\PA_non_dissolved_' + regionname\n",
    "PA_region_nds_singleparted = outgdb_fullpath + '\\PA_mexcanus_nds_single_parted_2205_' + regionname\n",
    "non_dissolved_region_over_1_km2_singleparted = outgdb_fullpath + '\\PA_mexcan_us_nds_over_1_km2_singleparted_2205_' + regionname \n",
    "# added end\n",
    "\n",
    "\n",
    "PA_region_dissolved = outgdb_fullpath + '\\PA_mexcanus_dissolved_2205_' + regionname\n",
    "dissolved_region_over_1_km2 = outgdb_fullpath + '\\PA_mexcanus_dissolved_over_1_km2_2205_' + regionname\n",
    "dissolved_region_over_1_km2_singleparted = outgdb_fullpath + '\\PA_mexcanus_dissolved_over_1_km2_singleparted_2205_' + regionname\n",
    "\n",
    "dissolved_singleparted_over_1_km2_2 = outgdb_fullpath + '\\PA_mexcanus_dsvd_sgpt_over_1_km2_2205_' + regionname\n",
    "\n",
    "# PA_dissolved_region_clipped_land = outgdb_fullpath + '\\PA_mexcanus_dissolved_clipped_' + regionname\n",
    "# dissolved_region_clipped_land_over_1_km2 = outgdb_fullpath + '\\PA_mexcanus_dissolved_clipped_over_1_km2_' + regionname\n",
    "\n",
    "# PA_region_dissolved_2 = outgdb_fullpath + '\\PA_mexcanus_dissolved_2_' + regionname\n",
    "# PA_dissolved_region_1km2_singleparted = outgdb_fullpath + '\\PA_mexcanus_dissolved_over_1_km2_singleparted_' + regionname"
   ]
  },
  {
   "cell_type": "code",
   "execution_count": 28,
   "metadata": {},
   "outputs": [],
   "source": [
    "# output files\n",
    "\n",
    "PA_final = outgdb_fullpath + '\\PA_mexcanus_final_2205_' + regionname\n",
    "# PA_only_final = outgdb_fullpath + '\\PA_mexcanus'\n",
    "\n",
    "outfile_attr = regionname + '_attrib_table_PA_mexcanus_final_may2022.txt'\n",
    "PA_final_shp = 'PA_mexcanus_final_2205_' + regionname + '.shp'\n",
    "\n",
    "all_distances = regionname + '_all_distances_230km_may2022'\n",
    "outfile_dist = outpath + '/' + all_distances + '.txt'\n",
    "\n",
    "# added June 7th\n",
    "outfile_attr_ds = regionname + '_attrib_table_PA_mexcanus_ds_may2022.txt' # same as outfile_attr\n",
    "outfile_attr_nds = regionname + '_attrib_table_PA_mexcanus_nds_may2022.txt'"
   ]
  },
  {
   "cell_type": "code",
   "execution_count": 31,
   "metadata": {
    "scrolled": true
   },
   "outputs": [
    {
     "data": {
      "text/html": [
       "<h2>Output</h2>C:\\Users\\wyang80\\Desktop\\ProtConn\\data\\ProtConn_COUNTIES_May2022.gdb\\PA_mexcanus_COUNTIES_2205<h2>Messages</h2>Start Time: Thursday, May 19, 2022 6:09:28 PM<br/>Assembling Features...<br/>Reading Features...<br/>Cracking Features...<br/>Succeeded at Thursday, May 19, 2022 6:12:50 PM (Elapsed Time: 3 minutes 21 seconds)<br/><style>.rendered_html td, .rendered_html th {text-align: left;}.rendered_html tbody {border: 1px solid black;}</style>"
      ],
      "text/plain": [
       "<Result 'C:\\\\Users\\\\wyang80\\\\Desktop\\\\ProtConn\\\\data\\\\ProtConn_COUNTIES_May2022.gdb\\\\PA_mexcanus_COUNTIES_2205'>"
      ]
     },
     "execution_count": 31,
     "metadata": {},
     "output_type": "execute_result"
    }
   ],
   "source": [
    "# # Process: Intersect with region file\n",
    "arcpy.analysis.Intersect([PA_land, region_final], PA_region, '#', '#', '#')"
   ]
  },
  {
   "cell_type": "code",
   "execution_count": 32,
   "metadata": {},
   "outputs": [
    {
     "name": "stdout",
     "output_type": "stream",
     "text": [
      "converted to single part\n"
     ]
    }
   ],
   "source": [
    "arcpy.MultipartToSinglepart_management(PA_region, PA_region_nds_singleparted)\n",
    "print(\"converted to single part\")"
   ]
  },
  {
   "cell_type": "code",
   "execution_count": 33,
   "metadata": {},
   "outputs": [
    {
     "data": {
      "text/html": [
       "<h2>Output</h2>C:\\Users\\wyang80\\Desktop\\ProtConn\\data\\ProtConn_COUNTIES_May2022.gdb\\PA_mexcanus_nds_single_parted_2205_COUNTIES<h2>Messages</h2>Start Time: Thursday, May 19, 2022 6:15:43 PM<br/>WARNING 001097: AREA_GEO  already exists -- overwriting.<br/>Succeeded at Thursday, May 19, 2022 6:31:30 PM (Elapsed Time: 15 minutes 46 seconds)<br/><style>.rendered_html td, .rendered_html th {text-align: left;}.rendered_html tbody {border: 1px solid black;}</style>"
      ],
      "text/plain": [
       "<Result 'C:\\\\Users\\\\wyang80\\\\Desktop\\\\ProtConn\\\\data\\\\ProtConn_COUNTIES_May2022.gdb\\\\PA_mexcanus_nds_single_parted_2205_COUNTIES'>"
      ]
     },
     "execution_count": 33,
     "metadata": {},
     "output_type": "execute_result"
    }
   ],
   "source": [
    "# Process: Add Geometry Attributes\n",
    "arcpy.AddGeometryAttributes_management(PA_region_nds_singleparted, \"AREA_GEODESIC\", \"\", \"SQUARE_KILOMETERS\", sr)"
   ]
  },
  {
   "cell_type": "code",
   "execution_count": 34,
   "metadata": {},
   "outputs": [
    {
     "name": "stdout",
     "output_type": "stream",
     "text": [
      "Geometries re-repaired for the nth time....\n"
     ]
    }
   ],
   "source": [
    "arcpy.RepairGeometry_management(PA_region_nds_singleparted, \"DELETE_NULL\")\n",
    "print(\"Geometries re-repaired for the nth time....\")"
   ]
  },
  {
   "cell_type": "code",
   "execution_count": 35,
   "metadata": {},
   "outputs": [
    {
     "name": "stdout",
     "output_type": "stream",
     "text": [
      "Attribute Table exported in .txt\n"
     ]
    }
   ],
   "source": [
    "# Process: Make Feature Layer over 1 km2\n",
    "arcpy.MakeFeatureLayer_management(PA_region_nds_singleparted, non_dissolved_region_over_1_km2_singleparted, \"\\\"AREA_GEO\\\" >=1\", \"\", \"AREA_GEO AREA_GEO VISIBLE NONE\")\n",
    "\n",
    "# Process: Export to txt (and will be further processed in R)\n",
    "arcpy.TableToTable_conversion(in_rows=non_dissolved_region_over_1_km2_singleparted, out_path=outpath, out_name=outfile_attr_nds)\n",
    "print(\"Attribute Table exported in .txt\")"
   ]
  },
  {
   "cell_type": "code",
   "execution_count": 36,
   "metadata": {},
   "outputs": [
    {
     "name": "stdout",
     "output_type": "stream",
     "text": [
      "converted to single part\n",
      "Geometries re-repaired for the nth time....\n",
      "Attribute Table exported in .txt\n"
     ]
    }
   ],
   "source": [
    "## Work with non-dissolved layer\n",
    "\n",
    "# Process: Multipart To Singlepart\n",
    "arcpy.MultipartToSinglepart_management(PA_region, PA_region_nds_singleparted)\n",
    "print(\"converted to single part\")\n",
    "\n",
    "# Process: Add Geometry Attributes\n",
    "arcpy.AddGeometryAttributes_management(PA_region_nds_singleparted, \"AREA_GEODESIC\", \"\", \"SQUARE_KILOMETERS\", sr)\n",
    "\n",
    "# Process: Repair Geometry\n",
    "arcpy.RepairGeometry_management(PA_region_nds_singleparted, \"DELETE_NULL\")\n",
    "print(\"Geometries re-repaired for the nth time....\")\n",
    "\n",
    "# Process: Make Feature Layer over 1 km2\n",
    "arcpy.MakeFeatureLayer_management(PA_region_nds_singleparted, non_dissolved_region_over_1_km2_singleparted, \"\\\"AREA_GEO\\\" >=1\", \"\", \"AREA_GEO AREA_GEO VISIBLE NONE\")\n",
    "\n",
    "# Process: Export to txt (and will be further processed in R)\n",
    "arcpy.TableToTable_conversion(in_rows=non_dissolved_region_over_1_km2_singleparted, out_path=outpath, out_name=outfile_attr_nds)\n",
    "print(\"Attribute Table exported in .txt\")"
   ]
  },
  {
   "cell_type": "code",
   "execution_count": 29,
   "metadata": {},
   "outputs": [
    {
     "data": {
      "text/html": [
       "<h2>Output</h2>C:\\Users\\wyang80\\Desktop\\ProtConn\\data\\ProtConn_COUNTIES_May2022.gdb\\PA_mexcanus_dissolved_2205_COUNTIES<h2>Messages</h2>Start Time: Wednesday, May 25, 2022 10:29:58 PM<br/>Sorting Attributes...<br/>Dissolving...<br/>Succeeded at Wednesday, May 25, 2022 10:35:03 PM (Elapsed Time: 5 minutes 5 seconds)<br/><style>.rendered_html td, .rendered_html th {text-align: left;}.rendered_html tbody {border: 1px solid black;}</style>"
      ],
      "text/plain": [
       "<Result 'C:\\\\Users\\\\wyang80\\\\Desktop\\\\ProtConn\\\\data\\\\ProtConn_COUNTIES_May2022.gdb\\\\PA_mexcanus_dissolved_2205_COUNTIES'>"
      ]
     },
     "execution_count": 29,
     "metadata": {},
     "output_type": "execute_result"
    }
   ],
   "source": [
    "# Process: Dissolve\n",
    "arcpy.Dissolve_management(PA_region, PA_region_dissolved, [\"GEOID\", \"ifPA\"], \"\", \"SINGLE_PART\", \"DISSOLVE_LINES\")\n",
    "# print(\"Features dissolved\")"
   ]
  },
  {
   "cell_type": "code",
   "execution_count": 30,
   "metadata": {},
   "outputs": [
    {
     "data": {
      "text/html": [
       "<h2>Output</h2>C:\\Users\\wyang80\\Desktop\\ProtConn\\data\\ProtConn_COUNTIES_May2022.gdb\\PA_mexcanus_dissolved_2205_COUNTIES<h2>Messages</h2>Start Time: Wednesday, May 25, 2022 10:35:05 PM<br/>WARNING 000986: C:\\Users\\wyang80\\AppData\\Local\\Temp\\ArcGISProTemp20464\\PA_mexcanus_dissolved_2205_COUNTIES0.txt contains the full list of non simple features.<br/>WARNING 000461: Repaired feature 292 because of self intersections<br/>WARNING 000461: Repaired feature 1203 because of self intersections<br/>WARNING 000461: Repaired feature 2487 because of self intersections<br/>WARNING 000461: Repaired feature 2767 because of self intersections<br/>WARNING 000461: Repaired feature 2769 because of self intersections<br/>WARNING 000461: Repaired feature 2891 because of self intersections<br/>WARNING 000461: Repaired feature 4171 because of self intersections<br/>WARNING 000461: Repaired feature 4314 because of self intersections<br/>WARNING 000461: Repaired feature 6040 because of self intersections<br/>WARNING 000461: Repaired feature 8434 because of self intersections<br/>WARNING 000461: Repaired feature 8462 because of self intersections<br/>WARNING 000461: Repaired feature 8570 because of self intersections<br/>WARNING 000461: Repaired feature 8609 because of self intersections<br/>WARNING 000461: Repaired feature 8628 because of self intersections<br/>WARNING 000461: Repaired feature 8760 because of self intersections<br/>WARNING 000461: Repaired feature 11461 because of self intersections<br/>WARNING 000461: Repaired feature 12037 because of self intersections<br/>WARNING 000461: Repaired feature 13109 because of self intersections<br/>WARNING 000461: Repaired feature 13140 because of self intersections<br/>WARNING 000461: Repaired feature 13165 because of self intersections<br/>WARNING 000461: Repaired feature 13203 because of self intersections<br/>WARNING 000461: Repaired feature 13232 because of self intersections<br/>WARNING 000461: Repaired feature 13256 because of self intersections<br/>WARNING 000461: Repaired feature 13287 because of self intersections<br/>WARNING 000461: Repaired feature 13298 because of self intersections<br/>Succeeded at Wednesday, May 25, 2022 10:40:31 PM (Elapsed Time: 5 minutes 26 seconds)<br/><style>.rendered_html td, .rendered_html th {text-align: left;}.rendered_html tbody {border: 1px solid black;}</style>"
      ],
      "text/plain": [
       "<Result 'C:\\\\Users\\\\wyang80\\\\Desktop\\\\ProtConn\\\\data\\\\ProtConn_COUNTIES_May2022.gdb\\\\PA_mexcanus_dissolved_2205_COUNTIES'>"
      ]
     },
     "execution_count": 30,
     "metadata": {},
     "output_type": "execute_result"
    }
   ],
   "source": [
    "# Process: Repair Geometry\n",
    "arcpy.RepairGeometry_management(PA_region_dissolved, \"DELETE_NULL\")\n",
    "# print(\"Geometries repaired\")"
   ]
  },
  {
   "cell_type": "code",
   "execution_count": 31,
   "metadata": {},
   "outputs": [
    {
     "name": "stdout",
     "output_type": "stream",
     "text": [
      "Area_geo computed\n"
     ]
    },
    {
     "data": {
      "text/html": [
       "<h2>Output</h2>a Layer object<h2>Messages</h2>Start Time: Wednesday, May 25, 2022 10:44:30 PM<br/>Succeeded at Wednesday, May 25, 2022 10:44:30 PM (Elapsed Time: 0.02 seconds)<br/><style>.rendered_html td, .rendered_html th {text-align: left;}.rendered_html tbody {border: 1px solid black;}</style>"
      ],
      "text/plain": [
       "<Result 'C:\\\\Users\\\\wyang80\\\\Desktop\\\\ProtConn\\\\data\\\\ProtConn_COUNTIES_May2022.gdb\\\\PA_mexcanus_dissolved_over_1_km2_2205_COUNTIES'>"
      ]
     },
     "execution_count": 31,
     "metadata": {},
     "output_type": "execute_result"
    }
   ],
   "source": [
    "# Process: Add Geometry Attributes\n",
    "arcpy.AddGeometryAttributes_management(PA_region_dissolved, \"AREA_GEODESIC\", \"\", \"SQUARE_KILOMETERS\", sr)\n",
    "print(\"Area_geo computed\")\n",
    "\n",
    "# Process: Make Feature Layer over 1 km2\n",
    "arcpy.MakeFeatureLayer_management(PA_region_dissolved, dissolved_region_over_1_km2, \"\\\"AREA_GEO\\\" >=1\", \"\", \"AREA_GEO AREA_GEO VISIBLE NONE\")"
   ]
  },
  {
   "cell_type": "code",
   "execution_count": 32,
   "metadata": {},
   "outputs": [
    {
     "data": {
      "text/html": [
       "<h2>Output</h2>232075<h2>Messages</h2>Start Time: Wednesday, May 25, 2022 10:44:31 PM<br/>Row Count = 232075<br/>Succeeded at Wednesday, May 25, 2022 10:44:31 PM (Elapsed Time: 0.00 seconds)<br/><style>.rendered_html td, .rendered_html th {text-align: left;}.rendered_html tbody {border: 1px solid black;}</style>"
      ],
      "text/plain": [
       "<Result '232075'>"
      ]
     },
     "execution_count": 32,
     "metadata": {},
     "output_type": "execute_result"
    }
   ],
   "source": [
    "arcpy.GetCount_management(PA_region_dissolved)"
   ]
  },
  {
   "cell_type": "code",
   "execution_count": 33,
   "metadata": {},
   "outputs": [
    {
     "data": {
      "text/html": [
       "<h2>Output</h2>C:\\Users\\wyang80\\Desktop\\ProtConn\\data\\ProtConn_COUNTIES_May2022.gdb\\PA_region_dissolved_stats<h2>Messages</h2>Start Time: Wednesday, May 25, 2022 10:44:31 PM<br/>Succeeded at Wednesday, May 25, 2022 10:44:33 PM (Elapsed Time: 1.40 seconds)<br/><style>.rendered_html td, .rendered_html th {text-align: left;}.rendered_html tbody {border: 1px solid black;}</style>"
      ],
      "text/plain": [
       "<Result 'C:\\\\Users\\\\wyang80\\\\Desktop\\\\ProtConn\\\\data\\\\ProtConn_COUNTIES_May2022.gdb\\\\PA_region_dissolved_stats'>"
      ]
     },
     "execution_count": 33,
     "metadata": {},
     "output_type": "execute_result"
    }
   ],
   "source": [
    "arcpy.Statistics_analysis(PA_region_dissolved,\n",
    "                         outgdb_fullpath + '/PA_region_dissolved_stats',\n",
    "                         [['AREA_GEO','SUM']])"
   ]
  },
  {
   "cell_type": "code",
   "execution_count": 34,
   "metadata": {
    "scrolled": true
   },
   "outputs": [
    {
     "data": {
      "text/html": [
       "<h2>Output</h2>35421<h2>Messages</h2>Start Time: Wednesday, May 25, 2022 10:44:33 PM<br/>Row Count = 35421<br/>Succeeded at Wednesday, May 25, 2022 10:44:34 PM (Elapsed Time: 0.50 seconds)<br/><style>.rendered_html td, .rendered_html th {text-align: left;}.rendered_html tbody {border: 1px solid black;}</style>"
      ],
      "text/plain": [
       "<Result '35421'>"
      ]
     },
     "execution_count": 34,
     "metadata": {},
     "output_type": "execute_result"
    }
   ],
   "source": [
    "arcpy.GetCount_management(dissolved_region_over_1_km2)"
   ]
  },
  {
   "cell_type": "code",
   "execution_count": 35,
   "metadata": {},
   "outputs": [
    {
     "data": {
      "text/html": [
       "<h2>Output</h2>C:\\Users\\wyang80\\Desktop\\ProtConn\\data\\ProtConn_COUNTIES_May2022.gdb\\dissolved_region_over_1_km2_stats<h2>Messages</h2>Start Time: Wednesday, May 25, 2022 10:44:34 PM<br/>Succeeded at Wednesday, May 25, 2022 10:44:36 PM (Elapsed Time: 1.74 seconds)<br/><style>.rendered_html td, .rendered_html th {text-align: left;}.rendered_html tbody {border: 1px solid black;}</style>"
      ],
      "text/plain": [
       "<Result 'C:\\\\Users\\\\wyang80\\\\Desktop\\\\ProtConn\\\\data\\\\ProtConn_COUNTIES_May2022.gdb\\\\dissolved_region_over_1_km2_stats'>"
      ]
     },
     "execution_count": 35,
     "metadata": {},
     "output_type": "execute_result"
    }
   ],
   "source": [
    "arcpy.Statistics_analysis(dissolved_region_over_1_km2,\n",
    "                         outgdb_fullpath + '/dissolved_region_over_1_km2_stats',\n",
    "                         [['AREA_GEO','SUM']])"
   ]
  },
  {
   "cell_type": "code",
   "execution_count": 36,
   "metadata": {},
   "outputs": [
    {
     "data": {
      "text/html": [
       "<h2>Output</h2>C:\\Users\\wyang80\\Desktop\\ProtConn\\data\\ProtConn_COUNTIES_May2022.gdb\\PA_mexcanus_dissolved_over_1_km2_singleparted_2205_COUNTIES<h2>Messages</h2>Start Time: Wednesday, May 25, 2022 10:44:36 PM<br/>Succeeded at Wednesday, May 25, 2022 10:44:43 PM (Elapsed Time: 6.69 seconds)<br/><style>.rendered_html td, .rendered_html th {text-align: left;}.rendered_html tbody {border: 1px solid black;}</style>"
      ],
      "text/plain": [
       "<Result 'C:\\\\Users\\\\wyang80\\\\Desktop\\\\ProtConn\\\\data\\\\ProtConn_COUNTIES_May2022.gdb\\\\PA_mexcanus_dissolved_over_1_km2_singleparted_2205_COUNTIES'>"
      ]
     },
     "execution_count": 36,
     "metadata": {},
     "output_type": "execute_result"
    }
   ],
   "source": [
    "# Process: Multipart To Singlepart\n",
    "arcpy.MultipartToSinglepart_management(dissolved_region_over_1_km2, dissolved_region_over_1_km2_singleparted)\n",
    "# print(\"converted to single part\")"
   ]
  },
  {
   "cell_type": "code",
   "execution_count": 37,
   "metadata": {},
   "outputs": [
    {
     "name": "stdout",
     "output_type": "stream",
     "text": [
      "Area_geo computed\n"
     ]
    },
    {
     "data": {
      "text/html": [
       "<h2>Output</h2>a Layer object<h2>Messages</h2>Start Time: Wednesday, May 25, 2022 10:46:55 PM<br/>Succeeded at Wednesday, May 25, 2022 10:46:55 PM (Elapsed Time: 0.02 seconds)<br/><style>.rendered_html td, .rendered_html th {text-align: left;}.rendered_html tbody {border: 1px solid black;}</style>"
      ],
      "text/plain": [
       "<Result 'C:\\\\Users\\\\wyang80\\\\Desktop\\\\ProtConn\\\\data\\\\ProtConn_COUNTIES_May2022.gdb\\\\PA_mexcanus_dsvd_sgpt_over_1_km2_2205_COUNTIES'>"
      ]
     },
     "execution_count": 37,
     "metadata": {},
     "output_type": "execute_result"
    }
   ],
   "source": [
    "# Process: Add Geometry Attributes\n",
    "arcpy.AddGeometryAttributes_management(dissolved_region_over_1_km2_singleparted, \"AREA_GEODESIC\", \"\", \"SQUARE_KILOMETERS\", sr)\n",
    "print(\"Area_geo computed\")\n",
    "\n",
    "# Process: Make Feature Layer over 1 km2\n",
    "arcpy.MakeFeatureLayer_management(dissolved_region_over_1_km2_singleparted, dissolved_singleparted_over_1_km2_2, \"\\\"AREA_GEO\\\" >=1\", \"\", \"AREA_GEO AREA_GEO VISIBLE NONE\")"
   ]
  },
  {
   "cell_type": "code",
   "execution_count": 39,
   "metadata": {},
   "outputs": [
    {
     "data": {
      "text/html": [
       "<h2>Output</h2>a Layer object<h2>Messages</h2>Start Time: Wednesday, May 25, 2022 10:47:09 PM<br/>Succeeded at Wednesday, May 25, 2022 10:51:58 PM (Elapsed Time: 4 minutes 48 seconds)<br/><style>.rendered_html td, .rendered_html th {text-align: left;}.rendered_html tbody {border: 1px solid black;}</style>"
      ],
      "text/plain": [
       "<Result 'C:\\\\Users\\\\wyang80\\\\Desktop\\\\ProtConn\\\\data\\\\ProtConn_COUNTIES_May2022.gdb\\\\PA_mexcanus_dsvd_sgpt_over_1_km2_2205_COUNTIES'>"
      ]
     },
     "execution_count": 39,
     "metadata": {},
     "output_type": "execute_result"
    }
   ],
   "source": [
    "# Process: Repair Geometry (4)\n",
    "arcpy.RepairGeometry_management(dissolved_singleparted_over_1_km2_2, \"DELETE_NULL\")\n",
    "# arcpy.RepairGeometry_management(a, \"DELETE_NULL\")\n",
    "# print(\"Geometries re-repaired for the nth time....\")"
   ]
  },
  {
   "cell_type": "code",
   "execution_count": null,
   "metadata": {},
   "outputs": [],
   "source": [
    "# a = r'C:\\Users\\wyang80\\Desktop\\ProtConn\\data\\ProtConn_Sept2021.gdb\\PA_mexcanus_dissolved_over_1_km2_singleparted_2204_CONTUS'"
   ]
  },
  {
   "cell_type": "code",
   "execution_count": 48,
   "metadata": {},
   "outputs": [],
   "source": [
    "# dissolved_singleparted_over_1_km2_2 = a"
   ]
  },
  {
   "cell_type": "markdown",
   "metadata": {},
   "source": [
    "# Step 6: Create node and distance file"
   ]
  },
  {
   "cell_type": "code",
   "execution_count": 40,
   "metadata": {},
   "outputs": [
    {
     "name": "stdout",
     "output_type": "stream",
     "text": [
      "Field nodeID computed\n",
      "Final layer copied\n"
     ]
    }
   ],
   "source": [
    "# Process: Add Field nodeID\n",
    "arcpy.AddField_management(dissolved_singleparted_over_1_km2_2, \"nodeID\", \"LONG\", \"\", \"\", \"\", \"\", \"NULLABLE\", \"NON_REQUIRED\", \"\")\n",
    "\n",
    "# Process: Calculate Field\n",
    "arcpy.CalculateField_management(dissolved_singleparted_over_1_km2_2, \"nodeID\", \"!OBJECTID!\", \"PYTHON\", \"\")\n",
    "print(\"Field nodeID computed\")\n",
    "\n",
    "# Process: Copy Features (2)\n",
    "arcpy.CopyFeatures_management(dissolved_singleparted_over_1_km2_2, PA_final, \"\", \"0\", \"0\", \"0\")\n",
    "print(\"Final layer copied\")"
   ]
  },
  {
   "cell_type": "code",
   "execution_count": 41,
   "metadata": {},
   "outputs": [
    {
     "name": "stdout",
     "output_type": "stream",
     "text": [
      "Attribute Table exported in .txt\n"
     ]
    }
   ],
   "source": [
    "# Table to table (txt) with field mapping (in alternative to copy rows)\n",
    "# arcpy.TableToTable_conversion(in_rows=wdpa_flat_1km_final, out_path=outpath, out_name=outfile_attr,field_mapping='OBJECTID \"nodeID\" true true false 4 Long 0 0 ,First,#,Z:/globes/USERS/GIACOMO/protconn/data/ProtConn_jun2020.gdb/wdpa_flat_1km_final,nodeID,-1,-1;ISO3final \"ISO3final\" true true false 50 Text 0 0 ,First,#,Z:/globes/USERS/GIACOMO/protconn/data/ProtConn_jun2020.gdb/wdpa_flat_1km_final,ISO3final,-1,-1;AREA_GEO \"AREA_GEO\" true true false 8 Double 0 0 ,First,#,Z:/globes/USERS/GIACOMO/protconn/data/ProtConn_jun2020.gdb/wdpa_flat_1km_final,AREA_GEO,-1,-1;ORIG_FID \"ORIG_FID\" true true false 4 Long 0 0 ,First,#,Z:/globes/USERS/GIACOMO/protconn/data/ProtConn_jun2020.gdb/wdpa_flat_1km_final,ORIG_FID,-1,-1;Shape_Leng \"Shape_Leng\" false true true 8 Double 0 0 ,First,#,Z:/globes/USERS/GIACOMO/protconn/data/ProtConn_jun2020.gdb/wdpa_flat_1km_final,Shape_Length,-1,-1;Shape_Area \"Shape_Area\" false true true 8 Double 0 0 ,First,#,Z:/globes/USERS/GIACOMO/protconn/data/ProtConn_jun2020.gdb/wdpa_flat_1km_final,Shape_Area,-1,-1')\n",
    "arcpy.TableToTable_conversion(in_rows=PA_final, out_path=outpath, out_name=outfile_attr)\n",
    "print(\"Attribute Table exported in .txt\")"
   ]
  },
  {
   "cell_type": "code",
   "execution_count": 42,
   "metadata": {},
   "outputs": [
    {
     "data": {
      "text/plain": [
       "'C:\\\\Users\\\\wyang80\\\\Desktop\\\\ProtConn\\\\data'"
      ]
     },
     "execution_count": 42,
     "metadata": {},
     "output_type": "execute_result"
    }
   ],
   "source": [
    "outpath"
   ]
  },
  {
   "cell_type": "code",
   "execution_count": 43,
   "metadata": {},
   "outputs": [
    {
     "data": {
      "text/plain": [
       "'COUNTIES_attrib_table_PA_mexcanus_final_may2022.txt'"
      ]
     },
     "execution_count": 43,
     "metadata": {},
     "output_type": "execute_result"
    }
   ],
   "source": [
    "outfile_attr"
   ]
  }
 ],
 "metadata": {
  "kernelspec": {
   "display_name": "ArcGISPro",
   "language": "Python",
   "name": "python3"
  },
  "language_info": {
   "file_extension": ".py",
   "name": "python",
   "version": "3"
  }
 },
 "nbformat": 4,
 "nbformat_minor": 2
}
