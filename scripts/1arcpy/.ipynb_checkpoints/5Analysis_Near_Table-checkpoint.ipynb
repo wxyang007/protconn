{
 "cells": [
  {
   "cell_type": "code",
   "execution_count": 1,
   "metadata": {},
   "outputs": [],
   "source": [
    "import arcpy\n",
    "import os"
   ]
  },
  {
   "cell_type": "code",
   "execution_count": 10,
   "metadata": {},
   "outputs": [],
   "source": [
    "shp_folder = r'C:\\Users\\ywx12\\Desktop\\PhD\\RA\\ProtectedLand\\ProtConn_CALC\\data\\REGION_PA\\STATES'\n",
    "txt_folder = r'C:\\Users\\ywx12\\Desktop\\PhD\\RA\\ProtectedLand\\ProtConn_CALC\\data\\REGION_PA\\STATES'\n",
    "out_folder = r'C:\\Users\\ywx12\\Desktop\\PhD\\RA\\ProtectedLand\\ProtConn_CALC\\data\\REGION_PA\\STATES\\Neartab_Out'\n",
    "outgdb = 'neartab.gdb'\n",
    "\n",
    "if not os.path.exists(out_folder):\n",
    "    os.mkdir(out_folder)\n",
    "if not arcpy.Exists(os.path.join(out_folder, outgdb)):\n",
    "    arcpy.CreateFileGDB_management(out_folder, outgdb)"
   ]
  },
  {
   "cell_type": "code",
   "execution_count": 11,
   "metadata": {},
   "outputs": [],
   "source": [
    "name_shp = [f for f in os.listdir(shp_folder) if f.endswith('.shp')]"
   ]
  },
  {
   "cell_type": "code",
   "execution_count": 12,
   "metadata": {},
   "outputs": [
    {
     "name": "stdout",
     "output_type": "stream",
     "text": [
      "C:\\Users\\ywx12\\Desktop\\PhD\\RA\\ProtectedLand\\ProtConn_CALC\\data\\REGION_PA\\STATES\\Neartab_Out\\neartab.gdb\\Near_tab_PA_230km_AK_July2021\n",
      "C:\\Users\\ywx12\\Desktop\\PhD\\RA\\ProtectedLand\\ProtConn_CALC\\data\\REGION_PA\\STATES\\Neartab_Out\\neartab.gdb\\Near_tab_PA_230km_AL_July2021\n",
      "C:\\Users\\ywx12\\Desktop\\PhD\\RA\\ProtectedLand\\ProtConn_CALC\\data\\REGION_PA\\STATES\\Neartab_Out\\neartab.gdb\\Near_tab_PA_230km_AR_July2021\n",
      "C:\\Users\\ywx12\\Desktop\\PhD\\RA\\ProtectedLand\\ProtConn_CALC\\data\\REGION_PA\\STATES\\Neartab_Out\\neartab.gdb\\Near_tab_PA_230km_AS_July2021\n",
      "C:\\Users\\ywx12\\Desktop\\PhD\\RA\\ProtectedLand\\ProtConn_CALC\\data\\REGION_PA\\STATES\\Neartab_Out\\neartab.gdb\\Near_tab_PA_230km_AZ_July2021\n",
      "C:\\Users\\ywx12\\Desktop\\PhD\\RA\\ProtectedLand\\ProtConn_CALC\\data\\REGION_PA\\STATES\\Neartab_Out\\neartab.gdb\\Near_tab_PA_230km_CA_July2021\n",
      "C:\\Users\\ywx12\\Desktop\\PhD\\RA\\ProtectedLand\\ProtConn_CALC\\data\\REGION_PA\\STATES\\Neartab_Out\\neartab.gdb\\Near_tab_PA_230km_CO_July2021\n",
      "C:\\Users\\ywx12\\Desktop\\PhD\\RA\\ProtectedLand\\ProtConn_CALC\\data\\REGION_PA\\STATES\\Neartab_Out\\neartab.gdb\\Near_tab_PA_230km_CT_July2021\n",
      "C:\\Users\\ywx12\\Desktop\\PhD\\RA\\ProtectedLand\\ProtConn_CALC\\data\\REGION_PA\\STATES\\Neartab_Out\\neartab.gdb\\Near_tab_PA_230km_DC_July2021\n",
      "C:\\Users\\ywx12\\Desktop\\PhD\\RA\\ProtectedLand\\ProtConn_CALC\\data\\REGION_PA\\STATES\\Neartab_Out\\neartab.gdb\\Near_tab_PA_230km_DE_July2021\n",
      "C:\\Users\\ywx12\\Desktop\\PhD\\RA\\ProtectedLand\\ProtConn_CALC\\data\\REGION_PA\\STATES\\Neartab_Out\\neartab.gdb\\Near_tab_PA_230km_FL_July2021\n",
      "C:\\Users\\ywx12\\Desktop\\PhD\\RA\\ProtectedLand\\ProtConn_CALC\\data\\REGION_PA\\STATES\\Neartab_Out\\neartab.gdb\\Near_tab_PA_230km_GA_July2021\n",
      "C:\\Users\\ywx12\\Desktop\\PhD\\RA\\ProtectedLand\\ProtConn_CALC\\data\\REGION_PA\\STATES\\Neartab_Out\\neartab.gdb\\Near_tab_PA_230km_GU_July2021\n",
      "C:\\Users\\ywx12\\Desktop\\PhD\\RA\\ProtectedLand\\ProtConn_CALC\\data\\REGION_PA\\STATES\\Neartab_Out\\neartab.gdb\\Near_tab_PA_230km_HI_July2021\n",
      "C:\\Users\\ywx12\\Desktop\\PhD\\RA\\ProtectedLand\\ProtConn_CALC\\data\\REGION_PA\\STATES\\Neartab_Out\\neartab.gdb\\Near_tab_PA_230km_IA_July2021\n",
      "C:\\Users\\ywx12\\Desktop\\PhD\\RA\\ProtectedLand\\ProtConn_CALC\\data\\REGION_PA\\STATES\\Neartab_Out\\neartab.gdb\\Near_tab_PA_230km_ID_July2021\n",
      "C:\\Users\\ywx12\\Desktop\\PhD\\RA\\ProtectedLand\\ProtConn_CALC\\data\\REGION_PA\\STATES\\Neartab_Out\\neartab.gdb\\Near_tab_PA_230km_IL_July2021\n",
      "C:\\Users\\ywx12\\Desktop\\PhD\\RA\\ProtectedLand\\ProtConn_CALC\\data\\REGION_PA\\STATES\\Neartab_Out\\neartab.gdb\\Near_tab_PA_230km_IN_July2021\n",
      "C:\\Users\\ywx12\\Desktop\\PhD\\RA\\ProtectedLand\\ProtConn_CALC\\data\\REGION_PA\\STATES\\Neartab_Out\\neartab.gdb\\Near_tab_PA_230km_KS_July2021\n",
      "C:\\Users\\ywx12\\Desktop\\PhD\\RA\\ProtectedLand\\ProtConn_CALC\\data\\REGION_PA\\STATES\\Neartab_Out\\neartab.gdb\\Near_tab_PA_230km_KY_July2021\n",
      "C:\\Users\\ywx12\\Desktop\\PhD\\RA\\ProtectedLand\\ProtConn_CALC\\data\\REGION_PA\\STATES\\Neartab_Out\\neartab.gdb\\Near_tab_PA_230km_LA_July2021\n",
      "C:\\Users\\ywx12\\Desktop\\PhD\\RA\\ProtectedLand\\ProtConn_CALC\\data\\REGION_PA\\STATES\\Neartab_Out\\neartab.gdb\\Near_tab_PA_230km_MA_July2021\n",
      "C:\\Users\\ywx12\\Desktop\\PhD\\RA\\ProtectedLand\\ProtConn_CALC\\data\\REGION_PA\\STATES\\Neartab_Out\\neartab.gdb\\Near_tab_PA_230km_MD_July2021\n",
      "C:\\Users\\ywx12\\Desktop\\PhD\\RA\\ProtectedLand\\ProtConn_CALC\\data\\REGION_PA\\STATES\\Neartab_Out\\neartab.gdb\\Near_tab_PA_230km_ME_July2021\n",
      "C:\\Users\\ywx12\\Desktop\\PhD\\RA\\ProtectedLand\\ProtConn_CALC\\data\\REGION_PA\\STATES\\Neartab_Out\\neartab.gdb\\Near_tab_PA_230km_MI_July2021\n",
      "C:\\Users\\ywx12\\Desktop\\PhD\\RA\\ProtectedLand\\ProtConn_CALC\\data\\REGION_PA\\STATES\\Neartab_Out\\neartab.gdb\\Near_tab_PA_230km_MN_July2021\n",
      "C:\\Users\\ywx12\\Desktop\\PhD\\RA\\ProtectedLand\\ProtConn_CALC\\data\\REGION_PA\\STATES\\Neartab_Out\\neartab.gdb\\Near_tab_PA_230km_MO_July2021\n",
      "C:\\Users\\ywx12\\Desktop\\PhD\\RA\\ProtectedLand\\ProtConn_CALC\\data\\REGION_PA\\STATES\\Neartab_Out\\neartab.gdb\\Near_tab_PA_230km_MP_July2021\n",
      "C:\\Users\\ywx12\\Desktop\\PhD\\RA\\ProtectedLand\\ProtConn_CALC\\data\\REGION_PA\\STATES\\Neartab_Out\\neartab.gdb\\Near_tab_PA_230km_MS_July2021\n",
      "C:\\Users\\ywx12\\Desktop\\PhD\\RA\\ProtectedLand\\ProtConn_CALC\\data\\REGION_PA\\STATES\\Neartab_Out\\neartab.gdb\\Near_tab_PA_230km_MT_July2021\n",
      "C:\\Users\\ywx12\\Desktop\\PhD\\RA\\ProtectedLand\\ProtConn_CALC\\data\\REGION_PA\\STATES\\Neartab_Out\\neartab.gdb\\Near_tab_PA_230km_NC_July2021\n",
      "C:\\Users\\ywx12\\Desktop\\PhD\\RA\\ProtectedLand\\ProtConn_CALC\\data\\REGION_PA\\STATES\\Neartab_Out\\neartab.gdb\\Near_tab_PA_230km_ND_July2021\n",
      "C:\\Users\\ywx12\\Desktop\\PhD\\RA\\ProtectedLand\\ProtConn_CALC\\data\\REGION_PA\\STATES\\Neartab_Out\\neartab.gdb\\Near_tab_PA_230km_NE_July2021\n",
      "C:\\Users\\ywx12\\Desktop\\PhD\\RA\\ProtectedLand\\ProtConn_CALC\\data\\REGION_PA\\STATES\\Neartab_Out\\neartab.gdb\\Near_tab_PA_230km_NH_July2021\n",
      "C:\\Users\\ywx12\\Desktop\\PhD\\RA\\ProtectedLand\\ProtConn_CALC\\data\\REGION_PA\\STATES\\Neartab_Out\\neartab.gdb\\Near_tab_PA_230km_NJ_July2021\n",
      "C:\\Users\\ywx12\\Desktop\\PhD\\RA\\ProtectedLand\\ProtConn_CALC\\data\\REGION_PA\\STATES\\Neartab_Out\\neartab.gdb\\Near_tab_PA_230km_NM_July2021\n",
      "C:\\Users\\ywx12\\Desktop\\PhD\\RA\\ProtectedLand\\ProtConn_CALC\\data\\REGION_PA\\STATES\\Neartab_Out\\neartab.gdb\\Near_tab_PA_230km_NV_July2021\n",
      "C:\\Users\\ywx12\\Desktop\\PhD\\RA\\ProtectedLand\\ProtConn_CALC\\data\\REGION_PA\\STATES\\Neartab_Out\\neartab.gdb\\Near_tab_PA_230km_NY_July2021\n",
      "C:\\Users\\ywx12\\Desktop\\PhD\\RA\\ProtectedLand\\ProtConn_CALC\\data\\REGION_PA\\STATES\\Neartab_Out\\neartab.gdb\\Near_tab_PA_230km_OH_July2021\n",
      "C:\\Users\\ywx12\\Desktop\\PhD\\RA\\ProtectedLand\\ProtConn_CALC\\data\\REGION_PA\\STATES\\Neartab_Out\\neartab.gdb\\Near_tab_PA_230km_OK_July2021\n",
      "C:\\Users\\ywx12\\Desktop\\PhD\\RA\\ProtectedLand\\ProtConn_CALC\\data\\REGION_PA\\STATES\\Neartab_Out\\neartab.gdb\\Near_tab_PA_230km_OR_July2021\n",
      "C:\\Users\\ywx12\\Desktop\\PhD\\RA\\ProtectedLand\\ProtConn_CALC\\data\\REGION_PA\\STATES\\Neartab_Out\\neartab.gdb\\Near_tab_PA_230km_PA_July2021\n",
      "C:\\Users\\ywx12\\Desktop\\PhD\\RA\\ProtectedLand\\ProtConn_CALC\\data\\REGION_PA\\STATES\\Neartab_Out\\neartab.gdb\\Near_tab_PA_230km_PR_July2021\n",
      "C:\\Users\\ywx12\\Desktop\\PhD\\RA\\ProtectedLand\\ProtConn_CALC\\data\\REGION_PA\\STATES\\Neartab_Out\\neartab.gdb\\Near_tab_PA_230km_RI_July2021\n",
      "C:\\Users\\ywx12\\Desktop\\PhD\\RA\\ProtectedLand\\ProtConn_CALC\\data\\REGION_PA\\STATES\\Neartab_Out\\neartab.gdb\\Near_tab_PA_230km_SC_July2021\n",
      "C:\\Users\\ywx12\\Desktop\\PhD\\RA\\ProtectedLand\\ProtConn_CALC\\data\\REGION_PA\\STATES\\Neartab_Out\\neartab.gdb\\Near_tab_PA_230km_SD_July2021\n",
      "C:\\Users\\ywx12\\Desktop\\PhD\\RA\\ProtectedLand\\ProtConn_CALC\\data\\REGION_PA\\STATES\\Neartab_Out\\neartab.gdb\\Near_tab_PA_230km_TN_July2021\n",
      "C:\\Users\\ywx12\\Desktop\\PhD\\RA\\ProtectedLand\\ProtConn_CALC\\data\\REGION_PA\\STATES\\Neartab_Out\\neartab.gdb\\Near_tab_PA_230km_TX_July2021\n",
      "C:\\Users\\ywx12\\Desktop\\PhD\\RA\\ProtectedLand\\ProtConn_CALC\\data\\REGION_PA\\STATES\\Neartab_Out\\neartab.gdb\\Near_tab_PA_230km_UT_July2021\n",
      "C:\\Users\\ywx12\\Desktop\\PhD\\RA\\ProtectedLand\\ProtConn_CALC\\data\\REGION_PA\\STATES\\Neartab_Out\\neartab.gdb\\Near_tab_PA_230km_VA_July2021\n",
      "C:\\Users\\ywx12\\Desktop\\PhD\\RA\\ProtectedLand\\ProtConn_CALC\\data\\REGION_PA\\STATES\\Neartab_Out\\neartab.gdb\\Near_tab_PA_230km_VI_July2021\n",
      "C:\\Users\\ywx12\\Desktop\\PhD\\RA\\ProtectedLand\\ProtConn_CALC\\data\\REGION_PA\\STATES\\Neartab_Out\\neartab.gdb\\Near_tab_PA_230km_VT_July2021\n",
      "C:\\Users\\ywx12\\Desktop\\PhD\\RA\\ProtectedLand\\ProtConn_CALC\\data\\REGION_PA\\STATES\\Neartab_Out\\neartab.gdb\\Near_tab_PA_230km_WA_July2021\n",
      "C:\\Users\\ywx12\\Desktop\\PhD\\RA\\ProtectedLand\\ProtConn_CALC\\data\\REGION_PA\\STATES\\Neartab_Out\\neartab.gdb\\Near_tab_PA_230km_WI_July2021\n",
      "C:\\Users\\ywx12\\Desktop\\PhD\\RA\\ProtectedLand\\ProtConn_CALC\\data\\REGION_PA\\STATES\\Neartab_Out\\neartab.gdb\\Near_tab_PA_230km_WV_July2021\n",
      "C:\\Users\\ywx12\\Desktop\\PhD\\RA\\ProtectedLand\\ProtConn_CALC\\data\\REGION_PA\\STATES\\Neartab_Out\\neartab.gdb\\Near_tab_PA_230km_WY_July2021\n"
     ]
    }
   ],
   "source": [
    "for n in name_shp:\n",
    "    prefix_name = n.split(\".\")[0]\n",
    "    path_shp = os.path.join(shp_folder, n)\n",
    "    path_txt = os.path.join(txt_folder, prefix_name + '.txt')\n",
    "    outfile = os.path.join(out_folder, outgdb, 'Near_tab_' + prefix_name)\n",
    "    if arcpy.Exists(outfile):\n",
    "        pass\n",
    "    else:\n",
    "        arcpy.GenerateNearTable_analysis(path_shp, path_shp, \n",
    "                                     outfile,\n",
    "                                     \"230 Kilometers\",\n",
    "                                     \"NO_LOCATION\",\n",
    "                                     \"NO_ANGLE\",\n",
    "                                     \"ALL\",\n",
    "                                     \"\",\n",
    "                                     \"GEODESIC\")\n",
    "    print(outfile)"
   ]
  }
 ],
 "metadata": {
  "kernelspec": {
   "display_name": "Python 3",
   "language": "python",
   "name": "python3"
  },
  "language_info": {
   "codemirror_mode": {
    "name": "ipython",
    "version": 3
   },
   "file_extension": ".py",
   "mimetype": "text/x-python",
   "name": "python",
   "nbconvert_exporter": "python",
   "pygments_lexer": "ipython3",
   "version": "3.8.8"
  }
 },
 "nbformat": 4,
 "nbformat_minor": 2
}
