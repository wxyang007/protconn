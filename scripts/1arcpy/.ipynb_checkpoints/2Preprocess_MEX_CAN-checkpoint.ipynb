{
 "cells": [
  {
   "cell_type": "markdown",
   "metadata": {},
   "source": [
    "- Get relevant PA (WDPA points and polygons for MEXICO and CANADA within 500km near the US)\n",
    "- Convert points into polygons by buffering by their radius (which are calculated from their areas)\n",
    "- Merge points and polygons\n",
    "- Simplify and repair geometry"
   ]
  },
  {
   "cell_type": "code",
   "execution_count": 6,
   "metadata": {},
   "outputs": [],
   "source": [
    "# Import arcpy module\n",
    "import sys\n",
    "import arcpy\n",
    "from arcpy import env\n",
    "import os\n",
    "import os.path"
   ]
  },
  {
   "cell_type": "code",
   "execution_count": 7,
   "metadata": {},
   "outputs": [],
   "source": [
    "# Redirect output to log file\n",
    "log = open(r\"C:\\Users\\ywx12\\Desktop\\PhD\\RA\\ProtectedLand\\ProtConn_CALC\\wdpa_mex_can\\a1_log.txt\", \"a\")\n",
    "sys.stdout = log\n",
    "\n",
    "from datetime import datetime\n",
    "firststarttime=datetime.now()\n",
    "\n",
    "print(\" \")\n",
    "print(\"PROCEDURE STARTED at \", datetime.now().strftime('%Y-%m-%d %H:%M:%S'))\n",
    "print('-------------------------------------------------------')"
   ]
  },
  {
   "cell_type": "code",
   "execution_count": 8,
   "metadata": {},
   "outputs": [],
   "source": [
    "# Set environment variables\n",
    "arcpy.env.overwriteOutput = True\n",
    "\n",
    "# Local variables:\n",
    "# Input layers\n",
    "wdpa_poly_input = r\"C:\\Users\\ywx12\\Desktop\\PhD\\RA\\ProtectedLand\\ProtConn_CALC\\data\\PA\\WDPA_May2021_Public\\WDPA_May2021_Public.gdb\\WDPA_pl_500km\"\n",
    "wdpa_point_input = r\"C:\\Users\\ywx12\\Desktop\\PhD\\RA\\ProtectedLand\\ProtConn_CALC\\data\\PA\\WDPA_May2021_Public\\WDPA_May2021_Public.gdb\\WDPA_pt_500km\""
   ]
  },
  {
   "cell_type": "code",
   "execution_count": 10,
   "metadata": {},
   "outputs": [],
   "source": [
    "# Output Geodatabase\n",
    "outgdb_name=\"WDPA_May2021_Public.gdb\"\n",
    "outgdb_fullpath = r\"C:\\Users\\ywx12\\Desktop\\PhD\\RA\\ProtectedLand\\ProtConn_CALC\\data\\PA\\WDPA_May2021_Public\\WDPA_May2021_Public.gdb\"\n",
    "#Out_path\n",
    "outpath=r\"C:\\Users\\ywx12\\Desktop\\PhD\\RA\\ProtectedLand\\ProtConn_CALC\\data\\PA\\WDPA_May2021_Public\""
   ]
  },
  {
   "cell_type": "code",
   "execution_count": 11,
   "metadata": {},
   "outputs": [],
   "source": [
    "# Output layers\n",
    "wdpa_poly_relevant = outgdb_fullpath+\"/wdpa_poly_relevant_mexcan\"\n",
    "wdpa_point_relevant = outgdb_fullpath+\"/wdpa_point_relevant_mexcan\"\n",
    "wdpa_point_relevant_Layer_LYR = \"wdpa_point_relevant_Layer_mexcan\"\n",
    "wdpa_point_relevant_with_joined_count_multiparts = wdpa_point_relevant_Layer_LYR\n",
    "wdpa_point_relevant_singleparted = outgdb_fullpath+\"/wdpa_point_relevant_singleparted_mexcan\"\n",
    "sum_cte = outgdb_fullpath+\"/sum_cte_mexcan\"\n",
    "wdpa_point_relevant_with_joined_count_multiparts_buffered = outgdb_fullpath+\"/wdpa_point_relevant_with_joined_count_multiparts_buffered_mexcan\"\n",
    "wdpa_all_relevant = \"wdpa_all_relevant_mexcan\"\n",
    "wdpa_all_relevant_fullpath = outgdb_fullpath+\"/\"+wdpa_all_relevant"
   ]
  },
  {
   "cell_type": "code",
   "execution_count": 6,
   "metadata": {},
   "outputs": [
    {
     "data": {
      "text/html": [
       "<h2>Output</h2>C:\\Users\\ywx12\\Desktop\\PhD\\RA\\ProtectedLand\\ProtConn_CALC\\data\\PA\\WDPA_May2021_Public\\WDPA_May2021_Public.gdb\\wdpa_poly_relevant_mexcan<h2>Messages</h2>Start Time: Wednesday, June 23, 2021 1:31:27 PM<br/>Succeeded at Wednesday, June 23, 2021 1:31:29 PM (Elapsed Time: 2.30 seconds)<br/><style>.rendered_html td, .rendered_html th {text-align: left;}.rendered_html tbody {border: 1px solid black;}</style>"
      ],
      "text/plain": [
       "<Result 'C:\\\\Users\\\\ywx12\\\\Desktop\\\\PhD\\\\RA\\\\ProtectedLand\\\\ProtConn_CALC\\\\data\\\\PA\\\\WDPA_May2021_Public\\\\WDPA_May2021_Public.gdb\\\\wdpa_poly_relevant_mexcan'>"
      ]
     },
     "execution_count": 6,
     "metadata": {},
     "output_type": "execute_result"
    }
   ],
   "source": [
    "# Process: Select relevant polygons\n",
    "arcpy.Select_analysis(wdpa_poly_input, wdpa_poly_relevant, \"STATUS <> 'Proposed' AND STATUS <> 'Not Reported' AND DESIG_ENG <> 'UNESCO-MAB Biosphere Reserve'\")"
   ]
  },
  {
   "cell_type": "code",
   "execution_count": 7,
   "metadata": {},
   "outputs": [
    {
     "name": "stdout",
     "output_type": "stream",
     "text": [
      "Relevant points and polygons selected\n"
     ]
    }
   ],
   "source": [
    "# Process: Select relevant points according to Suara's paper\n",
    "arcpy.Select_analysis(wdpa_point_input, wdpa_point_relevant, \"STATUS <> 'Proposed' AND STATUS <> 'Not Reported' AND DESIG_ENG <> 'UNESCO-MAB Biosphere Reserve' AND REP_AREA >0\")\n",
    "print(\"Relevant points and polygons selected\")"
   ]
  },
  {
   "cell_type": "code",
   "execution_count": 8,
   "metadata": {},
   "outputs": [
    {
     "data": {
      "text/html": [
       "<h2>Output</h2>C:\\Users\\ywx12\\Desktop\\PhD\\RA\\ProtectedLand\\ProtConn_CALC\\data\\PA\\WDPA_May2021_Public\\WDPA_May2021_Public.gdb/wdpa_point_relevant_mexcan<h2>Messages</h2>Start Time: Wednesday, June 23, 2021 1:31:38 PM<br/>Adding Areapart to wdpa_point_relevant_mexcan...<br/>Succeeded at Wednesday, June 23, 2021 1:31:38 PM (Elapsed Time: 0.14 seconds)<br/><style>.rendered_html td, .rendered_html th {text-align: left;}.rendered_html tbody {border: 1px solid black;}</style>"
      ],
      "text/plain": [
       "<Result 'C:\\\\Users\\\\ywx12\\\\Desktop\\\\PhD\\\\RA\\\\ProtectedLand\\\\ProtConn_CALC\\\\data\\\\PA\\\\WDPA_May2021_Public\\\\WDPA_May2021_Public.gdb/wdpa_point_relevant_mexcan'>"
      ]
     },
     "execution_count": 8,
     "metadata": {},
     "output_type": "execute_result"
    }
   ],
   "source": [
    "# Process: Add Field Areapart\n",
    "arcpy.AddField_management(wdpa_point_relevant, \"Areapart\", \"FLOAT\", \"\", \"\", \"\", \"\", \"NULLABLE\", \"NON_REQUIRED\", \"\")"
   ]
  },
  {
   "cell_type": "code",
   "execution_count": 9,
   "metadata": {},
   "outputs": [
    {
     "data": {
      "text/html": [
       "<h2>Output</h2>a Layer object<h2>Messages</h2>Start Time: Wednesday, June 23, 2021 1:31:44 PM<br/>Succeeded at Wednesday, June 23, 2021 1:31:44 PM (Elapsed Time: 0.01 seconds)<br/><style>.rendered_html td, .rendered_html th {text-align: left;}.rendered_html tbody {border: 1px solid black;}</style>"
      ],
      "text/plain": [
       "<Result 'wdpa_point_relevant_Layer_mexcan'>"
      ]
     },
     "execution_count": 9,
     "metadata": {},
     "output_type": "execute_result"
    }
   ],
   "source": [
    "# Process: Make Feature Layer\n",
    "arcpy.MakeFeatureLayer_management(wdpa_point_relevant, wdpa_point_relevant_Layer_LYR, \"\", \"\", \"OBJECTID OBJECTID VISIBLE NONE;Shape Shape VISIBLE NONE;wdpaID wdpaID VISIBLE NONE;wdpa_PID wdpa_PID VISIBLE NONE;PA_DEF PA_DEF VISIBLE NONE;NAME NAME VISIBLE NONE;ORIG_NAME ORIG_NAME VISIBLE NONE;DESIG DESIG VISIBLE NONE;DESIG_ENG DESIG_ENG VISIBLE NONE;DESIG_TYPE DESIG_TYPE VISIBLE NONE;IUCN_CAT IUCN_CAT VISIBLE NONE;INT_CRIT INT_CRIT VISIBLE NONE;MARINE MARINE VISIBLE NONE;REP_M_AREA REP_M_AREA VISIBLE NONE;REP_AREA REP_AREA VISIBLE NONE;NO_TAKE NO_TAKE VISIBLE NONE;NO_TK_AREA NO_TK_AREA VISIBLE NONE;STATUS STATUS VISIBLE NONE;STATUS_YR STATUS_YR VISIBLE NONE;GOV_TYPE GOV_TYPE VISIBLE NONE;OWN_TYPE OWN_TYPE VISIBLE NONE;MANG_AUTH MANG_AUTH VISIBLE NONE;MANG_PLAN MANG_PLAN VISIBLE NONE;VERIF VERIF VISIBLE NONE;METADATAID METADATAID VISIBLE NONE;SUB_LOC SUB_LOC VISIBLE NONE;PARENT_ISO3 PARENT_ISO3 VISIBLE NONE;ISO3 ISO3 VISIBLE NONE;RESTRICT RESTRICT VISIBLE NONE;Areapart Areapart VISIBLE NONE\")"
   ]
  },
  {
   "cell_type": "code",
   "execution_count": 10,
   "metadata": {},
   "outputs": [
    {
     "data": {
      "text/html": [
       "<h2>Output</h2>C:\\Users\\ywx12\\Desktop\\PhD\\RA\\ProtectedLand\\ProtConn_CALC\\data\\PA\\WDPA_May2021_Public\\WDPA_May2021_Public.gdb\\wdpa_point_relevant_singleparted_mexcan<h2>Messages</h2>Start Time: Wednesday, June 23, 2021 1:31:49 PM<br/>Succeeded at Wednesday, June 23, 2021 1:31:49 PM (Elapsed Time: 0.39 seconds)<br/><style>.rendered_html td, .rendered_html th {text-align: left;}.rendered_html tbody {border: 1px solid black;}</style>"
      ],
      "text/plain": [
       "<Result 'C:\\\\Users\\\\ywx12\\\\Desktop\\\\PhD\\\\RA\\\\ProtectedLand\\\\ProtConn_CALC\\\\data\\\\PA\\\\WDPA_May2021_Public\\\\WDPA_May2021_Public.gdb\\\\wdpa_point_relevant_singleparted_mexcan'>"
      ]
     },
     "execution_count": 10,
     "metadata": {},
     "output_type": "execute_result"
    }
   ],
   "source": [
    "# Process: Multipart To Singlepart\n",
    "arcpy.MultipartToSinglepart_management(wdpa_point_relevant, wdpa_point_relevant_singleparted)"
   ]
  },
  {
   "cell_type": "code",
   "execution_count": 11,
   "metadata": {},
   "outputs": [
    {
     "data": {
      "text/html": [
       "<h2>Output</h2>C:\\Users\\ywx12\\Desktop\\PhD\\RA\\ProtectedLand\\ProtConn_CALC\\data\\PA\\WDPA_May2021_Public\\WDPA_May2021_Public.gdb\\sum_cte_mexcan<h2>Messages</h2>Start Time: Wednesday, June 23, 2021 1:31:53 PM<br/>Succeeded at Wednesday, June 23, 2021 1:31:54 PM (Elapsed Time: 0.39 seconds)<br/><style>.rendered_html td, .rendered_html th {text-align: left;}.rendered_html tbody {border: 1px solid black;}</style>"
      ],
      "text/plain": [
       "<Result 'C:\\\\Users\\\\ywx12\\\\Desktop\\\\PhD\\\\RA\\\\ProtectedLand\\\\ProtConn_CALC\\\\data\\\\PA\\\\WDPA_May2021_Public\\\\WDPA_May2021_Public.gdb\\\\sum_cte_mexcan'>"
      ]
     },
     "execution_count": 11,
     "metadata": {},
     "output_type": "execute_result"
    }
   ],
   "source": [
    "# Process: Summary Statistics\n",
    "arcpy.Statistics_analysis(wdpa_point_relevant_singleparted, sum_cte, \"wdpaID COUNT\", \"wdpaID\")"
   ]
  },
  {
   "cell_type": "code",
   "execution_count": 12,
   "metadata": {},
   "outputs": [
    {
     "data": {
      "text/html": [
       "<h2>Output</h2>a Layer object<h2>Messages</h2>Start Time: Wednesday, June 23, 2021 1:31:57 PM<br/>Succeeded at Wednesday, June 23, 2021 1:31:57 PM (Elapsed Time: 0.15 seconds)<br/><style>.rendered_html td, .rendered_html th {text-align: left;}.rendered_html tbody {border: 1px solid black;}</style>"
      ],
      "text/plain": [
       "<Result 'wdpa_point_relevant_Layer_mexcan'>"
      ]
     },
     "execution_count": 12,
     "metadata": {},
     "output_type": "execute_result"
    }
   ],
   "source": [
    "# Process: Add Join\n",
    "arcpy.AddJoin_management(wdpa_point_relevant_Layer_LYR, \"wdpaID\", sum_cte, \"wdpaID\", \"KEEP_ALL\")"
   ]
  },
  {
   "cell_type": "code",
   "execution_count": 14,
   "metadata": {},
   "outputs": [
    {
     "data": {
      "text/html": [
       "<h2>Output</h2>a Layer object<h2>Messages</h2>Start Time: Wednesday, June 23, 2021 1:32:19 PM<br/>Succeeded at Wednesday, June 23, 2021 1:32:19 PM (Elapsed Time: 0.06 seconds)<br/><style>.rendered_html td, .rendered_html th {text-align: left;}.rendered_html tbody {border: 1px solid black;}</style>"
      ],
      "text/plain": [
       "<Result 'wdpa_point_relevant_Layer_mexcan'>"
      ]
     },
     "execution_count": 14,
     "metadata": {},
     "output_type": "execute_result"
    }
   ],
   "source": [
    "# Process: Calculate Field Areapart\n",
    "arcpy.CalculateField_management(wdpa_point_relevant_with_joined_count_multiparts, \"Areapart\", \"!wdpa_point_relevant_mexcan.REP_AREA! / !sum_cte_mexcan.FREQUENCY!\", \"PYTHON_9.3\", \"\")"
   ]
  },
  {
   "cell_type": "code",
   "execution_count": 15,
   "metadata": {},
   "outputs": [
    {
     "data": {
      "text/html": [
       "<h2>Output</h2>a Layer object<h2>Messages</h2>Start Time: Wednesday, June 23, 2021 1:32:28 PM<br/>Succeeded at Wednesday, June 23, 2021 1:32:28 PM (Elapsed Time: 0.15 seconds)<br/><style>.rendered_html td, .rendered_html th {text-align: left;}.rendered_html tbody {border: 1px solid black;}</style>"
      ],
      "text/plain": [
       "<Result 'wdpa_point_relevant_Layer_mexcan'>"
      ]
     },
     "execution_count": 15,
     "metadata": {},
     "output_type": "execute_result"
    }
   ],
   "source": [
    "# Process: Remove Join\n",
    "arcpy.RemoveJoin_management(wdpa_point_relevant_with_joined_count_multiparts, \"sum_cte_mexcan\")"
   ]
  },
  {
   "cell_type": "code",
   "execution_count": 16,
   "metadata": {},
   "outputs": [
    {
     "data": {
      "text/html": [
       "<h2>Output</h2>a Layer object<h2>Messages</h2>Start Time: Wednesday, June 23, 2021 1:32:45 PM<br/>Adding radius_m to wdpa_point_relevant_mexcan...<br/>Succeeded at Wednesday, June 23, 2021 1:32:45 PM (Elapsed Time: 0.20 seconds)<br/><style>.rendered_html td, .rendered_html th {text-align: left;}.rendered_html tbody {border: 1px solid black;}</style>"
      ],
      "text/plain": [
       "<Result 'wdpa_point_relevant_Layer_mexcan'>"
      ]
     },
     "execution_count": 16,
     "metadata": {},
     "output_type": "execute_result"
    }
   ],
   "source": [
    "# Process: Add Field radius_m\n",
    "arcpy.AddField_management(wdpa_point_relevant_with_joined_count_multiparts, \"radius_m\", \"FLOAT\", \"\", \"\", \"\", \"\", \"NULLABLE\", \"NON_REQUIRED\", \"\")"
   ]
  },
  {
   "cell_type": "code",
   "execution_count": 17,
   "metadata": {},
   "outputs": [
    {
     "data": {
      "text/html": [
       "<h2>Output</h2>a Layer object<h2>Messages</h2>Start Time: Wednesday, June 23, 2021 1:32:51 PM<br/>Succeeded at Wednesday, June 23, 2021 1:32:51 PM (Elapsed Time: 0.09 seconds)<br/><style>.rendered_html td, .rendered_html th {text-align: left;}.rendered_html tbody {border: 1px solid black;}</style>"
      ],
      "text/plain": [
       "<Result 'wdpa_point_relevant_Layer_mexcan'>"
      ]
     },
     "execution_count": 17,
     "metadata": {},
     "output_type": "execute_result"
    }
   ],
   "source": [
    "# Process: Calculate Field\n",
    "arcpy.CalculateField_management(wdpa_point_relevant_with_joined_count_multiparts, \"radius_m\", \"math.sqrt( !Areapart!*1000000/math.pi )\", \"PYTHON_9.3\", \"\")"
   ]
  },
  {
   "cell_type": "code",
   "execution_count": 18,
   "metadata": {},
   "outputs": [
    {
     "name": "stdout",
     "output_type": "stream",
     "text": [
      "Points bufferized\n"
     ]
    }
   ],
   "source": [
    "# Process: Buffer\n",
    "arcpy.Buffer_analysis(wdpa_point_relevant, wdpa_point_relevant_with_joined_count_multiparts_buffered, \"radius_m\", \"FULL\", \"ROUND\", \"NONE\", \"\", \"PLANAR\")\n",
    "print(\"Points bufferized\")"
   ]
  },
  {
   "cell_type": "code",
   "execution_count": 19,
   "metadata": {},
   "outputs": [
    {
     "name": "stdout",
     "output_type": "stream",
     "text": [
      "Points and polygons merged\n"
     ]
    }
   ],
   "source": [
    "# Process: Merge\n",
    "arcpy.Merge_management([wdpa_poly_relevant,wdpa_point_relevant_with_joined_count_multiparts_buffered],wdpa_all_relevant_fullpath)\n",
    "print(\"Points and polygons merged\")"
   ]
  },
  {
   "cell_type": "code",
   "execution_count": 20,
   "metadata": {},
   "outputs": [
    {
     "name": "stdout",
     "output_type": "stream",
     "text": [
      "Geometries repaired\n"
     ]
    }
   ],
   "source": [
    "# Process: Repair Geometry\n",
    "arcpy.RepairGeometry_management(wdpa_all_relevant_fullpath, \"DELETE_NULL\")\n",
    "print(\"Geometries repaired\")"
   ]
  },
  {
   "cell_type": "code",
   "execution_count": 12,
   "metadata": {},
   "outputs": [],
   "source": [
    "# output: wdpa_all_relevant_mexcan"
   ]
  },
  {
   "cell_type": "code",
   "execution_count": 47,
   "metadata": {},
   "outputs": [],
   "source": [
    "# intermediate layers\n",
    "wdpa_all_relevant_simpl = \"/wdpa_all_relevant_mexcan_simp_0624\"\n",
    "wdpa_all_relevant_simpl_fullpath = outgdb_fullpath+\"//wdpa_all_relevant_mexcan_simp_0624\"\n",
    "\n",
    "wdpa_all_relevant_simpl_dissolved_ISO3 = outgdb_fullpath+\"/wdpa_all_relevant_mexcan_simp_dissolved_ISO3\"\n",
    "dissolved_iso3_over_1_km2 = outgdb_fullpath+\"/dissolved_iso3_over_1_km2\"\n",
    "\n",
    "# land layer, which is gdam in our case\n",
    "gaul = outpath+\"/LAND/gdam_us_mex_can/gdam_us_mex_can_0.shp\"\n",
    "gaul = r'C:\\Users\\ywx12\\Desktop\\PhD\\RA\\ProtectedLand\\ProtConn_CALC\\data\\LAND\\gadm_us_mex_can\\gadm_us_mex_can_0.shp'\n",
    "wdpa_all_relevant_simpl_dissolved_iso3_clipped_land = outgdb_fullpath+\"/wdpa_all_relevant_simpl_dissolved_iso3_clipped_land\"\n",
    "dissolved_iso3_clipped_land_over_1_km2 = outgdb_fullpath+\"/dissolved_iso3_clipped_land_over_1_km2\"\n",
    "select_only_multi_iso3 = dissolved_iso3_clipped_land_over_1_km2\n",
    "select_NO_multi_iso3 = dissolved_iso3_clipped_land_over_1_km2\n",
    "wdpa_NO_multi_iso3 = outgdb_fullpath+\"/wdpa_NO_multi_iso3\"\n",
    "\n",
    "iso3_no_multi = outgdb_fullpath+\"/iso3_no_multi\"\n",
    "iso3_multi = outgdb_fullpath+\"/iso3_multi\"\n",
    "iso3_multi_erased = outgdb_fullpath+\"/iso3_multi_erased\"\n",
    "intersected_gaul_erased = outgdb_fullpath+\"/intersected_gdam_erased\"\n",
    "wdpa_only_multi_iso3 = outgdb_fullpath+\"/wdpa_only_multi_iso3\"\n",
    "\n",
    "wdpa_multi_iso3_together = outgdb_fullpath+\"/wdpa_multi_iso3_together\"\n",
    "wdpa_multi_iso3_together_dissolved_ISO3final = outgdb_fullpath+\"/wdpa_multi_iso3_together_dissolved_ISO3final\"\n",
    "wdpa_multi_iso3_together_dissolved_ISO3final_LYR = \"wdpa_multi_iso3_together_dissolved_ISO3final_LYR\"\n",
    "wdpa_multi_iso3_together_dissolved_ISO3final_1km2 = outgdb_fullpath+\"/wdpa_multi_iso3_together_dissolved_ISO3final_1km2\"\n",
    "wdpa_multi_iso3_together_dissolved_ISO3final_1km2_singleparted = outgdb_fullpath+\"/wdpa_multi_iso3_together_dissolved_ISO3final_1km2_singleparted\"\n",
    "wdpa_flat_1km_final = outgdb_fullpath+\"/wdpa_flat_1km_final\"\n",
    "all_distances = \"all_distances_300km_jun2020\"\n",
    "outfile_attr=\"attrib_table_wdpa_flat_1km_final_jun2020.txt\"\n",
    "outfile_dist=outpath+\"/\"+all_distances+\".txt\"\n",
    "# wdpa_for_protconn_gpkg = outpath+\"/wdpa_for_protconn.gpkg\""
   ]
  },
  {
   "cell_type": "code",
   "execution_count": null,
   "metadata": {},
   "outputs": [],
   "source": [
    "# Process: Simplify Polygon\n",
    "CA.SimplifyPolygon(wdpa_all_relevant_fullpath, wdpa_all_relevant_simpl_fullpath, \"POINT_REMOVE\", 100, \n",
    "                   \"#\", \"#\", \"KEEP_COLLAPSED_POINTS\")"
   ]
  },
  {
   "cell_type": "code",
   "execution_count": 25,
   "metadata": {},
   "outputs": [
    {
     "name": "stdout",
     "output_type": "stream",
     "text": [
      "Features dissolved\n"
     ]
    }
   ],
   "source": [
    "# Process: Dissolve\n",
    "arcpy.Dissolve_management(wdpa_all_relevant_simpl_fullpath, wdpa_all_relevant_simpl_dissolved_ISO3, \"iso3\", \"\", \"SINGLE_PART\", \"DISSOLVE_LINES\")\n",
    "print(\"Features dissolved\")"
   ]
  },
  {
   "cell_type": "code",
   "execution_count": 26,
   "metadata": {},
   "outputs": [
    {
     "name": "stdout",
     "output_type": "stream",
     "text": [
      "Geometries repaired\n"
     ]
    }
   ],
   "source": [
    "# Process: Repair Geometry\n",
    "arcpy.RepairGeometry_management(wdpa_all_relevant_simpl_dissolved_ISO3, \"DELETE_NULL\")\n",
    "print(\"Geometries repaired\")"
   ]
  },
  {
   "cell_type": "code",
   "execution_count": 27,
   "metadata": {},
   "outputs": [
    {
     "name": "stdout",
     "output_type": "stream",
     "text": [
      "Area_geo computed\n"
     ]
    }
   ],
   "source": [
    "# Process: Add Geometry Attributes\n",
    "arcpy.AddGeometryAttributes_management(wdpa_all_relevant_simpl_dissolved_ISO3, \"AREA_GEODESIC\", \"\", \"SQUARE_KILOMETERS\", \"GEOGCS['GCS_WGS_1984',DATUM['D_WGS_1984',SPHEROID['WGS_1984',6378137.0,298.257223563]],PRIMEM['Greenwich',0.0],UNIT['Degree',0.0174532925199433]]\")\n",
    "print(\"Area_geo computed\")"
   ]
  },
  {
   "cell_type": "code",
   "execution_count": 28,
   "metadata": {},
   "outputs": [
    {
     "data": {
      "text/html": [
       "<h2>Output</h2>a Layer object<h2>Messages</h2>Start Time: Monday, July 12, 2021 11:11:19 AM<br/>Succeeded at Monday, July 12, 2021 11:11:19 AM (Elapsed Time: 0.01 seconds)<br/><style>.rendered_html td, .rendered_html th {text-align: left;}.rendered_html tbody {border: 1px solid black;}</style>"
      ],
      "text/plain": [
       "<Result 'C:\\\\Users\\\\ywx12\\\\Desktop\\\\PhD\\\\RA\\\\ProtectedLand\\\\ProtConn_CALC\\\\data\\\\PA\\\\WDPA_May2021_Public\\\\WDPA_May2021_Public.gdb/dissolved_iso3_over_1_km2'>"
      ]
     },
     "execution_count": 28,
     "metadata": {},
     "output_type": "execute_result"
    }
   ],
   "source": [
    "# Process: Make Feature Layer over 1 km2\n",
    "arcpy.MakeFeatureLayer_management(wdpa_all_relevant_simpl_dissolved_ISO3, dissolved_iso3_over_1_km2, \"\\\"AREA_GEO\\\" >=1\", \"\", \"iso3 iso3 VISIBLE NONE;AREA_GEO AREA_GEO VISIBLE NONE\")"
   ]
  },
  {
   "cell_type": "code",
   "execution_count": 31,
   "metadata": {},
   "outputs": [
    {
     "data": {
      "text/html": [
       "<h2>Output</h2>C:\\Users\\ywx12\\Desktop\\PhD\\RA\\ProtectedLand\\ProtConn_CALC\\data\\PA\\WDPA_May2021_Public\\WDPA_May2021_Public.gdb\\wdpa_all_relevant_simpl_dissolved_iso3_clipped_land<h2>Messages</h2>Start Time: Monday, July 12, 2021 11:12:57 AM<br/>Reading Features...<br/>Assembling Features...<br/>Cracking Features...<br/>Succeeded at Monday, July 12, 2021 11:31:18 AM (Elapsed Time: 18 minutes 20 seconds)<br/><style>.rendered_html td, .rendered_html th {text-align: left;}.rendered_html tbody {border: 1px solid black;}</style>"
      ],
      "text/plain": [
       "<Result 'C:\\\\Users\\\\ywx12\\\\Desktop\\\\PhD\\\\RA\\\\ProtectedLand\\\\ProtConn_CALC\\\\data\\\\PA\\\\WDPA_May2021_Public\\\\WDPA_May2021_Public.gdb\\\\wdpa_all_relevant_simpl_dissolved_iso3_clipped_land'>"
      ]
     },
     "execution_count": 31,
     "metadata": {},
     "output_type": "execute_result"
    }
   ],
   "source": [
    "# Process: Clip\n",
    "arcpy.Clip_analysis(dissolved_iso3_over_1_km2, gaul, wdpa_all_relevant_simpl_dissolved_iso3_clipped_land, \"\")\n",
    "# print(\"Features clipped on gdam\")"
   ]
  },
  {
   "cell_type": "code",
   "execution_count": 32,
   "metadata": {},
   "outputs": [
    {
     "name": "stdout",
     "output_type": "stream",
     "text": [
      "Area_geo re-computed\n"
     ]
    }
   ],
   "source": [
    "# Process: Add Geometry Attributes (2)\n",
    "arcpy.AddGeometryAttributes_management(wdpa_all_relevant_simpl_dissolved_iso3_clipped_land, \"AREA_GEODESIC\", \"\", \"SQUARE_KILOMETERS\", \"GEOGCS['GCS_WGS_1984',DATUM['D_WGS_1984',SPHEROID['WGS_1984',6378137.0,298.257223563]],PRIMEM['Greenwich',0.0],UNIT['Degree',0.0174532925199433]]\")\n",
    "print(\"Area_geo re-computed\")"
   ]
  },
  {
   "cell_type": "code",
   "execution_count": 33,
   "metadata": {},
   "outputs": [
    {
     "data": {
      "text/html": [
       "<h2>Output</h2>a Layer object<h2>Messages</h2>Start Time: Monday, July 12, 2021 11:32:58 AM<br/>Succeeded at Monday, July 12, 2021 11:32:58 AM (Elapsed Time: 0.02 seconds)<br/><style>.rendered_html td, .rendered_html th {text-align: left;}.rendered_html tbody {border: 1px solid black;}</style>"
      ],
      "text/plain": [
       "<Result 'C:\\\\Users\\\\ywx12\\\\Desktop\\\\PhD\\\\RA\\\\ProtectedLand\\\\ProtConn_CALC\\\\data\\\\PA\\\\WDPA_May2021_Public\\\\WDPA_May2021_Public.gdb/dissolved_iso3_clipped_land_over_1_km2'>"
      ]
     },
     "execution_count": 33,
     "metadata": {},
     "output_type": "execute_result"
    }
   ],
   "source": [
    "# Process: Make Feature Layer over 1 km2 (2)\n",
    "arcpy.MakeFeatureLayer_management(wdpa_all_relevant_simpl_dissolved_iso3_clipped_land, dissolved_iso3_clipped_land_over_1_km2, \"\\\"AREA_GEO\\\" >=1\", \"\", \"iso3 iso3 VISIBLE NONE;AREA_GEO AREA_GEO VISIBLE NONE;Shape_length Shape_length VISIBLE NONE;Shape_area Shape_area VISIBLE NONE\")"
   ]
  },
  {
   "cell_type": "code",
   "execution_count": 34,
   "metadata": {},
   "outputs": [
    {
     "data": {
      "text/html": [
       "<h2>Output</h2><table><tr><th>id</th><th>value</th></tr><tr><td>0</td><td>a Layer object</td></tr><tr><td>1</td><td>10463</td></tr></table><h2>Messages</h2>Start Time: Monday, July 12, 2021 11:32:59 AM<br/>Succeeded at Monday, July 12, 2021 11:32:59 AM (Elapsed Time: 0.05 seconds)<br/><style>.rendered_html td, .rendered_html th {text-align: left;}.rendered_html tbody {border: 1px solid black;}</style>"
      ],
      "text/plain": [
       "<Result 'C:\\\\Users\\\\ywx12\\\\Desktop\\\\PhD\\\\RA\\\\ProtectedLand\\\\ProtConn_CALC\\\\data\\\\PA\\\\WDPA_May2021_Public\\\\WDPA_May2021_Public.gdb/dissolved_iso3_clipped_land_over_1_km2'>"
      ]
     },
     "execution_count": 34,
     "metadata": {},
     "output_type": "execute_result"
    }
   ],
   "source": [
    "# Process: Select Layer By Attribute (2)\n",
    "arcpy.SelectLayerByAttribute_management(dissolved_iso3_clipped_land_over_1_km2, \"NEW_SELECTION\", \"iso3 NOT LIKE '%;%'\")"
   ]
  },
  {
   "cell_type": "code",
   "execution_count": 41,
   "metadata": {},
   "outputs": [
    {
     "data": {
      "text/html": [
       "<h2>Output</h2>a Layer object<h2>Messages</h2>Start Time: Monday, July 12, 2021 11:37:00 AM<br/>Succeeded at Monday, July 12, 2021 11:37:00 AM (Elapsed Time: 0.03 seconds)<br/><style>.rendered_html td, .rendered_html th {text-align: left;}.rendered_html tbody {border: 1px solid black;}</style>"
      ],
      "text/plain": [
       "<Result 'C:\\\\Users\\\\ywx12\\\\Desktop\\\\PhD\\\\RA\\\\ProtectedLand\\\\ProtConn_CALC\\\\data\\\\PA\\\\WDPA_May2021_Public\\\\WDPA_May2021_Public.gdb/wdpa_NO_multi_iso3'>"
      ]
     },
     "execution_count": 41,
     "metadata": {},
     "output_type": "execute_result"
    }
   ],
   "source": [
    "# ! Process: Make Feature Layer NO multi iso3\n",
    "arcpy.MakeFeatureLayer_management(select_NO_multi_iso3, wdpa_NO_multi_iso3, \"\", \"\",\n",
    "                                  \"iso3 iso3 VISIBLE NONE;AREA_GEO AREA_GEO VISIBLE NONE;Shape_Length Shape_Length VISIBLE NONE;Shape_Area Shape_Area VISIBLE NONE\"\n",
    "                                 )"
   ]
  },
  {
   "cell_type": "code",
   "execution_count": 42,
   "metadata": {},
   "outputs": [
    {
     "name": "stdout",
     "output_type": "stream",
     "text": [
      "Feature class with only No-multi iso3 created\n"
     ]
    }
   ],
   "source": [
    "# Process: Copy Features NO multi iso3\n",
    "arcpy.CopyFeatures_management(wdpa_NO_multi_iso3, iso3_no_multi, \"\", \"0\", \"0\", \"0\")\n",
    "print(\"Feature class with only No-multi iso3 created\")"
   ]
  },
  {
   "cell_type": "code",
   "execution_count": 43,
   "metadata": {},
   "outputs": [
    {
     "data": {
      "text/html": [
       "<h2>Output</h2>C:\\Users\\ywx12\\Desktop\\PhD\\RA\\ProtectedLand\\ProtConn_CALC\\data\\PA\\WDPA_May2021_Public\\WDPA_May2021_Public.gdb/iso3_no_multi<h2>Messages</h2>Start Time: Monday, July 12, 2021 11:37:05 AM<br/>Adding myISO3 to iso3_no_multi...<br/>Succeeded at Monday, July 12, 2021 11:37:06 AM (Elapsed Time: 0.12 seconds)<br/><style>.rendered_html td, .rendered_html th {text-align: left;}.rendered_html tbody {border: 1px solid black;}</style>"
      ],
      "text/plain": [
       "<Result 'C:\\\\Users\\\\ywx12\\\\Desktop\\\\PhD\\\\RA\\\\ProtectedLand\\\\ProtConn_CALC\\\\data\\\\PA\\\\WDPA_May2021_Public\\\\WDPA_May2021_Public.gdb/iso3_no_multi'>"
      ]
     },
     "execution_count": 43,
     "metadata": {},
     "output_type": "execute_result"
    }
   ],
   "source": [
    "# Process: Add Field myISO3\n",
    "arcpy.AddField_management(iso3_no_multi, \"myISO3\", \"TEXT\", \"\", \"\", \"\", \"\", \"NULLABLE\", \"NON_REQUIRED\", \"\")"
   ]
  },
  {
   "cell_type": "code",
   "execution_count": 44,
   "metadata": {},
   "outputs": [
    {
     "name": "stdout",
     "output_type": "stream",
     "text": [
      "Features no-multi iso3 processed\n"
     ]
    }
   ],
   "source": [
    "# Process: Calculate Field myISO3\n",
    "arcpy.CalculateField_management(iso3_no_multi, \"myISO3\", \"!iso3!\", \"PYTHON\", \"\")\n",
    "print(\"Features no-multi iso3 processed\")"
   ]
  },
  {
   "cell_type": "code",
   "execution_count": 45,
   "metadata": {},
   "outputs": [
    {
     "data": {
      "text/html": [
       "<h2>Output</h2><table><tr><th>id</th><th>value</th></tr><tr><td>0</td><td>a Layer object</td></tr><tr><td>1</td><td>2</td></tr></table><h2>Messages</h2>Start Time: Monday, July 12, 2021 11:37:09 AM<br/>Succeeded at Monday, July 12, 2021 11:37:10 AM (Elapsed Time: 0.03 seconds)<br/><style>.rendered_html td, .rendered_html th {text-align: left;}.rendered_html tbody {border: 1px solid black;}</style>"
      ],
      "text/plain": [
       "<Result 'C:\\\\Users\\\\ywx12\\\\Desktop\\\\PhD\\\\RA\\\\ProtectedLand\\\\ProtConn_CALC\\\\data\\\\PA\\\\WDPA_May2021_Public\\\\WDPA_May2021_Public.gdb/dissolved_iso3_clipped_land_over_1_km2'>"
      ]
     },
     "execution_count": 45,
     "metadata": {},
     "output_type": "execute_result"
    }
   ],
   "source": [
    "# Process: Select Layer By Attribute\n",
    "arcpy.SelectLayerByAttribute_management(dissolved_iso3_clipped_land_over_1_km2, \"NEW_SELECTION\", \"iso3 LIKE '%;%'\")"
   ]
  },
  {
   "cell_type": "code",
   "execution_count": 48,
   "metadata": {},
   "outputs": [
    {
     "data": {
      "text/html": [
       "<h2>Output</h2>a Layer object<h2>Messages</h2>Start Time: Monday, July 12, 2021 11:37:43 AM<br/>Succeeded at Monday, July 12, 2021 11:37:43 AM (Elapsed Time: 0.04 seconds)<br/><style>.rendered_html td, .rendered_html th {text-align: left;}.rendered_html tbody {border: 1px solid black;}</style>"
      ],
      "text/plain": [
       "<Result 'C:\\\\Users\\\\ywx12\\\\Desktop\\\\PhD\\\\RA\\\\ProtectedLand\\\\ProtConn_CALC\\\\data\\\\PA\\\\WDPA_May2021_Public\\\\WDPA_May2021_Public.gdb/wdpa_only_multi_iso3'>"
      ]
     },
     "execution_count": 48,
     "metadata": {},
     "output_type": "execute_result"
    }
   ],
   "source": [
    "# Process: Make Feature Layer only multi iso3\n",
    "arcpy.MakeFeatureLayer_management(select_only_multi_iso3, wdpa_only_multi_iso3, \"\", \"\", \"iso3 iso3 VISIBLE NONE;AREA_GEO AREA_GEO VISIBLE NONE;Shape_length Shape_length VISIBLE NONE;Shape_area Shape_area VISIBLE NONE\")"
   ]
  },
  {
   "cell_type": "code",
   "execution_count": 49,
   "metadata": {},
   "outputs": [
    {
     "name": "stdout",
     "output_type": "stream",
     "text": [
      "Feature class with only multi iso3 created\n"
     ]
    }
   ],
   "source": [
    "# Process: Copy Features\n",
    "arcpy.CopyFeatures_management(wdpa_only_multi_iso3, iso3_multi, \"\", \"0\", \"0\", \"0\")\n",
    "print(\"Feature class with only multi iso3 created\")"
   ]
  },
  {
   "cell_type": "code",
   "execution_count": 50,
   "metadata": {},
   "outputs": [
    {
     "data": {
      "text/html": [
       "<h2>Output</h2>C:\\Users\\ywx12\\Desktop\\PhD\\RA\\ProtectedLand\\ProtConn_CALC\\data\\PA\\WDPA_May2021_Public\\WDPA_May2021_Public.gdb\\iso3_multi_erased<h2>Messages</h2>Start Time: Monday, July 12, 2021 11:37:46 AM<br/>Assembling Features...<br/>Reading Features...<br/>Cracking Features...<br/>Succeeded at Monday, July 12, 2021 11:37:48 AM (Elapsed Time: 1.96 seconds)<br/><style>.rendered_html td, .rendered_html th {text-align: left;}.rendered_html tbody {border: 1px solid black;}</style>"
      ],
      "text/plain": [
       "<Result 'C:\\\\Users\\\\ywx12\\\\Desktop\\\\PhD\\\\RA\\\\ProtectedLand\\\\ProtConn_CALC\\\\data\\\\PA\\\\WDPA_May2021_Public\\\\WDPA_May2021_Public.gdb\\\\iso3_multi_erased'>"
      ]
     },
     "execution_count": 50,
     "metadata": {},
     "output_type": "execute_result"
    }
   ],
   "source": [
    "# Process: Erase\n",
    "arcpy.Erase_analysis(iso3_multi, iso3_no_multi, iso3_multi_erased, \"\")"
   ]
  },
  {
   "cell_type": "code",
   "execution_count": 54,
   "metadata": {},
   "outputs": [
    {
     "data": {
      "text/html": [
       "<h2>Output</h2>C:\\Users\\ywx12\\Desktop\\PhD\\RA\\ProtectedLand\\ProtConn_CALC\\data\\PA\\WDPA_May2021_Public\\WDPA_May2021_Public.gdb\\intersected_gdam_erased<h2>Messages</h2>Start Time: Monday, July 12, 2021 12:16:56 PM<br/>Assembling Features...<br/>Reading Features...<br/>Cracking Features...<br/>Succeeded at Monday, July 12, 2021 12:31:00 PM (Elapsed Time: 14 minutes 4 seconds)<br/><style>.rendered_html td, .rendered_html th {text-align: left;}.rendered_html tbody {border: 1px solid black;}</style>"
      ],
      "text/plain": [
       "<Result 'C:\\\\Users\\\\ywx12\\\\Desktop\\\\PhD\\\\RA\\\\ProtectedLand\\\\ProtConn_CALC\\\\data\\\\PA\\\\WDPA_May2021_Public\\\\WDPA_May2021_Public.gdb\\\\intersected_gdam_erased'>"
      ]
     },
     "execution_count": 54,
     "metadata": {},
     "output_type": "execute_result"
    }
   ],
   "source": [
    "# Process: Intersect\n",
    "arcpy.Intersect_analysis([iso3_multi_erased,gaul], intersected_gaul_erased, \"ALL\", \"\", \"INPUT\")\n",
    "# this step is intended to assign PAs with multiple ISO3 codes to countries where they are in\n",
    "# by intersecting them with national boundaries"
   ]
  },
  {
   "cell_type": "code",
   "execution_count": 55,
   "metadata": {},
   "outputs": [
    {
     "data": {
      "text/html": [
       "<h2>Output</h2>C:\\Users\\ywx12\\Desktop\\PhD\\RA\\ProtectedLand\\ProtConn_CALC\\data\\PA\\WDPA_May2021_Public\\WDPA_May2021_Public.gdb/intersected_gdam_erased<h2>Messages</h2>Start Time: Monday, July 12, 2021 12:31:09 PM<br/>Adding myISO3 to intersected_gdam_erased...<br/>Succeeded at Monday, July 12, 2021 12:31:09 PM (Elapsed Time: 0.19 seconds)<br/><style>.rendered_html td, .rendered_html th {text-align: left;}.rendered_html tbody {border: 1px solid black;}</style>"
      ],
      "text/plain": [
       "<Result 'C:\\\\Users\\\\ywx12\\\\Desktop\\\\PhD\\\\RA\\\\ProtectedLand\\\\ProtConn_CALC\\\\data\\\\PA\\\\WDPA_May2021_Public\\\\WDPA_May2021_Public.gdb/intersected_gdam_erased'>"
      ]
     },
     "execution_count": 55,
     "metadata": {},
     "output_type": "execute_result"
    }
   ],
   "source": [
    "# Process: Add Field myISO3 (2)\n",
    "arcpy.AddField_management(intersected_gaul_erased, \"myISO3\", \"TEXT\", \"\", \"\", \"\", \"\", \"NULLABLE\", \"NON_REQUIRED\", \"\")"
   ]
  },
  {
   "cell_type": "code",
   "execution_count": 56,
   "metadata": {},
   "outputs": [
    {
     "data": {
      "text/html": [
       "<h2>Output</h2>C:\\Users\\ywx12\\Desktop\\PhD\\RA\\ProtectedLand\\ProtConn_CALC\\data\\PA\\WDPA_May2021_Public\\WDPA_May2021_Public.gdb/intersected_gdam_erased<h2>Messages</h2>Start Time: Monday, July 12, 2021 12:31:10 PM<br/>Succeeded at Monday, July 12, 2021 12:31:10 PM (Elapsed Time: 0.07 seconds)<br/><style>.rendered_html td, .rendered_html th {text-align: left;}.rendered_html tbody {border: 1px solid black;}</style>"
      ],
      "text/plain": [
       "<Result 'C:\\\\Users\\\\ywx12\\\\Desktop\\\\PhD\\\\RA\\\\ProtectedLand\\\\ProtConn_CALC\\\\data\\\\PA\\\\WDPA_May2021_Public\\\\WDPA_May2021_Public.gdb/intersected_gdam_erased'>"
      ]
     },
     "execution_count": 56,
     "metadata": {},
     "output_type": "execute_result"
    }
   ],
   "source": [
    "# Process: Calculate Field myISO3 (2)\n",
    "arcpy.CalculateField_management(intersected_gaul_erased, \"myISO3\", \"!GID_0!\", \"PYTHON\", \"\")"
   ]
  },
  {
   "cell_type": "code",
   "execution_count": 57,
   "metadata": {},
   "outputs": [
    {
     "name": "stdout",
     "output_type": "stream",
     "text": [
      "Features multi iso3 processed\n"
     ]
    }
   ],
   "source": [
    "# Process: Merge\n",
    "# arcpy.Merge_management(\"Z:/globes/USERS/GIACOMO/protconn/data/ProtConn_jun2020.gdb/iso3_no_multi;Z:/globes/USERS/GIACOMO/protconn/data/ProtConn_jun2020.gdb/intersected_gaul_erased\", wdpa_multi_iso3_together, \"iso3 \\\"iso3\\\" true true false 50 Text 0 0 ,First,#,Z:/globes/USERS/GIACOMO/protconn/data/ProtConn_jun2020.gdb/iso3_no_multi,iso3,-1,-1,Z:/globes/USERS/GIACOMO/protconn/data/ProtConn_jun2020.gdb/intersected_gaul_erased,iso3,-1,-1;AREA_GEO \\\"AREA_GEO\\\" true true false 3014713 Double 98 6553703 ,First,#,Z:/globes/USERS/GIACOMO/protconn/data/ProtConn_jun2020.gdb/iso3_no_multi,AREA_GEO,-1,-1,Z:/globes/USERS/GIACOMO/protconn/data/ProtConn_jun2020.gdb/intersected_gaul_erased,AREA_GEO,-1,-1;myISO3 \\\"myISO3\\\" true true false 50 Text 0 0 ,First,#,Z:/globes/USERS/GIACOMO/protconn/data/ProtConn_jun2020.gdb/iso3_no_multi,myISO3,-1,-1,Z:/globes/USERS/GIACOMO/protconn/data/ProtConn_jun2020.gdb/intersected_gaul_erased,myISO3,-1,-1;FID_gaul \\\"FID_gaul\\\" true true false 0 Long 0 0 ,First,#,Z:/globes/USERS/GIACOMO/protconn/data/ProtConn_jun2020.gdb/intersected_gaul_erased,FID_gaul,-1,-1;iso3_1 \\\"iso3_1\\\" true true false 254 Text 0 0 ,First,#,Z:/globes/USERS/GIACOMO/protconn/data/ProtConn_jun2020.gdb/intersected_gaul_erased,iso3_1,-1,-1\")\n",
    "arcpy.Merge_management([iso3_no_multi,intersected_gaul_erased], wdpa_multi_iso3_together)\n",
    "print(\"Features multi iso3 processed\")"
   ]
  },
  {
   "cell_type": "code",
   "execution_count": 58,
   "metadata": {},
   "outputs": [
    {
     "data": {
      "text/html": [
       "<h2>Output</h2>C:\\Users\\ywx12\\Desktop\\PhD\\RA\\ProtectedLand\\ProtConn_CALC\\data\\PA\\WDPA_May2021_Public\\WDPA_May2021_Public.gdb/wdpa_multi_iso3_together<h2>Messages</h2>Start Time: Monday, July 12, 2021 12:31:12 PM<br/>Adding ISO3final to wdpa_multi_iso3_together...<br/>Succeeded at Monday, July 12, 2021 12:31:12 PM (Elapsed Time: 0.15 seconds)<br/><style>.rendered_html td, .rendered_html th {text-align: left;}.rendered_html tbody {border: 1px solid black;}</style>"
      ],
      "text/plain": [
       "<Result 'C:\\\\Users\\\\ywx12\\\\Desktop\\\\PhD\\\\RA\\\\ProtectedLand\\\\ProtConn_CALC\\\\data\\\\PA\\\\WDPA_May2021_Public\\\\WDPA_May2021_Public.gdb/wdpa_multi_iso3_together'>"
      ]
     },
     "execution_count": 58,
     "metadata": {},
     "output_type": "execute_result"
    }
   ],
   "source": [
    "# Process: Add Field ISO3final (3)\n",
    "arcpy.AddField_management(wdpa_multi_iso3_together, \"ISO3final\", \"TEXT\", \"\", \"\", \"50\", \"\", \"NULLABLE\", \"NON_REQUIRED\", \"\")"
   ]
  },
  {
   "cell_type": "code",
   "execution_count": 59,
   "metadata": {},
   "outputs": [
    {
     "data": {
      "text/html": [
       "<h2>Output</h2>C:\\Users\\ywx12\\Desktop\\PhD\\RA\\ProtectedLand\\ProtConn_CALC\\data\\PA\\WDPA_May2021_Public\\WDPA_May2021_Public.gdb/wdpa_multi_iso3_together<h2>Messages</h2>Start Time: Monday, July 12, 2021 12:31:12 PM<br/>Succeeded at Monday, July 12, 2021 12:31:14 PM (Elapsed Time: 1.16 seconds)<br/><style>.rendered_html td, .rendered_html th {text-align: left;}.rendered_html tbody {border: 1px solid black;}</style>"
      ],
      "text/plain": [
       "<Result 'C:\\\\Users\\\\ywx12\\\\Desktop\\\\PhD\\\\RA\\\\ProtectedLand\\\\ProtConn_CALC\\\\data\\\\PA\\\\WDPA_May2021_Public\\\\WDPA_May2021_Public.gdb/wdpa_multi_iso3_together'>"
      ]
     },
     "execution_count": 59,
     "metadata": {},
     "output_type": "execute_result"
    }
   ],
   "source": [
    "# Process: Calculate Field myISO3 (3)\n",
    "arcpy.CalculateField_management(wdpa_multi_iso3_together, \"ISO3final\", \"!myISO3!\", \"PYTHON\", \"\")"
   ]
  },
  {
   "cell_type": "code",
   "execution_count": 60,
   "metadata": {},
   "outputs": [
    {
     "data": {
      "text/html": [
       "<h2>Output</h2>C:\\Users\\ywx12\\Desktop\\PhD\\RA\\ProtectedLand\\ProtConn_CALC\\data\\PA\\WDPA_May2021_Public\\WDPA_May2021_Public.gdb\\wdpa_multi_iso3_together_dissolved_ISO3final<h2>Messages</h2>Start Time: Monday, July 12, 2021 12:31:14 PM<br/>Sorting Attributes...<br/>Dissolving...<br/>Succeeded at Monday, July 12, 2021 12:31:19 PM (Elapsed Time: 5.76 seconds)<br/><style>.rendered_html td, .rendered_html th {text-align: left;}.rendered_html tbody {border: 1px solid black;}</style>"
      ],
      "text/plain": [
       "<Result 'C:\\\\Users\\\\ywx12\\\\Desktop\\\\PhD\\\\RA\\\\ProtectedLand\\\\ProtConn_CALC\\\\data\\\\PA\\\\WDPA_May2021_Public\\\\WDPA_May2021_Public.gdb\\\\wdpa_multi_iso3_together_dissolved_ISO3final'>"
      ]
     },
     "execution_count": 60,
     "metadata": {},
     "output_type": "execute_result"
    }
   ],
   "source": [
    "# Process: Dissolve by ISO3final\n",
    "arcpy.Dissolve_management(wdpa_multi_iso3_together, wdpa_multi_iso3_together_dissolved_ISO3final, \"ISO3final\", \"\", \"SINGLE_PART\", \"DISSOLVE_LINES\")\n",
    "# print(\"Features dissolved\")"
   ]
  },
  {
   "cell_type": "code",
   "execution_count": 61,
   "metadata": {},
   "outputs": [
    {
     "data": {
      "text/html": [
       "<h2>Output</h2>C:\\Users\\ywx12\\Desktop\\PhD\\RA\\ProtectedLand\\ProtConn_CALC\\data\\PA\\WDPA_May2021_Public\\WDPA_May2021_Public.gdb/wdpa_multi_iso3_together_dissolved_ISO3final<h2>Messages</h2>Start Time: Monday, July 12, 2021 12:31:20 PM<br/>Succeeded at Monday, July 12, 2021 12:31:35 PM (Elapsed Time: 14.87 seconds)<br/><style>.rendered_html td, .rendered_html th {text-align: left;}.rendered_html tbody {border: 1px solid black;}</style>"
      ],
      "text/plain": [
       "<Result 'C:\\\\Users\\\\ywx12\\\\Desktop\\\\PhD\\\\RA\\\\ProtectedLand\\\\ProtConn_CALC\\\\data\\\\PA\\\\WDPA_May2021_Public\\\\WDPA_May2021_Public.gdb/wdpa_multi_iso3_together_dissolved_ISO3final'>"
      ]
     },
     "execution_count": 61,
     "metadata": {},
     "output_type": "execute_result"
    }
   ],
   "source": [
    "# Process: Add Geometry Attributes (3)\n",
    "arcpy.AddGeometryAttributes_management(wdpa_multi_iso3_together_dissolved_ISO3final, \"AREA_GEODESIC\", \"\", \"SQUARE_KILOMETERS\", \"GEOGCS['GCS_WGS_1984',DATUM['D_WGS_1984',SPHEROID['WGS_1984',6378137.0,298.257223563]],PRIMEM['Greenwich',0.0],UNIT['Degree',0.0174532925199433]]\")"
   ]
  },
  {
   "cell_type": "code",
   "execution_count": 62,
   "metadata": {},
   "outputs": [
    {
     "name": "stdout",
     "output_type": "stream",
     "text": [
      "Geodesic area computed and features < 1km2 filtered out\n"
     ]
    }
   ],
   "source": [
    "# Process: Make Feature Layer >=1 1km2\n",
    "arcpy.MakeFeatureLayer_management(wdpa_multi_iso3_together_dissolved_ISO3final, wdpa_multi_iso3_together_dissolved_ISO3final_LYR, \"\\\"AREA_GEO\\\" >=1\", \"\", \"ISO3final ISO3final VISIBLE NONE;AREA_GEO AREA_GEO VISIBLE NONE\")\n",
    "print(\"Geodesic area computed and features < 1km2 filtered out\")"
   ]
  },
  {
   "cell_type": "code",
   "execution_count": 63,
   "metadata": {},
   "outputs": [
    {
     "data": {
      "text/html": [
       "<h2>Output</h2>C:\\Users\\ywx12\\Desktop\\PhD\\RA\\ProtectedLand\\ProtConn_CALC\\data\\PA\\WDPA_May2021_Public\\WDPA_May2021_Public.gdb\\wdpa_multi_iso3_together_dissolved_ISO3final_1km2<h2>Messages</h2>Start Time: Monday, July 12, 2021 12:31:43 PM<br/>Succeeded at Monday, July 12, 2021 12:31:45 PM (Elapsed Time: 1.36 seconds)<br/><style>.rendered_html td, .rendered_html th {text-align: left;}.rendered_html tbody {border: 1px solid black;}</style>"
      ],
      "text/plain": [
       "<Result 'C:\\\\Users\\\\ywx12\\\\Desktop\\\\PhD\\\\RA\\\\ProtectedLand\\\\ProtConn_CALC\\\\data\\\\PA\\\\WDPA_May2021_Public\\\\WDPA_May2021_Public.gdb\\\\wdpa_multi_iso3_together_dissolved_ISO3final_1km2'>"
      ]
     },
     "execution_count": 63,
     "metadata": {},
     "output_type": "execute_result"
    }
   ],
   "source": [
    "# Process: Copy Features NO multi iso3 (2)\n",
    "arcpy.CopyFeatures_management(wdpa_multi_iso3_together_dissolved_ISO3final_LYR, wdpa_multi_iso3_together_dissolved_ISO3final_1km2, \"\", \"0\", \"0\", \"0\")"
   ]
  },
  {
   "cell_type": "code",
   "execution_count": 64,
   "metadata": {},
   "outputs": [
    {
     "data": {
      "text/html": [
       "<h2>Output</h2>C:\\Users\\ywx12\\Desktop\\PhD\\RA\\ProtectedLand\\ProtConn_CALC\\data\\PA\\WDPA_May2021_Public\\WDPA_May2021_Public.gdb/wdpa_multi_iso3_together_dissolved_ISO3final_1km2<h2>Messages</h2>Start Time: Monday, July 12, 2021 12:31:46 PM<br/>Succeeded at Monday, July 12, 2021 12:32:04 PM (Elapsed Time: 18.09 seconds)<br/><style>.rendered_html td, .rendered_html th {text-align: left;}.rendered_html tbody {border: 1px solid black;}</style>"
      ],
      "text/plain": [
       "<Result 'C:\\\\Users\\\\ywx12\\\\Desktop\\\\PhD\\\\RA\\\\ProtectedLand\\\\ProtConn_CALC\\\\data\\\\PA\\\\WDPA_May2021_Public\\\\WDPA_May2021_Public.gdb/wdpa_multi_iso3_together_dissolved_ISO3final_1km2'>"
      ]
     },
     "execution_count": 64,
     "metadata": {},
     "output_type": "execute_result"
    }
   ],
   "source": [
    "# Process: Repair Geometry (3)\n",
    "arcpy.RepairGeometry_management(wdpa_multi_iso3_together_dissolved_ISO3final_1km2, \"DELETE_NULL\")\n",
    "# print(\"Geometry of multi-iso3 features repaired\")"
   ]
  },
  {
   "cell_type": "code",
   "execution_count": 65,
   "metadata": {},
   "outputs": [
    {
     "data": {
      "text/html": [
       "<h2>Output</h2>C:\\Users\\ywx12\\Desktop\\PhD\\RA\\ProtectedLand\\ProtConn_CALC\\data\\PA\\WDPA_May2021_Public\\WDPA_May2021_Public.gdb\\wdpa_multi_iso3_together_dissolved_ISO3final_1km2_singleparted<h2>Messages</h2>Start Time: Monday, July 12, 2021 12:32:04 PM<br/>Succeeded at Monday, July 12, 2021 12:32:05 PM (Elapsed Time: 1.14 seconds)<br/><style>.rendered_html td, .rendered_html th {text-align: left;}.rendered_html tbody {border: 1px solid black;}</style>"
      ],
      "text/plain": [
       "<Result 'C:\\\\Users\\\\ywx12\\\\Desktop\\\\PhD\\\\RA\\\\ProtectedLand\\\\ProtConn_CALC\\\\data\\\\PA\\\\WDPA_May2021_Public\\\\WDPA_May2021_Public.gdb\\\\wdpa_multi_iso3_together_dissolved_ISO3final_1km2_singleparted'>"
      ]
     },
     "execution_count": 65,
     "metadata": {},
     "output_type": "execute_result"
    }
   ],
   "source": [
    "# Process: Multipart To Singlepart\n",
    "arcpy.MultipartToSinglepart_management(wdpa_multi_iso3_together_dissolved_ISO3final_1km2, wdpa_multi_iso3_together_dissolved_ISO3final_1km2_singleparted)\n",
    "# print(\"multi-iso3 converted to single part\")"
   ]
  },
  {
   "cell_type": "code",
   "execution_count": 66,
   "metadata": {},
   "outputs": [
    {
     "data": {
      "text/html": [
       "<h2>Output</h2>C:\\Users\\ywx12\\Desktop\\PhD\\RA\\ProtectedLand\\ProtConn_CALC\\data\\PA\\WDPA_May2021_Public\\WDPA_May2021_Public.gdb/wdpa_multi_iso3_together_dissolved_ISO3final_1km2_singleparted<h2>Messages</h2>Start Time: Monday, July 12, 2021 12:32:06 PM<br/>WARNING 001097: AREA_GEO  already exists -- overwriting.<br/>Succeeded at Monday, July 12, 2021 12:32:16 PM (Elapsed Time: 10.11 seconds)<br/><style>.rendered_html td, .rendered_html th {text-align: left;}.rendered_html tbody {border: 1px solid black;}</style>"
      ],
      "text/plain": [
       "<Result 'C:\\\\Users\\\\ywx12\\\\Desktop\\\\PhD\\\\RA\\\\ProtectedLand\\\\ProtConn_CALC\\\\data\\\\PA\\\\WDPA_May2021_Public\\\\WDPA_May2021_Public.gdb/wdpa_multi_iso3_together_dissolved_ISO3final_1km2_singleparted'>"
      ]
     },
     "execution_count": 66,
     "metadata": {},
     "output_type": "execute_result"
    }
   ],
   "source": [
    "# Process: Add Geometry Attributes (4)\n",
    "arcpy.AddGeometryAttributes_management(wdpa_multi_iso3_together_dissolved_ISO3final_1km2_singleparted, \"AREA_GEODESIC\", \"\", \"SQUARE_KILOMETERS\", \"GEOGCS['GCS_WGS_1984',DATUM['D_WGS_1984',SPHEROID['WGS_1984',6378137.0,298.257223563]],PRIMEM['Greenwich',0.0],UNIT['Degree',0.0174532925199433]]\")"
   ]
  },
  {
   "cell_type": "code",
   "execution_count": 67,
   "metadata": {},
   "outputs": [
    {
     "name": "stdout",
     "output_type": "stream",
     "text": [
      "Geometries re-repaired for the nth time....\n"
     ]
    }
   ],
   "source": [
    "# Process: Repair Geometry (4)\n",
    "arcpy.RepairGeometry_management(wdpa_multi_iso3_together_dissolved_ISO3final_1km2_singleparted, \"DELETE_NULL\")\n",
    "print(\"Geometries re-repaired for the nth time....\")"
   ]
  },
  {
   "cell_type": "code",
   "execution_count": null,
   "metadata": {},
   "outputs": [],
   "source": [
    "# and this file is renamed to be wdpa_mexcan_preprocessed"
   ]
  }
 ],
 "metadata": {
  "kernelspec": {
   "display_name": "Python 3",
   "language": "python",
   "name": "python3"
  },
  "language_info": {
   "codemirror_mode": {
    "name": "ipython",
    "version": 3
   },
   "file_extension": ".py",
   "mimetype": "text/x-python",
   "name": "python",
   "nbconvert_exporter": "python",
   "pygments_lexer": "ipython3",
   "version": "3.8.8"
  }
 },
 "nbformat": 4,
 "nbformat_minor": 2
}
