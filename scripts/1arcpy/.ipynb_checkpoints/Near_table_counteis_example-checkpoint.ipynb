{
 "cells": [
  {
   "cell_type": "code",
   "execution_count": null,
   "id": "264c8144",
   "metadata": {},
   "outputs": [],
   "source": [
    "import arcpy\n",
    "import os\n",
    "from datetime import datetime\n",
    "\n",
    "shp_folder = r\"C:\\Users\\wyang80\\Desktop\\ProtConn\\data\\REGION_PA\\COUNTIES\"\n",
    "txt_folder = r\"C:\\Users\\wyang80\\Desktop\\ProtConn\\data\\REGION_PA\\COUNTIES\"\n",
    "out_folder = r\"C:\\Users\\wyang80\\Desktop\\ProtConn\\data\\REGION_PA\\COUNTIES\\Neartab_Out\"\n",
    "outgdb = 'neartab.gdb'\n",
    "\n",
    "if not os.path.exists(out_folder):\n",
    "    os.mkdir(out_folder)\n",
    "if not arcpy.Exists(os.path.join(out_folder, outgdb)):\n",
    "    arcpy.CreateFileGDB_management(out_folder, outgdb)\n",
    "    \n",
    "name_shp = [f for f in os.listdir(shp_folder) if f.endswith('.shp')]\n",
    "\n",
    "for n in name_shp:\n",
    "    prefix_name = n.split(\".\")[0]\n",
    "    path_shp = os.path.join(shp_folder, n)\n",
    "    path_txt = os.path.join(txt_folder, prefix_name + '.txt')\n",
    "    outfile = os.path.join(out_folder, outgdb, 'Near_tab_' + prefix_name)\n",
    "    if arcpy.Exists(outfile):\n",
    "        pass\n",
    "    else:\n",
    "        time0 = time.time()\n",
    "        arcpy.GenerateNearTable_analysis(path_shp, path_shp, \n",
    "                                     outfile,\n",
    "                                     \"230 Kilometers\",\n",
    "                                     \"NO_LOCATION\",\n",
    "                                     \"NO_ANGLE\",\n",
    "                                     \"ALL\",\n",
    "                                     \"\",\n",
    "                                     \"GEODESIC\")\n",
    "        time1 = time.time()\n",
    "        totaltime = (time1-time0)/60\n",
    "        print(n + ' done, time lapsed: ' +  \"{:.2f}\".format(totaltime))\n",
    "    print(outfile)"
   ]
  }
 ],
 "metadata": {
  "kernelspec": {
   "display_name": "Python 3",
   "language": "python",
   "name": "python3"
  },
  "language_info": {
   "codemirror_mode": {
    "name": "ipython",
    "version": 3
   },
   "file_extension": ".py",
   "mimetype": "text/x-python",
   "name": "python",
   "nbconvert_exporter": "python",
   "pygments_lexer": "ipython3",
   "version": "3.8.8"
  }
 },
 "nbformat": 4,
 "nbformat_minor": 5
}
