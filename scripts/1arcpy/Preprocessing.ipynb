{
 "cells": [
  {
   "cell_type": "markdown",
   "metadata": {},
   "source": [
    "# Step 1: merge PAs of mexico, canada, and the us"
   ]
  },
  {
   "cell_type": "code",
   "execution_count": 2,
   "metadata": {},
   "outputs": [],
   "source": [
    "import sys\n",
    "import arcpy\n",
    "from arcpy import env\n",
    "import os\n",
    "import os.path\n",
    "import arcpy.cartography as CA"
   ]
  },
  {
   "cell_type": "code",
   "execution_count": 3,
   "metadata": {},
   "outputs": [
    {
     "name": "stdout",
     "output_type": "stream",
     "text": [
      " \n",
      "PROCEDURE STARTED at  2022-05-18 16:54:33\n",
      "-------------------------------------------------------\n"
     ]
    }
   ],
   "source": [
    "from datetime import datetime\n",
    "firststarttime=datetime.now()\n",
    "\n",
    "print(\" \")\n",
    "print(\"PROCEDURE STARTED at \", datetime.now().strftime('%Y-%m-%d %H:%M:%S'))\n",
    "print('-------------------------------------------------------')\n",
    "\n",
    "# Set environment variables\n",
    "arcpy.env.overwriteOutput = True\n",
    "sr = arcpy.SpatialReference('North America Albers Equal Area Conic')"
   ]
  },
  {
   "cell_type": "code",
   "execution_count": 4,
   "metadata": {},
   "outputs": [],
   "source": [
    "# Output Geodatabase\n",
    "outgdb_name=\"ProtConn_COUNTIES_May2022.gdb\"\n",
    "outgdb_fullpath = r\"C:\\Users\\wyang80\\Desktop\\ProtConn\\data\\ProtConn_COUNTIES_May2022.gdb\"\n",
    "#Out_path\n",
    "outpath=r\"C:\\Users\\wyang80\\Desktop\\ProtConn\\data\""
   ]
  },
  {
   "cell_type": "raw",
   "metadata": {},
   "source": [
    "PA_mexcan = r'C:\\Users\\ywx12\\Desktop\\PhD\\RA\\ProtectedLand\\ProtConn_CALC\\data\\PA\\WDPA_May2021_Public\\WDPA_May2021_Public.gdb\\wdpa_mexcan_preprocessed'\n",
    "PA_us = r'C:\\Users\\ywx12\\Desktop\\PhD\\RA\\ProtectedLand\\ProtConn_CALC\\data\\PA_relevant_simp_0623.shp'"
   ]
  },
  {
   "cell_type": "code",
   "execution_count": 5,
   "metadata": {},
   "outputs": [],
   "source": [
    "# PA_all = outgdb_fullpath + '/PA_mexcan_us'"
   ]
  },
  {
   "cell_type": "code",
   "execution_count": 6,
   "metadata": {},
   "outputs": [
    {
     "data": {
      "text/html": [
       "<h2>Output</h2>C:\\Users\\ywx12\\Desktop\\PhD\\RA\\ProtectedLand\\ProtConn_CALC\\data\\ProtConn_July2021_1.gdb\\PA_mexcan_us<h2>Messages</h2>Start Time: Tuesday, July 20, 2021 2:21:57 PM<br/>Succeeded at Tuesday, July 20, 2021 2:22:17 PM (Elapsed Time: 19.07 seconds)<br/><style>.rendered_html td, .rendered_html th {text-align: left;}.rendered_html tbody {border: 1px solid black;}</style>"
      ],
      "text/plain": [
       "<Result 'C:\\\\Users\\\\ywx12\\\\Desktop\\\\PhD\\\\RA\\\\ProtectedLand\\\\ProtConn_CALC\\\\data\\\\ProtConn_July2021_1.gdb\\\\PA_mexcan_us'>"
      ]
     },
     "execution_count": 6,
     "metadata": {},
     "output_type": "execute_result"
    }
   ],
   "source": [
    "# Process: Merge\n",
    "# arcpy.Merge_management([PA_mexcan,PA_us], PA_all)"
   ]
  },
  {
   "cell_type": "markdown",
   "metadata": {},
   "source": [
    "# Step 2: read in and preprocess PA file"
   ]
  },
  {
   "cell_type": "code",
   "execution_count": 7,
   "metadata": {},
   "outputs": [],
   "source": [
    "# Local variables:\n",
    "# Input layers\n",
    "# PA_input = r'C:\\Users\\ywx12\\Desktop\\PhD\\RA\\ProtectedLand\\ProtConn_CALC\\data\\PA\\PAD_US2_1.gdb\\PADUS2_1Combined_Fee_Designation_Easement'\n",
    "# PA_input = PA_all"
   ]
  },
  {
   "cell_type": "code",
   "execution_count": 8,
   "metadata": {},
   "outputs": [],
   "source": [
    "PA_input_proj = r'C:\\Users\\ywx12\\Desktop\\PhD\\RA\\ProtectedLand\\ProtConn_CALC\\data\\PA_mexcan_us_proj.shp'"
   ]
  },
  {
   "cell_type": "code",
   "execution_count": 9,
   "metadata": {},
   "outputs": [
    {
     "data": {
      "text/html": [
       "<h2>Output</h2>C:\\Users\\ywx12\\Desktop\\PhD\\RA\\ProtectedLand\\ProtConn_CALC\\data\\PA_mexcan_us_proj.shp<h2>Messages</h2>Start Time: Tuesday, July 20, 2021 2:22:36 PM<br/>Succeeded at Tuesday, July 20, 2021 2:22:50 PM (Elapsed Time: 14.28 seconds)<br/><style>.rendered_html td, .rendered_html th {text-align: left;}.rendered_html tbody {border: 1px solid black;}</style>"
      ],
      "text/plain": [
       "<Result 'C:\\\\Users\\\\ywx12\\\\Desktop\\\\PhD\\\\RA\\\\ProtectedLand\\\\ProtConn_CALC\\\\data\\\\PA_mexcan_us_proj.shp'>"
      ]
     },
     "execution_count": 9,
     "metadata": {},
     "output_type": "execute_result"
    }
   ],
   "source": [
    "# Process: Project PA to sr\n",
    "# arcpy.management.Project(PA_input, PA_input_proj, sr)# Process: Project region layer to sr"
   ]
  },
  {
   "cell_type": "code",
   "execution_count": 10,
   "metadata": {
    "scrolled": true
   },
   "outputs": [
    {
     "data": {
      "text/html": [
       "<h2>Output</h2>C:\\Users\\ywx12\\Desktop\\PhD\\RA\\ProtectedLand\\ProtConn_CALC\\data\\PA_mexcan_us_proj.shp<h2>Messages</h2>Start Time: Tuesday, July 20, 2021 2:22:51 PM<br/>WARNING 000986: C:\\Users\\ywx12\\AppData\\Local\\Temp\\ArcGISProTemp9256\\PA_mexcan_us_proj0.txt contains the full list of non simple features.<br/>WARNING 000461: Repaired feature 997 because of self intersections<br/>WARNING 000461: Repaired feature 1926 because of self intersections<br/>WARNING 000461: Repaired feature 3763 because of self intersections<br/>WARNING 000461: Repaired feature 4682 because of self intersections<br/>WARNING 000461: Repaired feature 4830 because of self intersections<br/>WARNING 000461: Repaired feature 7639 because of self intersections<br/>WARNING 000461: Repaired feature 8123 because of self intersections<br/>WARNING 000461: Repaired feature 8957 because of self intersections<br/>WARNING 000461: Repaired feature 9463 because of self intersections<br/>WARNING 000461: Repaired feature 10015 because of self intersections<br/>WARNING 000461: Repaired feature 10230 because of self intersections<br/>WARNING 000461: Repaired feature 10689 because of self intersections<br/>WARNING 000461: Repaired feature 10719 because of self intersections<br/>WARNING 000461: Repaired feature 10721 because of self intersections<br/>WARNING 000461: Repaired feature 10722 because of self intersections<br/>WARNING 000461: Repaired feature 10723 because of self intersections<br/>WARNING 000461: Repaired feature 10724 because of self intersections<br/>WARNING 000461: Repaired feature 10726 because of self intersections<br/>WARNING 000461: Repaired feature 10732 because of self intersections<br/>WARNING 000461: Repaired feature 10736 because of self intersections<br/>WARNING 000461: Repaired feature 10739 because of self intersections<br/>WARNING 000461: Repaired feature 10742 because of self intersections<br/>WARNING 000461: Repaired feature 10743 because of self intersections<br/>WARNING 000461: Repaired feature 10745 because of self intersections<br/>WARNING 000461: Repaired feature 10786 because of self intersections<br/>Succeeded at Tuesday, July 20, 2021 2:27:21 PM (Elapsed Time: 4 minutes 29 seconds)<br/><style>.rendered_html td, .rendered_html th {text-align: left;}.rendered_html tbody {border: 1px solid black;}</style>"
      ],
      "text/plain": [
       "<Result 'C:\\\\Users\\\\ywx12\\\\Desktop\\\\PhD\\\\RA\\\\ProtectedLand\\\\ProtConn_CALC\\\\data\\\\PA_mexcan_us_proj.shp'>"
      ]
     },
     "execution_count": 10,
     "metadata": {},
     "output_type": "execute_result"
    }
   ],
   "source": [
    "# Process: Repair geometry of PA\n",
    "# arcpy.RepairGeometry_management(PA_input_proj, \"DELETE_NULL\")"
   ]
  },
  {
   "cell_type": "code",
   "execution_count": 11,
   "metadata": {},
   "outputs": [
    {
     "data": {
      "text/html": [
       "<h2>Output</h2>C:\\Users\\ywx12\\Desktop\\PhD\\RA\\ProtectedLand\\ProtConn_CALC\\data\\PA_mexcan_us_proj.shp<h2>Messages</h2>Start Time: Tuesday, July 20, 2021 2:27:21 PM<br/>Adding ifPA to PA_mexcan_us_proj...<br/>Succeeded at Tuesday, July 20, 2021 2:27:25 PM (Elapsed Time: 4.30 seconds)<br/><style>.rendered_html td, .rendered_html th {text-align: left;}.rendered_html tbody {border: 1px solid black;}</style>"
      ],
      "text/plain": [
       "<Result 'C:\\\\Users\\\\ywx12\\\\Desktop\\\\PhD\\\\RA\\\\ProtectedLand\\\\ProtConn_CALC\\\\data\\\\PA_mexcan_us_proj.shp'>"
      ]
     },
     "execution_count": 11,
     "metadata": {},
     "output_type": "execute_result"
    }
   ],
   "source": [
    "# # Process: add attribute ifPA == 1\n",
    "# arcpy.management.AddField(PA_input_proj, 'ifPA', 'TEXT')"
   ]
  },
  {
   "cell_type": "code",
   "execution_count": 12,
   "metadata": {},
   "outputs": [],
   "source": [
    "# cur = arcpy.UpdateCursor(PA_input_proj)\n",
    "# for row in cur:\n",
    "#     row.setValue('ifPA', 1)\n",
    "#     cur.updateRow(row)"
   ]
  },
  {
   "cell_type": "markdown",
   "metadata": {},
   "source": [
    "# Step 3: preprocess region file and land file"
   ]
  },
  {
   "cell_type": "code",
   "execution_count": 1,
   "metadata": {},
   "outputs": [],
   "source": [
    "region_gdb = r'C:\\Users\\ywx12\\Desktop\\PhD\\RA\\ProtectedLand\\ProtConn_CALC\\data\\REGION\\Counties\\tl_2020_us_county'"
   ]
  },
  {
   "cell_type": "code",
   "execution_count": 7,
   "metadata": {},
   "outputs": [],
   "source": [
    "# # Input layers\n",
    "region_layer = r'C:\\Users\\ywx12\\Desktop\\PhD\\RA\\ProtectedLand\\ProtConn_CALC\\data\\REGION\\Test\\Test.gdb\\COandTrans_counties'\n",
    "regionname = 'COUNTIES'\n",
    "# regionname = 'STATE'\n",
    "\n",
    "# region_layer = region_gdb + '/tl_2020_us_county.shp'\n",
    "# region_layer_proj = region_gdb + '/tl_2020_us_county_proj.shp'\n",
    "# region_layer_proj_ds = region_gdb + '/tl_2020_us_county2state_proj.shp'\n",
    "# region_buffer = region_gdb + '/tl_2020_us_county_230km.shp'\n",
    "# region_final = region_gdb + '/tl_2020_us_county2state_230km_all.shp'\n",
    "\n",
    "\n",
    "# land_layer = r'C:\\Users\\ywx12\\Desktop\\PhD\\RA\\ProtectedLand\\ProtConn_CALC\\data\\LAND\\gadm_us_mex_can\\gadm_us_mex_can_0.shp'\n",
    "# land_layer_proj = r'C:\\Users\\ywx12\\Desktop\\PhD\\RA\\ProtectedLand\\ProtConn_CALC\\data\\LAND\\gadm_us_mex_can\\gadm_us_mex_can_0_proj.shp'\n",
    "# land_layer_simp = r'C:\\Users\\ywx12\\Desktop\\PhD\\RA\\ProtectedLand\\ProtConn_CALC\\data\\LAND\\gadm_us_mex_can\\gadm_us_mex_can_0_proj_simp.shp'"
   ]
  },
  {
   "cell_type": "code",
   "execution_count": 18,
   "metadata": {},
   "outputs": [
    {
     "data": {
      "text/html": [
       "<h2>Output</h2>C:\\Users\\ywx12\\Desktop\\PhD\\RA\\ProtectedLand\\ProtConn_CALC\\data\\REGION\\Counties\\tl_2020_us_county\\tl_2020_us_county_proj.shp<h2>Messages</h2>Start Time: Tuesday, July 20, 2021 2:28:29 PM<br/>Succeeded at Tuesday, July 20, 2021 2:28:31 PM (Elapsed Time: 1.90 seconds)<br/><style>.rendered_html td, .rendered_html th {text-align: left;}.rendered_html tbody {border: 1px solid black;}</style>"
      ],
      "text/plain": [
       "<Result 'C:\\\\Users\\\\ywx12\\\\Desktop\\\\PhD\\\\RA\\\\ProtectedLand\\\\ProtConn_CALC\\\\data\\\\REGION\\\\Counties\\\\tl_2020_us_county\\\\tl_2020_us_county_proj.shp'>"
      ]
     },
     "execution_count": 18,
     "metadata": {},
     "output_type": "execute_result"
    }
   ],
   "source": [
    "# # Process: Project region layer to sr\n",
    "# arcpy.management.Project(region_layer, region_layer_proj, sr)"
   ]
  },
  {
   "cell_type": "code",
   "execution_count": 19,
   "metadata": {},
   "outputs": [
    {
     "data": {
      "text/html": [
       "<h2>Output</h2>C:\\Users\\ywx12\\Desktop\\PhD\\RA\\ProtectedLand\\ProtConn_CALC\\data\\REGION\\Counties\\tl_2020_us_county\\tl_2020_us_county2state_proj.shp<h2>Messages</h2>Start Time: Tuesday, July 20, 2021 2:28:35 PM<br/>Sorting Attributes...<br/>Dissolving...<br/>Succeeded at Tuesday, July 20, 2021 2:28:53 PM (Elapsed Time: 17.32 seconds)<br/><style>.rendered_html td, .rendered_html th {text-align: left;}.rendered_html tbody {border: 1px solid black;}</style>"
      ],
      "text/plain": [
       "<Result 'C:\\\\Users\\\\ywx12\\\\Desktop\\\\PhD\\\\RA\\\\ProtectedLand\\\\ProtConn_CALC\\\\data\\\\REGION\\\\Counties\\\\tl_2020_us_county\\\\tl_2020_us_county2state_proj.shp'>"
      ]
     },
     "execution_count": 19,
     "metadata": {},
     "output_type": "execute_result"
    }
   ],
   "source": [
    "# # Process: Dissolve by STATEFP\n",
    "# arcpy.Dissolve_management(region_layer_proj, region_layer_proj_ds, [\"STATEFP\"])"
   ]
  },
  {
   "cell_type": "code",
   "execution_count": 20,
   "metadata": {},
   "outputs": [
    {
     "data": {
      "text/html": [
       "<h2>Output</h2>C:\\Users\\ywx12\\Desktop\\PhD\\RA\\ProtectedLand\\ProtConn_CALC\\data\\REGION\\Counties\\tl_2020_us_county\\tl_2020_us_county_230km.shp<h2>Messages</h2>Start Time: Tuesday, July 20, 2021 2:28:53 PM<br/>Succeeded at Tuesday, July 20, 2021 2:30:11 PM (Elapsed Time: 1 minutes 17 seconds)<br/><style>.rendered_html td, .rendered_html th {text-align: left;}.rendered_html tbody {border: 1px solid black;}</style>"
      ],
      "text/plain": [
       "<Result 'C:\\\\Users\\\\ywx12\\\\Desktop\\\\PhD\\\\RA\\\\ProtectedLand\\\\ProtConn_CALC\\\\data\\\\REGION\\\\Counties\\\\tl_2020_us_county\\\\tl_2020_us_county_230km.shp'>"
      ]
     },
     "execution_count": 20,
     "metadata": {},
     "output_type": "execute_result"
    }
   ],
   "source": [
    "# # Process: Buffer region layer\n",
    "# arcpy.Buffer_analysis(region_layer_proj_ds, region_buffer, \"230 Kilometers\",\"OUTSIDE_ONLY\",\"ROUND\",\"ALL\")"
   ]
  },
  {
   "cell_type": "code",
   "execution_count": 26,
   "metadata": {},
   "outputs": [
    {
     "data": {
      "text/html": [
       "<h2>Output</h2>C:\\Users\\ywx12\\Desktop\\PhD\\RA\\ProtectedLand\\ProtConn_CALC\\data\\REGION\\Counties\\tl_2020_us_county\\tl_2020_us_county_230km_all.shp<h2>Messages</h2>Start Time: Tuesday, July 20, 2021 3:31:19 PM<br/>Succeeded at Tuesday, July 20, 2021 3:31:19 PM (Elapsed Time: 0.25 seconds)<br/><style>.rendered_html td, .rendered_html th {text-align: left;}.rendered_html tbody {border: 1px solid black;}</style>"
      ],
      "text/plain": [
       "<Result 'C:\\\\Users\\\\ywx12\\\\Desktop\\\\PhD\\\\RA\\\\ProtectedLand\\\\ProtConn_CALC\\\\data\\\\REGION\\\\Counties\\\\tl_2020_us_county\\\\tl_2020_us_county_230km_all.shp'>"
      ]
     },
     "execution_count": 26,
     "metadata": {},
     "output_type": "execute_result"
    }
   ],
   "source": [
    "# # Process: Merge\n",
    "# arcpy.Merge_management([region_layer_proj_ds, region_buffer],region_final)"
   ]
  },
  {
   "cell_type": "code",
   "execution_count": 22,
   "metadata": {},
   "outputs": [
    {
     "data": {
      "text/html": [
       "<h2>Output</h2>C:\\Users\\ywx12\\Desktop\\PhD\\RA\\ProtectedLand\\ProtConn_CALC\\data\\LAND\\gadm_us_mex_can\\gadm_us_mex_can_0_proj.shp<h2>Messages</h2>Start Time: Tuesday, July 20, 2021 2:30:16 PM<br/>Succeeded at Tuesday, July 20, 2021 2:44:29 PM (Elapsed Time: 14 minutes 13 seconds)<br/><style>.rendered_html td, .rendered_html th {text-align: left;}.rendered_html tbody {border: 1px solid black;}</style>"
      ],
      "text/plain": [
       "<Result 'C:\\\\Users\\\\ywx12\\\\Desktop\\\\PhD\\\\RA\\\\ProtectedLand\\\\ProtConn_CALC\\\\data\\\\LAND\\\\gadm_us_mex_can\\\\gadm_us_mex_can_0_proj.shp'>"
      ]
     },
     "execution_count": 22,
     "metadata": {},
     "output_type": "execute_result"
    }
   ],
   "source": [
    "# # Process: Project land layer to sr\n",
    "# arcpy.management.Project(land_layer, land_layer_proj, sr)"
   ]
  },
  {
   "cell_type": "code",
   "execution_count": 27,
   "metadata": {},
   "outputs": [
    {
     "data": {
      "text/html": [
       "<h2>Output</h2>C:\\Users\\ywx12\\Desktop\\PhD\\RA\\ProtectedLand\\ProtConn_CALC\\data\\REGION\\Counties\\tl_2020_us_county/tl_2020_us_county_230km_all.shp<h2>Messages</h2>Start Time: Tuesday, July 20, 2021 3:31:20 PM<br/>Succeeded at Tuesday, July 20, 2021 3:31:44 PM (Elapsed Time: 23.61 seconds)<br/><style>.rendered_html td, .rendered_html th {text-align: left;}.rendered_html tbody {border: 1px solid black;}</style>"
      ],
      "text/plain": [
       "<Result 'C:\\\\Users\\\\ywx12\\\\Desktop\\\\PhD\\\\RA\\\\ProtectedLand\\\\ProtConn_CALC\\\\data\\\\REGION\\\\Counties\\\\tl_2020_us_county/tl_2020_us_county_230km_all.shp'>"
      ]
     },
     "execution_count": 27,
     "metadata": {},
     "output_type": "execute_result"
    }
   ],
   "source": [
    "# # Process: Repair geometry of region file\n",
    "# arcpy.RepairGeometry_management(region_final, \"DELETE_NULL\")"
   ]
  },
  {
   "cell_type": "code",
   "execution_count": 24,
   "metadata": {},
   "outputs": [
    {
     "data": {
      "text/html": [
       "<h2>Output</h2>C:\\Users\\ywx12\\Desktop\\PhD\\RA\\ProtectedLand\\ProtConn_CALC\\data\\LAND\\gadm_us_mex_can\\gadm_us_mex_can_0_proj.shp<h2>Messages</h2>Start Time: Tuesday, July 20, 2021 2:45:45 PM<br/>Succeeded at Tuesday, July 20, 2021 3:30:14 PM (Elapsed Time: 44 minutes 28 seconds)<br/><style>.rendered_html td, .rendered_html th {text-align: left;}.rendered_html tbody {border: 1px solid black;}</style>"
      ],
      "text/plain": [
       "<Result 'C:\\\\Users\\\\ywx12\\\\Desktop\\\\PhD\\\\RA\\\\ProtectedLand\\\\ProtConn_CALC\\\\data\\\\LAND\\\\gadm_us_mex_can\\\\gadm_us_mex_can_0_proj.shp'>"
      ]
     },
     "execution_count": 24,
     "metadata": {},
     "output_type": "execute_result"
    }
   ],
   "source": [
    "# # Process: Repair geometry of land file\n",
    "# arcpy.RepairGeometry_management(land_layer_proj, \"DELETE_NULL\")"
   ]
  },
  {
   "cell_type": "code",
   "execution_count": 25,
   "metadata": {},
   "outputs": [
    {
     "data": {
      "text/html": [
       "<h2>Output</h2><table><tr><th>id</th><th>value</th></tr><tr><td>0</td><td>C:\\Users\\ywx12\\Desktop\\PhD\\RA\\ProtectedLand\\ProtConn_CALC\\data\\LAND\\gadm_us_mex_can\\gadm_us_mex_can_0_proj_simp.shp</td></tr><tr><td>1</td><td>C:\\Users\\ywx12\\Desktop\\PhD\\RA\\ProtectedLand\\ProtConn_CALC\\data\\LAND\\gadm_us_mex_can\\gadm_us_mex_can_0_proj_simp_Pnt.shp</td></tr></table><h2>Messages</h2>Start Time: Tuesday, July 20, 2021 3:30:14 PM<br/>Input vertex count:      6492512<br/>Output vertex count:      773085<br/>Output/Input ratio:  11.900000 %<br/>Pass count:                    4<br/>Succeeded at Tuesday, July 20, 2021 3:31:17 PM (Elapsed Time: 1 minutes 2 seconds)<br/><style>.rendered_html td, .rendered_html th {text-align: left;}.rendered_html tbody {border: 1px solid black;}</style>"
      ],
      "text/plain": [
       "<Result 'C:\\\\Users\\\\ywx12\\\\Desktop\\\\PhD\\\\RA\\\\ProtectedLand\\\\ProtConn_CALC\\\\data\\\\LAND\\\\gadm_us_mex_can\\\\gadm_us_mex_can_0_proj_simp.shp'>"
      ]
     },
     "execution_count": 25,
     "metadata": {},
     "output_type": "execute_result"
    }
   ],
   "source": [
    "# # Process: Simplify land file\n",
    "# CA.SimplifyPolygon(land_layer_proj, land_layer_simp, \"POINT_REMOVE\", 100)"
   ]
  },
  {
   "cell_type": "markdown",
   "metadata": {},
   "source": [
    "# Step 4: merge with land layer and set areas of land layer to 0 (the step for boundary correction)"
   ]
  },
  {
   "cell_type": "code",
   "execution_count": 1,
   "metadata": {},
   "outputs": [],
   "source": [
    "# # merge land file with PAs\n",
    "# land_file = land_layer_simp\n",
    "# PA_file = PA_input_proj\n",
    "# PA_land = outgdb_fullpath + '/PA_mexcanus_land_0713'"
   ]
  },
  {
   "cell_type": "code",
   "execution_count": 30,
   "metadata": {},
   "outputs": [
    {
     "data": {
      "text/html": [
       "<h2>Output</h2>C:\\Users\\ywx12\\Desktop\\PhD\\RA\\ProtectedLand\\ProtConn_CALC\\data\\LAND\\gadm_us_mex_can\\gadm_us_mex_can_0_proj_simp.shp<h2>Messages</h2>Start Time: Tuesday, July 20, 2021 4:22:53 PM<br/>Adding ifPA to gadm_us_mex_can_0_proj_simp...<br/>Succeeded at Tuesday, July 20, 2021 4:22:53 PM (Elapsed Time: 0.03 seconds)<br/><style>.rendered_html td, .rendered_html th {text-align: left;}.rendered_html tbody {border: 1px solid black;}</style>"
      ],
      "text/plain": [
       "<Result 'C:\\\\Users\\\\ywx12\\\\Desktop\\\\PhD\\\\RA\\\\ProtectedLand\\\\ProtConn_CALC\\\\data\\\\LAND\\\\gadm_us_mex_can\\\\gadm_us_mex_can_0_proj_simp.shp'>"
      ]
     },
     "execution_count": 30,
     "metadata": {},
     "output_type": "execute_result"
    }
   ],
   "source": [
    "# arcpy.management.AddField(land_layer_simp, 'ifPA', 'TEXT')"
   ]
  },
  {
   "cell_type": "code",
   "execution_count": 31,
   "metadata": {},
   "outputs": [],
   "source": [
    "# cur = arcpy.UpdateCursor(land_layer_simp)\n",
    "# for row in cur:\n",
    "#     row.setValue('ifPA', 0)\n",
    "#     cur.updateRow(row)"
   ]
  },
  {
   "cell_type": "code",
   "execution_count": 32,
   "metadata": {},
   "outputs": [
    {
     "data": {
      "text/html": [
       "<h2>Output</h2>C:\\Users\\ywx12\\Desktop\\PhD\\RA\\ProtectedLand\\ProtConn_CALC\\data\\ProtConn_July2021_1.gdb\\PA_mexcanus_land_0713<h2>Messages</h2>Start Time: Tuesday, July 20, 2021 4:22:55 PM<br/>Succeeded at Tuesday, July 20, 2021 4:23:10 PM (Elapsed Time: 15.02 seconds)<br/><style>.rendered_html td, .rendered_html th {text-align: left;}.rendered_html tbody {border: 1px solid black;}</style>"
      ],
      "text/plain": [
       "<Result 'C:\\\\Users\\\\ywx12\\\\Desktop\\\\PhD\\\\RA\\\\ProtectedLand\\\\ProtConn_CALC\\\\data\\\\ProtConn_July2021_1.gdb\\\\PA_mexcanus_land_0713'>"
      ]
     },
     "execution_count": 32,
     "metadata": {},
     "output_type": "execute_result"
    }
   ],
   "source": [
    "# # Process: Merge\n",
    "# arcpy.Merge_management([land_file, PA_file], PA_land)"
   ]
  },
  {
   "cell_type": "code",
   "execution_count": 33,
   "metadata": {},
   "outputs": [
    {
     "data": {
      "text/html": [
       "<h2>Output</h2>C:\\Users\\ywx12\\Desktop\\PhD\\RA\\ProtectedLand\\ProtConn_CALC\\data\\ProtConn_July2021_1.gdb/PA_mexcanus_land_0713<h2>Messages</h2>Start Time: Tuesday, July 20, 2021 4:23:10 PM<br/>WARNING 000986: C:\\Users\\ywx12\\AppData\\Local\\Temp\\ArcGISProTemp9256\\PA_mexcanus_land_07130.txt contains the full list of non simple features.<br/>WARNING 000461: Repaired feature 2 because of self intersections<br/>WARNING 000461: Repaired feature 11030 because of self intersections<br/>WARNING 000461: Repaired feature 11031 because of self intersections<br/>WARNING 000461: Repaired feature 12360 because of self intersections<br/>WARNING 000461: Repaired feature 12891 because of self intersections<br/>WARNING 000461: Repaired feature 41078 because of self intersections<br/>WARNING 000461: Repaired feature 49759 because of self intersections<br/>WARNING 000461: Repaired feature 51398 because of self intersections<br/>WARNING 000461: Repaired feature 51916 because of self intersections<br/>WARNING 000461: Repaired feature 53874 because of self intersections<br/>WARNING 000461: Repaired feature 54215 because of self intersections<br/>WARNING 000461: Repaired feature 54423 because of self intersections<br/>WARNING 000461: Repaired feature 54522 because of self intersections<br/>WARNING 000461: Repaired feature 56094 because of self intersections<br/>WARNING 000461: Repaired feature 84878 because of self intersections<br/>Succeeded at Tuesday, July 20, 2021 4:27:55 PM (Elapsed Time: 4 minutes 44 seconds)<br/><style>.rendered_html td, .rendered_html th {text-align: left;}.rendered_html tbody {border: 1px solid black;}</style>"
      ],
      "text/plain": [
       "<Result 'C:\\\\Users\\\\ywx12\\\\Desktop\\\\PhD\\\\RA\\\\ProtectedLand\\\\ProtConn_CALC\\\\data\\\\ProtConn_July2021_1.gdb/PA_mexcanus_land_0713'>"
      ]
     },
     "execution_count": 33,
     "metadata": {},
     "output_type": "execute_result"
    }
   ],
   "source": [
    "# # Process: Repair geometry of PA and land\n",
    "# arcpy.RepairGeometry_management(PA_land, \"DELETE_NULL\")"
   ]
  },
  {
   "cell_type": "markdown",
   "metadata": {},
   "source": [
    "# Step 5: intersect merged PA with region file"
   ]
  },
  {
   "cell_type": "code",
   "execution_count": 38,
   "metadata": {},
   "outputs": [],
   "source": [
    "# Intermediate layers\n",
    "PA_region = outgdb_fullpath + '\\PA_mexcanus_' + regionname + '_2204'\n",
    "\n",
    "# added on June 7th 2021\n",
    "# this file is used to generate PA areas with overlay\n",
    "# PA_region_non_dissolved = outgdb_fullpath + '\\PA_non_dissolved_' + regionname\n",
    "PA_region_nds_singleparted = outgdb_fullpath + '\\PA_mexcanus_nds_single_parted_2204_' + regionname\n",
    "non_dissolved_region_over_1_km2_singleparted = outgdb_fullpath + '\\PA_mexcan_us_nds_over_1_km2_singleparted_2204_' + regionname \n",
    "# added end\n",
    "\n",
    "\n",
    "PA_region_dissolved = outgdb_fullpath + '\\PA_mexcanus_dissolved_2204_' + regionname\n",
    "dissolved_region_over_1_km2 = outgdb_fullpath + '\\PA_mexcanus_dissolved_over_1_km2_2204_' + regionname\n",
    "dissolved_region_over_1_km2_singleparted = outgdb_fullpath + '\\PA_mexcanus_dissolved_over_1_km2_singleparted_2204_' + regionname\n",
    "\n",
    "dissolved_singleparted_over_1_km2_2 = outgdb_fullpath + '\\PA_mexcanus_dsvd_sgpt_over_1_km2_2204_' + regionname\n",
    "\n",
    "# PA_dissolved_region_clipped_land = outgdb_fullpath + '\\PA_mexcanus_dissolved_clipped_' + regionname\n",
    "# dissolved_region_clipped_land_over_1_km2 = outgdb_fullpath + '\\PA_mexcanus_dissolved_clipped_over_1_km2_' + regionname\n",
    "\n",
    "# PA_region_dissolved_2 = outgdb_fullpath + '\\PA_mexcanus_dissolved_2_' + regionname\n",
    "# PA_dissolved_region_1km2_singleparted = outgdb_fullpath + '\\PA_mexcanus_dissolved_over_1_km2_singleparted_' + regionname"
   ]
  },
  {
   "cell_type": "code",
   "execution_count": 40,
   "metadata": {},
   "outputs": [],
   "source": [
    "# output files\n",
    "\n",
    "PA_final = outgdb_fullpath + '\\PA_mexcanus_final_2204_' + regionname\n",
    "# PA_only_final = outgdb_fullpath + '\\PA_mexcanus'\n",
    "\n",
    "outfile_attr = regionname + '_attrib_table_PA_mexcanus_final_april2022.txt'\n",
    "PA_final_shp = 'PA_mexcanus_final_2204_' + regionname + '.shp'\n",
    "\n",
    "all_distances = regionname + '_all_distances_230km_april2022'\n",
    "outfile_dist = outpath + '/' + all_distances + '.txt'\n",
    "\n",
    "# added June 7th\n",
    "outfile_attr_ds = regionname + '_attrib_table_PA_mexcanus_ds_april2022.txt' # same as outfile_attr\n",
    "outfile_attr_nds = regionname + '_attrib_table_PA_mexcanus_nds_april2022.txt'"
   ]
  },
  {
   "cell_type": "code",
   "execution_count": 4,
   "metadata": {},
   "outputs": [],
   "source": [
    "# regionname = 'CONTUS'\n",
    "# PA_region = outgdb_fullpath + '\\PA_mexcanus_' + regionname"
   ]
  },
  {
   "cell_type": "code",
   "execution_count": 36,
   "metadata": {
    "scrolled": true
   },
   "outputs": [
    {
     "data": {
      "text/html": [
       "<h2>Output</h2>C:\\Users\\ywx12\\Desktop\\PhD\\RA\\ProtectedLand\\ProtConn_CALC\\data\\ProtConn_July2021_1.gdb\\PA_mexcanus_STATE<h2>Messages</h2>Start Time: Tuesday, July 20, 2021 4:27:55 PM<br/>Assembling Features...<br/>Reading Features...<br/>Cracking Features...<br/>Succeeded at Tuesday, July 20, 2021 4:30:40 PM (Elapsed Time: 2 minutes 44 seconds)<br/><style>.rendered_html td, .rendered_html th {text-align: left;}.rendered_html tbody {border: 1px solid black;}</style>"
      ],
      "text/plain": [
       "<Result 'C:\\\\Users\\\\ywx12\\\\Desktop\\\\PhD\\\\RA\\\\ProtectedLand\\\\ProtConn_CALC\\\\data\\\\ProtConn_July2021_1.gdb\\\\PA_mexcanus_STATE'>"
      ]
     },
     "execution_count": 36,
     "metadata": {},
     "output_type": "execute_result"
    }
   ],
   "source": [
    "# # Process: Intersect with region file\n",
    "# arcpy.analysis.Intersect([PA_land, region_final], PA_region, '#', '#', '#')"
   ]
  },
  {
   "cell_type": "code",
   "execution_count": 41,
   "metadata": {},
   "outputs": [
    {
     "name": "stdout",
     "output_type": "stream",
     "text": [
      "converted to single part\n"
     ]
    }
   ],
   "source": [
    "arcpy.MultipartToSinglepart_management(PA_region, PA_region_nds_singleparted)\n",
    "print(\"converted to single part\")"
   ]
  },
  {
   "cell_type": "code",
   "execution_count": 42,
   "metadata": {},
   "outputs": [
    {
     "data": {
      "text/html": [
       "<h2>Output</h2>C:\\Users\\wyang80\\Desktop\\ProtConn\\data\\ProtConn_Sept2021.gdb\\PA_mexcanus_nds_single_parted_2204_CONTUS<h2>Messages</h2>Start Time: Sunday, April 17, 2022 2:59:48 PM<br/>WARNING 001097: AREA_GEO  already exists -- overwriting.<br/>Succeeded at Sunday, April 17, 2022 3:08:57 PM (Elapsed Time: 9 minutes 9 seconds)<br/><style>.rendered_html td, .rendered_html th {text-align: left;}.rendered_html tbody {border: 1px solid black;}</style>"
      ],
      "text/plain": [
       "<Result 'C:\\\\Users\\\\wyang80\\\\Desktop\\\\ProtConn\\\\data\\\\ProtConn_Sept2021.gdb\\\\PA_mexcanus_nds_single_parted_2204_CONTUS'>"
      ]
     },
     "execution_count": 42,
     "metadata": {},
     "output_type": "execute_result"
    }
   ],
   "source": [
    "# Process: Add Geometry Attributes\n",
    "arcpy.AddGeometryAttributes_management(PA_region_nds_singleparted, \"AREA_GEODESIC\", \"\", \"SQUARE_KILOMETERS\", sr)"
   ]
  },
  {
   "cell_type": "code",
   "execution_count": 43,
   "metadata": {},
   "outputs": [
    {
     "name": "stdout",
     "output_type": "stream",
     "text": [
      "Geometries re-repaired for the nth time....\n"
     ]
    }
   ],
   "source": [
    "arcpy.RepairGeometry_management(PA_region_nds_singleparted, \"DELETE_NULL\")\n",
    "print(\"Geometries re-repaired for the nth time....\")"
   ]
  },
  {
   "cell_type": "code",
   "execution_count": 44,
   "metadata": {},
   "outputs": [
    {
     "name": "stdout",
     "output_type": "stream",
     "text": [
      "Attribute Table exported in .txt\n"
     ]
    }
   ],
   "source": [
    "# Process: Make Feature Layer over 1 km2\n",
    "arcpy.MakeFeatureLayer_management(PA_region_nds_singleparted, non_dissolved_region_over_1_km2_singleparted, \"\\\"AREA_GEO\\\" >=1\", \"\", \"AREA_GEO AREA_GEO VISIBLE NONE\")\n",
    "\n",
    "# Process: Export to txt (and will be further processed in R)\n",
    "arcpy.TableToTable_conversion(in_rows=non_dissolved_region_over_1_km2_singleparted, out_path=outpath, out_name=outfile_attr_nds)\n",
    "print(\"Attribute Table exported in .txt\")"
   ]
  },
  {
   "cell_type": "code",
   "execution_count": 45,
   "metadata": {},
   "outputs": [
    {
     "name": "stdout",
     "output_type": "stream",
     "text": [
      "converted to single part\n",
      "Geometries re-repaired for the nth time....\n",
      "Attribute Table exported in .txt\n"
     ]
    }
   ],
   "source": [
    "## Work with non-dissolved layer\n",
    "\n",
    "# Process: Multipart To Singlepart\n",
    "arcpy.MultipartToSinglepart_management(PA_region, PA_region_nds_singleparted)\n",
    "print(\"converted to single part\")\n",
    "\n",
    "# Process: Add Geometry Attributes\n",
    "arcpy.AddGeometryAttributes_management(PA_region_nds_singleparted, \"AREA_GEODESIC\", \"\", \"SQUARE_KILOMETERS\", sr)\n",
    "\n",
    "# Process: Repair Geometry\n",
    "arcpy.RepairGeometry_management(PA_region_nds_singleparted, \"DELETE_NULL\")\n",
    "print(\"Geometries re-repaired for the nth time....\")\n",
    "\n",
    "# Process: Make Feature Layer over 1 km2\n",
    "arcpy.MakeFeatureLayer_management(PA_region_nds_singleparted, non_dissolved_region_over_1_km2_singleparted, \"\\\"AREA_GEO\\\" >=1\", \"\", \"AREA_GEO AREA_GEO VISIBLE NONE\")\n",
    "\n",
    "# Process: Export to txt (and will be further processed in R)\n",
    "arcpy.TableToTable_conversion(in_rows=non_dissolved_region_over_1_km2_singleparted, out_path=outpath, out_name=outfile_attr_nds)\n",
    "print(\"Attribute Table exported in .txt\")"
   ]
  },
  {
   "cell_type": "code",
   "execution_count": 46,
   "metadata": {},
   "outputs": [
    {
     "data": {
      "text/html": [
       "<h2>Output</h2>C:\\Users\\wyang80\\Desktop\\ProtConn\\data\\ProtConn_Sept2021.gdb\\PA_mexcanus_dissolved_2204_CONTUS<h2>Messages</h2>Start Time: Sunday, April 17, 2022 5:31:11 PM<br/>Sorting Attributes...<br/>Dissolving...<br/>Succeeded at Sunday, April 17, 2022 5:32:27 PM (Elapsed Time: 1 minutes 16 seconds)<br/><style>.rendered_html td, .rendered_html th {text-align: left;}.rendered_html tbody {border: 1px solid black;}</style>"
      ],
      "text/plain": [
       "<Result 'C:\\\\Users\\\\wyang80\\\\Desktop\\\\ProtConn\\\\data\\\\ProtConn_Sept2021.gdb\\\\PA_mexcanus_dissolved_2204_CONTUS'>"
      ]
     },
     "execution_count": 46,
     "metadata": {},
     "output_type": "execute_result"
    }
   ],
   "source": [
    "# Process: Dissolve\n",
    "arcpy.Dissolve_management(PA_region, PA_region_dissolved, [\"ifUS\", \"ifPA\"], \"\", \"SINGLE_PART\", \"DISSOLVE_LINES\")\n",
    "# print(\"Features dissolved\")"
   ]
  },
  {
   "cell_type": "code",
   "execution_count": 47,
   "metadata": {},
   "outputs": [
    {
     "data": {
      "text/html": [
       "<h2>Output</h2>C:\\Users\\wyang80\\Desktop\\ProtConn\\data\\ProtConn_Sept2021.gdb\\PA_mexcanus_dissolved_2204_CONTUS<h2>Messages</h2>Start Time: Sunday, April 17, 2022 5:32:30 PM<br/>WARNING 000986: C:\\Users\\wyang80\\AppData\\Local\\Temp\\ArcGISProTemp55988\\PA_mexcanus_dissolved_2204_CONTUS1.txt contains the full list of non simple features.<br/>WARNING 000461: Repaired feature 5819 because of self intersections<br/>WARNING 000461: Repaired feature 5834 because of self intersections<br/>WARNING 000461: Repaired feature 5926 because of self intersections<br/>WARNING 000461: Repaired feature 7075 because of self intersections<br/>WARNING 000461: Repaired feature 7203 because of self intersections<br/>WARNING 000461: Repaired feature 8879 because of self intersections<br/>WARNING 000461: Repaired feature 10061 because of self intersections<br/>WARNING 000461: Repaired feature 11263 because of self intersections<br/>WARNING 000461: Repaired feature 11291 because of self intersections<br/>WARNING 000461: Repaired feature 11470 because of self intersections<br/>WARNING 000461: Repaired feature 11520 because of self intersections<br/>WARNING 000461: Repaired feature 11526 because of self intersections<br/>WARNING 000461: Repaired feature 11557 because of self intersections<br/>WARNING 000461: Repaired feature 11567 because of self intersections<br/>WARNING 000461: Repaired feature 11634 because of self intersections<br/>WARNING 000461: Repaired feature 11645 because of self intersections<br/>WARNING 000461: Repaired feature 11654 because of self intersections<br/>WARNING 000461: Repaired feature 11691 because of self intersections<br/>WARNING 000461: Repaired feature 11891 because of self intersections<br/>WARNING 000461: Repaired feature 11893 because of self intersections<br/>WARNING 000461: Repaired feature 11897 because of self intersections<br/>WARNING 000461: Repaired feature 12002 because of self intersections<br/>WARNING 000461: Repaired feature 12040 because of self intersections<br/>WARNING 000461: Repaired feature 12176 because of self intersections<br/>WARNING 000461: Repaired feature 21710 because of self intersections<br/>Succeeded at Sunday, April 17, 2022 5:39:54 PM (Elapsed Time: 7 minutes 24 seconds)<br/><style>.rendered_html td, .rendered_html th {text-align: left;}.rendered_html tbody {border: 1px solid black;}</style>"
      ],
      "text/plain": [
       "<Result 'C:\\\\Users\\\\wyang80\\\\Desktop\\\\ProtConn\\\\data\\\\ProtConn_Sept2021.gdb\\\\PA_mexcanus_dissolved_2204_CONTUS'>"
      ]
     },
     "execution_count": 47,
     "metadata": {},
     "output_type": "execute_result"
    }
   ],
   "source": [
    "# Process: Repair Geometry\n",
    "arcpy.RepairGeometry_management(PA_region_dissolved, \"DELETE_NULL\")\n",
    "# print(\"Geometries repaired\")"
   ]
  },
  {
   "cell_type": "code",
   "execution_count": 48,
   "metadata": {},
   "outputs": [
    {
     "name": "stdout",
     "output_type": "stream",
     "text": [
      "Area_geo computed\n"
     ]
    },
    {
     "data": {
      "text/html": [
       "<h2>Output</h2>a Layer object<h2>Messages</h2>Start Time: Sunday, April 17, 2022 5:41:35 PM<br/>Succeeded at Sunday, April 17, 2022 5:41:35 PM (Elapsed Time: 0.05 seconds)<br/><style>.rendered_html td, .rendered_html th {text-align: left;}.rendered_html tbody {border: 1px solid black;}</style>"
      ],
      "text/plain": [
       "<Result 'C:\\\\Users\\\\wyang80\\\\Desktop\\\\ProtConn\\\\data\\\\ProtConn_Sept2021.gdb\\\\PA_mexcanus_dissolved_over_1_km2_2204_CONTUS'>"
      ]
     },
     "execution_count": 48,
     "metadata": {},
     "output_type": "execute_result"
    }
   ],
   "source": [
    "# Process: Add Geometry Attributes\n",
    "arcpy.AddGeometryAttributes_management(PA_region_dissolved, \"AREA_GEODESIC\", \"\", \"SQUARE_KILOMETERS\", sr)\n",
    "print(\"Area_geo computed\")\n",
    "\n",
    "# Process: Make Feature Layer over 1 km2\n",
    "arcpy.MakeFeatureLayer_management(PA_region_dissolved, dissolved_region_over_1_km2, \"\\\"AREA_GEO\\\" >=1\", \"\", \"AREA_GEO AREA_GEO VISIBLE NONE\")"
   ]
  },
  {
   "cell_type": "code",
   "execution_count": 49,
   "metadata": {},
   "outputs": [
    {
     "data": {
      "text/html": [
       "<h2>Output</h2>163252<h2>Messages</h2>Start Time: Sunday, April 17, 2022 5:41:39 PM<br/>Row Count = 163252<br/>Succeeded at Sunday, April 17, 2022 5:41:39 PM (Elapsed Time: 0.01 seconds)<br/><style>.rendered_html td, .rendered_html th {text-align: left;}.rendered_html tbody {border: 1px solid black;}</style>"
      ],
      "text/plain": [
       "<Result '163252'>"
      ]
     },
     "execution_count": 49,
     "metadata": {},
     "output_type": "execute_result"
    }
   ],
   "source": [
    "arcpy.GetCount_management(PA_region_dissolved)"
   ]
  },
  {
   "cell_type": "code",
   "execution_count": 50,
   "metadata": {},
   "outputs": [
    {
     "data": {
      "text/html": [
       "<h2>Output</h2>C:\\Users\\wyang80\\Desktop\\ProtConn\\data\\ProtConn_Sept2021.gdb\\PA_region_dissolved_stats<h2>Messages</h2>Start Time: Sunday, April 17, 2022 5:41:40 PM<br/>Succeeded at Sunday, April 17, 2022 5:41:41 PM (Elapsed Time: 1.21 seconds)<br/><style>.rendered_html td, .rendered_html th {text-align: left;}.rendered_html tbody {border: 1px solid black;}</style>"
      ],
      "text/plain": [
       "<Result 'C:\\\\Users\\\\wyang80\\\\Desktop\\\\ProtConn\\\\data\\\\ProtConn_Sept2021.gdb\\\\PA_region_dissolved_stats'>"
      ]
     },
     "execution_count": 50,
     "metadata": {},
     "output_type": "execute_result"
    }
   ],
   "source": [
    "arcpy.Statistics_analysis(PA_region_dissolved,\n",
    "                         outgdb_fullpath + '/PA_region_dissolved_stats',\n",
    "                         [['AREA_GEO','SUM']])"
   ]
  },
  {
   "cell_type": "code",
   "execution_count": 51,
   "metadata": {
    "scrolled": true
   },
   "outputs": [
    {
     "data": {
      "text/html": [
       "<h2>Output</h2>27847<h2>Messages</h2>Start Time: Sunday, April 17, 2022 5:41:45 PM<br/>Row Count = 27847<br/>Succeeded at Sunday, April 17, 2022 5:41:45 PM (Elapsed Time: 0.35 seconds)<br/><style>.rendered_html td, .rendered_html th {text-align: left;}.rendered_html tbody {border: 1px solid black;}</style>"
      ],
      "text/plain": [
       "<Result '27847'>"
      ]
     },
     "execution_count": 51,
     "metadata": {},
     "output_type": "execute_result"
    }
   ],
   "source": [
    "arcpy.GetCount_management(dissolved_region_over_1_km2)"
   ]
  },
  {
   "cell_type": "code",
   "execution_count": 52,
   "metadata": {},
   "outputs": [
    {
     "data": {
      "text/html": [
       "<h2>Output</h2>C:\\Users\\wyang80\\Desktop\\ProtConn\\data\\ProtConn_Sept2021.gdb\\dissolved_region_over_1_km2_stats<h2>Messages</h2>Start Time: Sunday, April 17, 2022 5:41:48 PM<br/>Succeeded at Sunday, April 17, 2022 5:41:49 PM (Elapsed Time: 1.35 seconds)<br/><style>.rendered_html td, .rendered_html th {text-align: left;}.rendered_html tbody {border: 1px solid black;}</style>"
      ],
      "text/plain": [
       "<Result 'C:\\\\Users\\\\wyang80\\\\Desktop\\\\ProtConn\\\\data\\\\ProtConn_Sept2021.gdb\\\\dissolved_region_over_1_km2_stats'>"
      ]
     },
     "execution_count": 52,
     "metadata": {},
     "output_type": "execute_result"
    }
   ],
   "source": [
    "arcpy.Statistics_analysis(dissolved_region_over_1_km2,\n",
    "                         outgdb_fullpath + '/dissolved_region_over_1_km2_stats',\n",
    "                         [['AREA_GEO','SUM']])"
   ]
  },
  {
   "cell_type": "code",
   "execution_count": 53,
   "metadata": {},
   "outputs": [
    {
     "data": {
      "text/html": [
       "<h2>Output</h2>C:\\Users\\wyang80\\Desktop\\ProtConn\\data\\ProtConn_Sept2021.gdb\\PA_mexcanus_dissolved_over_1_km2_singleparted_2204_CONTUS<h2>Messages</h2>Start Time: Sunday, April 17, 2022 5:41:52 PM<br/>Succeeded at Sunday, April 17, 2022 5:41:56 PM (Elapsed Time: 4.73 seconds)<br/><style>.rendered_html td, .rendered_html th {text-align: left;}.rendered_html tbody {border: 1px solid black;}</style>"
      ],
      "text/plain": [
       "<Result 'C:\\\\Users\\\\wyang80\\\\Desktop\\\\ProtConn\\\\data\\\\ProtConn_Sept2021.gdb\\\\PA_mexcanus_dissolved_over_1_km2_singleparted_2204_CONTUS'>"
      ]
     },
     "execution_count": 53,
     "metadata": {},
     "output_type": "execute_result"
    }
   ],
   "source": [
    "# Process: Multipart To Singlepart\n",
    "arcpy.MultipartToSinglepart_management(dissolved_region_over_1_km2, dissolved_region_over_1_km2_singleparted)\n",
    "# print(\"converted to single part\")"
   ]
  },
  {
   "cell_type": "code",
   "execution_count": 54,
   "metadata": {},
   "outputs": [
    {
     "name": "stdout",
     "output_type": "stream",
     "text": [
      "Area_geo computed\n"
     ]
    },
    {
     "data": {
      "text/html": [
       "<h2>Output</h2>a Layer object<h2>Messages</h2>Start Time: Sunday, April 17, 2022 5:42:39 PM<br/>Succeeded at Sunday, April 17, 2022 5:42:40 PM (Elapsed Time: 0.08 seconds)<br/><style>.rendered_html td, .rendered_html th {text-align: left;}.rendered_html tbody {border: 1px solid black;}</style>"
      ],
      "text/plain": [
       "<Result 'C:\\\\Users\\\\wyang80\\\\Desktop\\\\ProtConn\\\\data\\\\ProtConn_Sept2021.gdb\\\\PA_mexcanus_dsvd_sgpt_over_1_km2_2204_CONTUS'>"
      ]
     },
     "execution_count": 54,
     "metadata": {},
     "output_type": "execute_result"
    }
   ],
   "source": [
    "# Process: Add Geometry Attributes\n",
    "arcpy.AddGeometryAttributes_management(dissolved_region_over_1_km2_singleparted, \"AREA_GEODESIC\", \"\", \"SQUARE_KILOMETERS\", sr)\n",
    "print(\"Area_geo computed\")\n",
    "\n",
    "# Process: Make Feature Layer over 1 km2\n",
    "arcpy.MakeFeatureLayer_management(dissolved_region_over_1_km2_singleparted, dissolved_singleparted_over_1_km2_2, \"\\\"AREA_GEO\\\" >=1\", \"\", \"AREA_GEO AREA_GEO VISIBLE NONE\")"
   ]
  },
  {
   "cell_type": "code",
   "execution_count": 58,
   "metadata": {},
   "outputs": [],
   "source": [
    "a = r'C:\\Users\\wyang80\\Desktop\\ProtConn\\data\\ProtConn_Sept2021.gdb\\PA_mexcanus_dissolved_over_1_km2_singleparted_2204_CONTUS'"
   ]
  },
  {
   "cell_type": "code",
   "execution_count": 59,
   "metadata": {},
   "outputs": [
    {
     "data": {
      "text/html": [
       "<h2>Output</h2>C:\\Users\\wyang80\\Desktop\\ProtConn\\data\\ProtConn_Sept2021.gdb\\PA_mexcanus_dissolved_over_1_km2_singleparted_2204_CONTUS<h2>Messages</h2>Start Time: Monday, April 18, 2022 3:57:00 PM<br/>Succeeded at Monday, April 18, 2022 3:58:08 PM (Elapsed Time: 1 minutes 7 seconds)<br/><style>.rendered_html td, .rendered_html th {text-align: left;}.rendered_html tbody {border: 1px solid black;}</style>"
      ],
      "text/plain": [
       "<Result 'C:\\\\Users\\\\wyang80\\\\Desktop\\\\ProtConn\\\\data\\\\ProtConn_Sept2021.gdb\\\\PA_mexcanus_dissolved_over_1_km2_singleparted_2204_CONTUS'>"
      ]
     },
     "execution_count": 59,
     "metadata": {},
     "output_type": "execute_result"
    }
   ],
   "source": [
    "# Process: Repair Geometry (4)\n",
    "# arcpy.RepairGeometry_management(dissolved_singleparted_over_1_km2_2, \"DELETE_NULL\")\n",
    "arcpy.RepairGeometry_management(a, \"DELETE_NULL\")\n",
    "# print(\"Geometries re-repaired for the nth time....\")"
   ]
  },
  {
   "cell_type": "code",
   "execution_count": 60,
   "metadata": {},
   "outputs": [],
   "source": [
    "dissolved_singleparted_over_1_km2_2 = a"
   ]
  },
  {
   "cell_type": "markdown",
   "metadata": {},
   "source": [
    "# Step 6: Create node and distance file"
   ]
  },
  {
   "cell_type": "code",
   "execution_count": 61,
   "metadata": {},
   "outputs": [
    {
     "name": "stdout",
     "output_type": "stream",
     "text": [
      "Field nodeID computed\n",
      "Final layer copied\n"
     ]
    }
   ],
   "source": [
    "# Process: Add Field nodeID\n",
    "arcpy.AddField_management(dissolved_singleparted_over_1_km2_2, \"nodeID\", \"LONG\", \"\", \"\", \"\", \"\", \"NULLABLE\", \"NON_REQUIRED\", \"\")\n",
    "\n",
    "# Process: Calculate Field\n",
    "arcpy.CalculateField_management(dissolved_singleparted_over_1_km2_2, \"nodeID\", \"!OBJECTID!\", \"PYTHON\", \"\")\n",
    "print(\"Field nodeID computed\")\n",
    "\n",
    "# Process: Copy Features (2)\n",
    "arcpy.CopyFeatures_management(dissolved_singleparted_over_1_km2_2, PA_final, \"\", \"0\", \"0\", \"0\")\n",
    "print(\"Final layer copied\")"
   ]
  },
  {
   "cell_type": "code",
   "execution_count": 62,
   "metadata": {},
   "outputs": [
    {
     "name": "stdout",
     "output_type": "stream",
     "text": [
      "Attribute Table exported in .txt\n"
     ]
    }
   ],
   "source": [
    "# Table to table (txt) with field mapping (in alternative to copy rows)\n",
    "# arcpy.TableToTable_conversion(in_rows=wdpa_flat_1km_final, out_path=outpath, out_name=outfile_attr,field_mapping='OBJECTID \"nodeID\" true true false 4 Long 0 0 ,First,#,Z:/globes/USERS/GIACOMO/protconn/data/ProtConn_jun2020.gdb/wdpa_flat_1km_final,nodeID,-1,-1;ISO3final \"ISO3final\" true true false 50 Text 0 0 ,First,#,Z:/globes/USERS/GIACOMO/protconn/data/ProtConn_jun2020.gdb/wdpa_flat_1km_final,ISO3final,-1,-1;AREA_GEO \"AREA_GEO\" true true false 8 Double 0 0 ,First,#,Z:/globes/USERS/GIACOMO/protconn/data/ProtConn_jun2020.gdb/wdpa_flat_1km_final,AREA_GEO,-1,-1;ORIG_FID \"ORIG_FID\" true true false 4 Long 0 0 ,First,#,Z:/globes/USERS/GIACOMO/protconn/data/ProtConn_jun2020.gdb/wdpa_flat_1km_final,ORIG_FID,-1,-1;Shape_Leng \"Shape_Leng\" false true true 8 Double 0 0 ,First,#,Z:/globes/USERS/GIACOMO/protconn/data/ProtConn_jun2020.gdb/wdpa_flat_1km_final,Shape_Length,-1,-1;Shape_Area \"Shape_Area\" false true true 8 Double 0 0 ,First,#,Z:/globes/USERS/GIACOMO/protconn/data/ProtConn_jun2020.gdb/wdpa_flat_1km_final,Shape_Area,-1,-1')\n",
    "arcpy.TableToTable_conversion(in_rows=PA_final, out_path=outpath, out_name=outfile_attr)\n",
    "print(\"Attribute Table exported in .txt\")"
   ]
  },
  {
   "cell_type": "code",
   "execution_count": 63,
   "metadata": {},
   "outputs": [
    {
     "data": {
      "text/plain": [
       "'C:\\\\Users\\\\wyang80\\\\Desktop\\\\ProtConn\\\\data'"
      ]
     },
     "execution_count": 63,
     "metadata": {},
     "output_type": "execute_result"
    }
   ],
   "source": [
    "outpath"
   ]
  },
  {
   "cell_type": "code",
   "execution_count": 64,
   "metadata": {},
   "outputs": [
    {
     "data": {
      "text/plain": [
       "'CONTUS_attrib_table_PA_mexcanus_final_april2022.txt'"
      ]
     },
     "execution_count": 64,
     "metadata": {},
     "output_type": "execute_result"
    }
   ],
   "source": [
    "outfile_attr"
   ]
  }
 ],
 "metadata": {
  "kernelspec": {
   "display_name": "Python 3",
   "language": "python",
   "name": "python3"
  },
  "language_info": {
   "codemirror_mode": {
    "name": "ipython",
    "version": 3
   },
   "file_extension": ".py",
   "mimetype": "text/x-python",
   "name": "python",
   "nbconvert_exporter": "python",
   "pygments_lexer": "ipython3",
   "version": "3.8.8"
  }
 },
 "nbformat": 4,
 "nbformat_minor": 2
}
